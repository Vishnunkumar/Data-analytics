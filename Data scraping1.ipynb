{
 "cells": [
  {
   "cell_type": "code",
   "execution_count": 1,
   "metadata": {},
   "outputs": [],
   "source": [
    "from bs4 import BeautifulSoup as BS\n",
    "import requests"
   ]
  },
  {
   "cell_type": "code",
   "execution_count": 2,
   "metadata": {},
   "outputs": [],
   "source": [
    "r = requests.get(\"https://www.nytimes.com/interactive/2017/06/23/opinion/trumps-lies.html\")\n",
    "# r stores the values from the link"
   ]
  },
  {
   "cell_type": "code",
   "execution_count": 3,
   "metadata": {},
   "outputs": [
    {
     "name": "stdout",
     "output_type": "stream",
     "text": [
      "a name=\"twitter:site\" value=\"@nytimes\" />\n",
      "<meta name=\"sourceApp\" content=\"nyt-v5\" />\n",
      "<meta name=\"applicationName\" content=\"interactive\" id=\"applicationName\" />\n",
      "<meta name=\"foundation-build-id\" content=\"nyt-v5\" id=\"foundation-build-id\" />\n",
      "<link rel=\"canonical\" href=\"https://www.nytimes.com/interactive/2017/06/23/opinion/trumps-lies.html\" />\n",
      "<meta name=\"PT\" content=\"Multimedia\" />\n",
      "<meta name=\"PST\" content=\"Interactive\" />\n",
      "<meta name=\"tom\" content=\"interactive_feature\" />\n",
      "<meta name=\"hdl\" content=\"President Trump’s Lies, the Definitive List\" />\n",
      "<meta name=\"slug\" content=\"trumps-lies\" />\n",
      "<meta name=\"lp\" content=\"We have catalogued nearly every outright lie the president has told publicly since taking the oath of office.\" />\n",
      "<meta name=\"col\" content=\"\" id=\"column-name\" />\n",
      "<meta name=\"dfp-ad-unit-path\" content=\"opinion\" />\n",
      "<meta name=\"keywords\" content=\"Trump, Donald J,Rumors and Misinformation,United States Politics and Government\" />\n",
      "\n",
      "<meta property=\"article:collection\" content=\"https://st\n"
     ]
    }
   ],
   "source": [
    "print(r.text[2000:3000]) #prints the first 999 words of the source "
   ]
  },
  {
   "cell_type": "code",
   "execution_count": 4,
   "metadata": {},
   "outputs": [],
   "source": [
    "soup = BS(r.text, 'html.parser')"
   ]
  },
  {
   "cell_type": "code",
   "execution_count": 53,
   "metadata": {},
   "outputs": [],
   "source": [
    "#storing all the \n",
    "results = soup.find_all('span', attrs = {'class':'short-desc'})"
   ]
  },
  {
   "cell_type": "code",
   "execution_count": 54,
   "metadata": {},
   "outputs": [
    {
     "data": {
      "text/plain": [
       "180"
      ]
     },
     "execution_count": 54,
     "metadata": {},
     "output_type": "execute_result"
    }
   ],
   "source": [
    "len(results)"
   ]
  },
  {
   "cell_type": "code",
   "execution_count": 55,
   "metadata": {},
   "outputs": [
    {
     "data": {
      "text/plain": [
       "[<span class=\"short-desc\"><strong>Jan. 21 </strong>“I wasn't a fan of Iraq. I didn't want to go into Iraq.” <span class=\"short-truth\"><a href=\"https://www.buzzfeed.com/andrewkaczynski/in-2002-donald-trump-said-he-supported-invading-iraq-on-the\" target=\"_blank\">(He was for an invasion before he was against it.)</a></span></span>,\n",
       " <span class=\"short-desc\"><strong>Jan. 21 </strong>“A reporter for Time magazine — and I have been on their cover 14 or 15 times. I think we have the all-time record in the history of Time magazine.” <span class=\"short-truth\"><a href=\"http://nation.time.com/2013/11/06/10-things-you-didnt-know-about-time/\" target=\"_blank\">(Trump was on the cover 11 times and Nixon appeared 55 times.)</a></span></span>,\n",
       " <span class=\"short-desc\"><strong>Jan. 23 </strong>“Between 3 million and 5 million illegal votes caused me to lose the popular vote.” <span class=\"short-truth\"><a href=\"https://www.nytimes.com/2017/01/23/us/politics/donald-trump-congress-democrats.html\" target=\"_blank\">(There's no evidence of illegal voting.)</a></span></span>]"
      ]
     },
     "execution_count": 55,
     "metadata": {},
     "output_type": "execute_result"
    }
   ],
   "source": [
    "results[0:3]"
   ]
  },
  {
   "cell_type": "code",
   "execution_count": 56,
   "metadata": {},
   "outputs": [
    {
     "data": {
      "text/plain": [
       "<span class=\"short-desc\"><strong>Nov. 11 </strong>“I'd rather have him  – you know, work with him on the Ukraine than standing and arguing about whether or not  – because that whole thing was set up by the Democrats.” <span class=\"short-truth\"><a href=\"https://www.nytimes.com/interactive/2017/12/10/us/politics/trump-and-russia.html\" target=\"_blank\">(There is no evidence that Democrats \"set up\" Russian interference in the election.)</a></span></span>"
      ]
     },
     "execution_count": 56,
     "metadata": {},
     "output_type": "execute_result"
    }
   ],
   "source": [
    "results[-1]"
   ]
  },
  {
   "cell_type": "code",
   "execution_count": 57,
   "metadata": {},
   "outputs": [
    {
     "data": {
      "text/plain": [
       "<span class=\"short-desc\"><strong>Jan. 21 </strong>“I wasn't a fan of Iraq. I didn't want to go into Iraq.” <span class=\"short-truth\"><a href=\"https://www.buzzfeed.com/andrewkaczynski/in-2002-donald-trump-said-he-supported-invading-iraq-on-the\" target=\"_blank\">(He was for an invasion before he was against it.)</a></span></span>"
      ]
     },
     "execution_count": 57,
     "metadata": {},
     "output_type": "execute_result"
    }
   ],
   "source": [
    "f = results[0]\n",
    "f"
   ]
  },
  {
   "cell_type": "code",
   "execution_count": 58,
   "metadata": {},
   "outputs": [
    {
     "data": {
      "text/plain": [
       "<strong>Jan. 21 </strong>"
      ]
     },
     "execution_count": 58,
     "metadata": {},
     "output_type": "execute_result"
    }
   ],
   "source": [
    "#contents attribute gives the parts of the list which are nested in them\n",
    "#extracting the date(strong attribute)\n",
    "f.contents[0]"
   ]
  },
  {
   "cell_type": "code",
   "execution_count": 59,
   "metadata": {},
   "outputs": [
    {
     "data": {
      "text/plain": [
       "'Jan. 21\\xa0'"
      ]
     },
     "execution_count": 59,
     "metadata": {},
     "output_type": "execute_result"
    }
   ],
   "source": [
    "#Gives the text without the html\n",
    "f.contents[0].text"
   ]
  },
  {
   "cell_type": "code",
   "execution_count": 60,
   "metadata": {},
   "outputs": [
    {
     "data": {
      "text/plain": [
       "'Jan. 21'"
      ]
     },
     "execution_count": 60,
     "metadata": {},
     "output_type": "execute_result"
    }
   ],
   "source": [
    "#to remove'\\xa0'\n",
    "f.contents[0].text[0:-1]"
   ]
  },
  {
   "cell_type": "code",
   "execution_count": 61,
   "metadata": {},
   "outputs": [
    {
     "data": {
      "text/plain": [
       "'Jan. 21,2017'"
      ]
     },
     "execution_count": 61,
     "metadata": {},
     "output_type": "execute_result"
    }
   ],
   "source": [
    "f.contents[0].text[0:-1]+',2017'"
   ]
  },
  {
   "cell_type": "code",
   "execution_count": 62,
   "metadata": {},
   "outputs": [
    {
     "data": {
      "text/plain": [
       "<span class=\"short-desc\"><strong>Jan. 21 </strong>“I wasn't a fan of Iraq. I didn't want to go into Iraq.” <span class=\"short-truth\"><a href=\"https://www.buzzfeed.com/andrewkaczynski/in-2002-donald-trump-said-he-supported-invading-iraq-on-the\" target=\"_blank\">(He was for an invasion before he was against it.)</a></span></span>"
      ]
     },
     "execution_count": 62,
     "metadata": {},
     "output_type": "execute_result"
    }
   ],
   "source": [
    "#extracting the lie\n",
    "f"
   ]
  },
  {
   "cell_type": "code",
   "execution_count": 63,
   "metadata": {},
   "outputs": [
    {
     "data": {
      "text/plain": [
       "[<strong>Jan. 21 </strong>,\n",
       " \"“I wasn't a fan of Iraq. I didn't want to go into Iraq.” \",\n",
       " <span class=\"short-truth\"><a href=\"https://www.buzzfeed.com/andrewkaczynski/in-2002-donald-trump-said-he-supported-invading-iraq-on-the\" target=\"_blank\">(He was for an invasion before he was against it.)</a></span>]"
      ]
     },
     "execution_count": 63,
     "metadata": {},
     "output_type": "execute_result"
    }
   ],
   "source": [
    "#to find the lie \n",
    "f.contents"
   ]
  },
  {
   "cell_type": "code",
   "execution_count": 64,
   "metadata": {},
   "outputs": [
    {
     "data": {
      "text/plain": [
       "\"“I wasn't a fan of Iraq. I didn't want to go into Iraq.” \""
      ]
     },
     "execution_count": 64,
     "metadata": {},
     "output_type": "execute_result"
    }
   ],
   "source": [
    "#gives the second part of the list\n",
    "f.contents[1]"
   ]
  },
  {
   "cell_type": "code",
   "execution_count": 65,
   "metadata": {},
   "outputs": [
    {
     "data": {
      "text/plain": [
       "\"I wasn't a fan of Iraq. I didn't want to go into Iraq.\""
      ]
     },
     "execution_count": 65,
     "metadata": {},
     "output_type": "execute_result"
    }
   ],
   "source": [
    "f.contents[1][1:-2]"
   ]
  },
  {
   "cell_type": "code",
   "execution_count": 66,
   "metadata": {},
   "outputs": [
    {
     "data": {
      "text/plain": [
       "<a href=\"https://www.buzzfeed.com/andrewkaczynski/in-2002-donald-trump-said-he-supported-invading-iraq-on-the\" target=\"_blank\">(He was for an invasion before he was against it.)</a>"
      ]
     },
     "execution_count": 66,
     "metadata": {},
     "output_type": "execute_result"
    }
   ],
   "source": [
    "#extracting the explanation #finding the attribute \"a\" tag\n",
    "f.contents[2].find('a')"
   ]
  },
  {
   "cell_type": "code",
   "execution_count": 67,
   "metadata": {},
   "outputs": [
    {
     "data": {
      "text/plain": [
       "'(He was for an invasion before he was against it.)'"
      ]
     },
     "execution_count": 67,
     "metadata": {},
     "output_type": "execute_result"
    }
   ],
   "source": [
    "f.contents[2].find('a').text"
   ]
  },
  {
   "cell_type": "code",
   "execution_count": 68,
   "metadata": {},
   "outputs": [
    {
     "data": {
      "text/plain": [
       "50"
      ]
     },
     "execution_count": 68,
     "metadata": {},
     "output_type": "execute_result"
    }
   ],
   "source": [
    "len(f.contents[2].find('a').text)"
   ]
  },
  {
   "cell_type": "code",
   "execution_count": 69,
   "metadata": {},
   "outputs": [
    {
     "data": {
      "text/plain": [
       "'He was for an invasion before he was against it.'"
      ]
     },
     "execution_count": 69,
     "metadata": {},
     "output_type": "execute_result"
    }
   ],
   "source": [
    "f.contents[2].find('a').text[1:49]"
   ]
  },
  {
   "cell_type": "code",
   "execution_count": 70,
   "metadata": {},
   "outputs": [
    {
     "data": {
      "text/plain": [
       "<span class=\"short-truth\"><a href=\"https://www.buzzfeed.com/andrewkaczynski/in-2002-donald-trump-said-he-supported-invading-iraq-on-the\" target=\"_blank\">(He was for an invasion before he was against it.)</a></span>"
      ]
     },
     "execution_count": 70,
     "metadata": {},
     "output_type": "execute_result"
    }
   ],
   "source": [
    "#extracting the url\n",
    "f.contents[2]"
   ]
  },
  {
   "cell_type": "code",
   "execution_count": 71,
   "metadata": {},
   "outputs": [
    {
     "data": {
      "text/plain": [
       "'https://www.buzzfeed.com/andrewkaczynski/in-2002-donald-trump-said-he-supported-invading-iraq-on-the'"
      ]
     },
     "execution_count": 71,
     "metadata": {},
     "output_type": "execute_result"
    }
   ],
   "source": [
    "f.contents[2].find('a')['href']"
   ]
  },
  {
   "cell_type": "code",
   "execution_count": 72,
   "metadata": {},
   "outputs": [],
   "source": [
    "#find() used to find the matching tag\n",
    "#contents[] used to enlist the parts of the html "
   ]
  },
  {
   "cell_type": "code",
   "execution_count": 73,
   "metadata": {},
   "outputs": [],
   "source": [
    "#building the dataset\n",
    "records = []\n",
    "for result in results :\n",
    "    date = result.contents[0].text[0:-1]+',2017'\n",
    "    lie = result.contents[1][1:-2]\n",
    "    explain = result.contents[2].find('a').text[1:49]\n",
    "    url = result.contents[2].find('a')['href']\n",
    "    records.append((date,lie,explain,url))"
   ]
  },
  {
   "cell_type": "code",
   "execution_count": 74,
   "metadata": {},
   "outputs": [
    {
     "data": {
      "text/plain": [
       "180"
      ]
     },
     "execution_count": 74,
     "metadata": {},
     "output_type": "execute_result"
    }
   ],
   "source": [
    "len(records)"
   ]
  },
  {
   "cell_type": "code",
   "execution_count": 75,
   "metadata": {},
   "outputs": [
    {
     "data": {
      "text/plain": [
       "[('Jan. 21,2017',\n",
       "  \"I wasn't a fan of Iraq. I didn't want to go into Iraq.\",\n",
       "  'He was for an invasion before he was against it.',\n",
       "  'https://www.buzzfeed.com/andrewkaczynski/in-2002-donald-trump-said-he-supported-invading-iraq-on-the'),\n",
       " ('Jan. 21,2017',\n",
       "  'A reporter for Time magazine — and I have been on their cover 14 or 15 times. I think we have the all-time record in the history of Time magazine.',\n",
       "  'Trump was on the cover 11 times and Nixon appear',\n",
       "  'http://nation.time.com/2013/11/06/10-things-you-didnt-know-about-time/'),\n",
       " ('Jan. 23,2017',\n",
       "  'Between 3 million and 5 million illegal votes caused me to lose the popular vote.',\n",
       "  \"There's no evidence of illegal voting.)\",\n",
       "  'https://www.nytimes.com/2017/01/23/us/politics/donald-trump-congress-democrats.html')]"
      ]
     },
     "execution_count": 75,
     "metadata": {},
     "output_type": "execute_result"
    }
   ],
   "source": [
    "records[0:3]"
   ]
  },
  {
   "cell_type": "code",
   "execution_count": 76,
   "metadata": {},
   "outputs": [],
   "source": [
    "import pandas as ps"
   ]
  },
  {
   "cell_type": "code",
   "execution_count": 77,
   "metadata": {},
   "outputs": [],
   "source": [
    "#Creating a dataframe from the records we got\n",
    "TL = ps.DataFrame(records, columns=['date','lie','explain','url'])"
   ]
  },
  {
   "cell_type": "code",
   "execution_count": 78,
   "metadata": {},
   "outputs": [
    {
     "data": {
      "text/html": [
       "<div>\n",
       "<style scoped>\n",
       "    .dataframe tbody tr th:only-of-type {\n",
       "        vertical-align: middle;\n",
       "    }\n",
       "\n",
       "    .dataframe tbody tr th {\n",
       "        vertical-align: top;\n",
       "    }\n",
       "\n",
       "    .dataframe thead th {\n",
       "        text-align: right;\n",
       "    }\n",
       "</style>\n",
       "<table border=\"1\" class=\"dataframe\">\n",
       "  <thead>\n",
       "    <tr style=\"text-align: right;\">\n",
       "      <th></th>\n",
       "      <th>date</th>\n",
       "      <th>lie</th>\n",
       "      <th>explain</th>\n",
       "      <th>url</th>\n",
       "    </tr>\n",
       "  </thead>\n",
       "  <tbody>\n",
       "    <tr>\n",
       "      <th>0</th>\n",
       "      <td>Jan. 21,2017</td>\n",
       "      <td>I wasn't a fan of Iraq. I didn't want to go in...</td>\n",
       "      <td>He was for an invasion before he was against it.</td>\n",
       "      <td>https://www.buzzfeed.com/andrewkaczynski/in-20...</td>\n",
       "    </tr>\n",
       "    <tr>\n",
       "      <th>1</th>\n",
       "      <td>Jan. 21,2017</td>\n",
       "      <td>A reporter for Time magazine — and I have been...</td>\n",
       "      <td>Trump was on the cover 11 times and Nixon appear</td>\n",
       "      <td>http://nation.time.com/2013/11/06/10-things-yo...</td>\n",
       "    </tr>\n",
       "    <tr>\n",
       "      <th>2</th>\n",
       "      <td>Jan. 23,2017</td>\n",
       "      <td>Between 3 million and 5 million illegal votes ...</td>\n",
       "      <td>There's no evidence of illegal voting.)</td>\n",
       "      <td>https://www.nytimes.com/2017/01/23/us/politics...</td>\n",
       "    </tr>\n",
       "    <tr>\n",
       "      <th>3</th>\n",
       "      <td>Jan. 25,2017</td>\n",
       "      <td>Now, the audience was the biggest ever. But th...</td>\n",
       "      <td>Official aerial photos show Obama's 2009 inaugur</td>\n",
       "      <td>https://www.nytimes.com/2017/01/21/us/politics...</td>\n",
       "    </tr>\n",
       "    <tr>\n",
       "      <th>4</th>\n",
       "      <td>Jan. 25,2017</td>\n",
       "      <td>Take a look at the Pew reports (which show vot...</td>\n",
       "      <td>The report never mentioned voter fraud.)</td>\n",
       "      <td>https://www.nytimes.com/2017/01/24/us/politics...</td>\n",
       "    </tr>\n",
       "    <tr>\n",
       "      <th>5</th>\n",
       "      <td>Jan. 25,2017</td>\n",
       "      <td>You had millions of people that now aren't ins...</td>\n",
       "      <td>The real number is less than 1 million, accordin</td>\n",
       "      <td>https://www.nytimes.com/2017/03/13/us/politics...</td>\n",
       "    </tr>\n",
       "    <tr>\n",
       "      <th>6</th>\n",
       "      <td>Jan. 25,2017</td>\n",
       "      <td>So, look, when President Obama was there two w...</td>\n",
       "      <td>There were no gun homicide victims in Chicago th</td>\n",
       "      <td>https://www.dnainfo.com/chicago/2017-chicago-m...</td>\n",
       "    </tr>\n",
       "    <tr>\n",
       "      <th>7</th>\n",
       "      <td>Jan. 26,2017</td>\n",
       "      <td>We've taken in tens of thousands of people. We...</td>\n",
       "      <td>Vetting lasts up to two years.)</td>\n",
       "      <td>https://www.nytimes.com/interactive/2017/01/29...</td>\n",
       "    </tr>\n",
       "    <tr>\n",
       "      <th>8</th>\n",
       "      <td>Jan. 26,2017</td>\n",
       "      <td>I cut off hundreds of millions of dollars off ...</td>\n",
       "      <td>Most of the cuts were already planned.)</td>\n",
       "      <td>https://www.washingtonpost.com/news/fact-check...</td>\n",
       "    </tr>\n",
       "    <tr>\n",
       "      <th>9</th>\n",
       "      <td>Jan. 28,2017</td>\n",
       "      <td>The coverage about me in the @nytimes and the ...</td>\n",
       "      <td>It never apologized.)</td>\n",
       "      <td>https://www.nytimes.com/2016/11/13/us/election...</td>\n",
       "    </tr>\n",
       "    <tr>\n",
       "      <th>10</th>\n",
       "      <td>Jan. 29,2017</td>\n",
       "      <td>The Cuban-Americans, I got 84 percent of that ...</td>\n",
       "      <td>There is no support for this.)</td>\n",
       "      <td>http://www.pewresearch.org/fact-tank/2016/11/1...</td>\n",
       "    </tr>\n",
       "    <tr>\n",
       "      <th>11</th>\n",
       "      <td>Jan. 30,2017</td>\n",
       "      <td>Only 109 people out of 325,000 were detained a...</td>\n",
       "      <td>At least 746 people were detained and processed,</td>\n",
       "      <td>http://markets.on.nytimes.com/research/stocks/...</td>\n",
       "    </tr>\n",
       "    <tr>\n",
       "      <th>12</th>\n",
       "      <td>Feb. 3,2017</td>\n",
       "      <td>Professional anarchists, thugs and paid protes...</td>\n",
       "      <td>There is no evidence of paid protesters.)</td>\n",
       "      <td>https://www.nytimes.com/2017/01/28/nyregion/jf...</td>\n",
       "    </tr>\n",
       "    <tr>\n",
       "      <th>13</th>\n",
       "      <td>Feb. 4,2017</td>\n",
       "      <td>After being forced to apologize for its bad an...</td>\n",
       "      <td>It never apologized.)</td>\n",
       "      <td>https://www.nytimes.com/2016/11/13/us/election...</td>\n",
       "    </tr>\n",
       "    <tr>\n",
       "      <th>14</th>\n",
       "      <td>Feb. 5,2017</td>\n",
       "      <td>We had 109 people out of hundreds of thousands...</td>\n",
       "      <td>About 60,000 people were affected.)</td>\n",
       "      <td>http://www.politifact.com/truth-o-meter/statem...</td>\n",
       "    </tr>\n",
       "    <tr>\n",
       "      <th>15</th>\n",
       "      <td>Feb. 6,2017</td>\n",
       "      <td>I have already saved more than $700 million wh...</td>\n",
       "      <td>Much of the price drop was projected before Trum</td>\n",
       "      <td>https://www.washingtonpost.com/news/fact-check...</td>\n",
       "    </tr>\n",
       "    <tr>\n",
       "      <th>16</th>\n",
       "      <td>Feb. 6,2017</td>\n",
       "      <td>It's gotten to a point where it is not even be...</td>\n",
       "      <td>Terrorism has been reported on, often in detail.</td>\n",
       "      <td>https://www.nytimes.com/2017/02/07/us/politics...</td>\n",
       "    </tr>\n",
       "    <tr>\n",
       "      <th>17</th>\n",
       "      <td>Feb. 6,2017</td>\n",
       "      <td>The failing @nytimes was forced to apologize t...</td>\n",
       "      <td>It didn't apologize.)</td>\n",
       "      <td>https://www.nytimes.com/2016/11/13/us/election...</td>\n",
       "    </tr>\n",
       "    <tr>\n",
       "      <th>18</th>\n",
       "      <td>Feb. 6,2017</td>\n",
       "      <td>And the previous administration allowed it to ...</td>\n",
       "      <td>The group’s origins date to 2004.)</td>\n",
       "      <td>https://www.nytimes.com/2015/11/19/world/middl...</td>\n",
       "    </tr>\n",
       "    <tr>\n",
       "      <th>19</th>\n",
       "      <td>Feb. 7,2017</td>\n",
       "      <td>And yet the murder rate in our country is the ...</td>\n",
       "      <td>It was higher in the 1980s and '90s.)</td>\n",
       "      <td>http://www.politifact.com/truth-o-meter/statem...</td>\n",
       "    </tr>\n",
       "    <tr>\n",
       "      <th>20</th>\n",
       "      <td>Feb. 7,2017</td>\n",
       "      <td>I saved more than $600 million. I got involved...</td>\n",
       "      <td>The Defense Department projected this price drop</td>\n",
       "      <td>https://www.washingtonpost.com/news/fact-check...</td>\n",
       "    </tr>\n",
       "    <tr>\n",
       "      <th>21</th>\n",
       "      <td>Feb. 9,2017</td>\n",
       "      <td>Chris Cuomo, in his interview with Sen. Blumen...</td>\n",
       "      <td>It was part of Cuomo's first question.)</td>\n",
       "      <td>http://transcripts.cnn.com/TRANSCRIPTS/1702/09...</td>\n",
       "    </tr>\n",
       "    <tr>\n",
       "      <th>22</th>\n",
       "      <td>Feb. 9,2017</td>\n",
       "      <td>Sen. Richard Blumenthal now misrepresents what...</td>\n",
       "      <td>The Gorsuch comments were later corroborated.)</td>\n",
       "      <td>https://www.washingtonpost.com/news/fact-check...</td>\n",
       "    </tr>\n",
       "    <tr>\n",
       "      <th>23</th>\n",
       "      <td>Feb. 10,2017</td>\n",
       "      <td>I don’t know about it. I haven’t seen it. What...</td>\n",
       "      <td>Trump knew about Flynn's actions for weeks.)</td>\n",
       "      <td>http://www.factcheck.org/2017/02/trump-spins-f...</td>\n",
       "    </tr>\n",
       "    <tr>\n",
       "      <th>24</th>\n",
       "      <td>Feb. 12,2017</td>\n",
       "      <td>Just leaving Florida. Big crowds of enthusiast...</td>\n",
       "      <td>The media did cover it.)</td>\n",
       "      <td>http://www.palmbeachpost.com/news/national-gov...</td>\n",
       "    </tr>\n",
       "    <tr>\n",
       "      <th>25</th>\n",
       "      <td>Feb. 16,2017</td>\n",
       "      <td>We got 306 because people came out and voted l...</td>\n",
       "      <td>George H.W. Bush, Bill Clinton and Barack Obama</td>\n",
       "      <td>https://www.nytimes.com/2017/02/16/us/politics...</td>\n",
       "    </tr>\n",
       "    <tr>\n",
       "      <th>26</th>\n",
       "      <td>Feb. 16,2017</td>\n",
       "      <td>That’s the other thing that was wrong with the...</td>\n",
       "      <td>Delta's problems happened two days later.)</td>\n",
       "      <td>https://www.washingtonpost.com/news/fact-check...</td>\n",
       "    </tr>\n",
       "    <tr>\n",
       "      <th>27</th>\n",
       "      <td>Feb. 16,2017</td>\n",
       "      <td>Walmart announced it will create 10,000 jobs i...</td>\n",
       "      <td>The jobs are a result of its investment plans an</td>\n",
       "      <td>https://www.nytimes.com/interactive/2017/busin...</td>\n",
       "    </tr>\n",
       "    <tr>\n",
       "      <th>28</th>\n",
       "      <td>Feb. 16,2017</td>\n",
       "      <td>When WikiLeaks, which I had nothing to do with...</td>\n",
       "      <td>Not always. They have released classified inform</td>\n",
       "      <td>http://www.politifact.com/truth-o-meter/articl...</td>\n",
       "    </tr>\n",
       "    <tr>\n",
       "      <th>29</th>\n",
       "      <td>Feb. 16,2017</td>\n",
       "      <td>We had a very smooth rollout of the travel ban...</td>\n",
       "      <td>The rollout was chaotic.)</td>\n",
       "      <td>https://www.washingtonpost.com/news/fact-check...</td>\n",
       "    </tr>\n",
       "    <tr>\n",
       "      <th>...</th>\n",
       "      <td>...</td>\n",
       "      <td>...</td>\n",
       "      <td>...</td>\n",
       "      <td>...</td>\n",
       "    </tr>\n",
       "    <tr>\n",
       "      <th>150</th>\n",
       "      <td>Oct. 3,2017</td>\n",
       "      <td>But that's an expensive plane that you can't s...</td>\n",
       "      <td>The cost cuts were planned before he became pres</td>\n",
       "      <td>https://www.washingtonpost.com/news/fact-check...</td>\n",
       "    </tr>\n",
       "    <tr>\n",
       "      <th>151</th>\n",
       "      <td>Oct. 6,2017</td>\n",
       "      <td>I was able to reduce the price of the Lockheed...</td>\n",
       "      <td>The cost cuts were planned before he became pres</td>\n",
       "      <td>https://www.washingtonpost.com/news/fact-check...</td>\n",
       "    </tr>\n",
       "    <tr>\n",
       "      <th>152</th>\n",
       "      <td>Oct. 6,2017</td>\n",
       "      <td>We're the highest-taxed developed nation in th...</td>\n",
       "      <td>We're not.)</td>\n",
       "      <td>http://www.politifact.com/truth-o-meter/statem...</td>\n",
       "    </tr>\n",
       "    <tr>\n",
       "      <th>153</th>\n",
       "      <td>Oct. 6,2017</td>\n",
       "      <td>They also just said that there has been absolu...</td>\n",
       "      <td>The Senate didn't say that.)</td>\n",
       "      <td>http://www.cnn.com/TRANSCRIPTS/1710/04/ip.02.html</td>\n",
       "    </tr>\n",
       "    <tr>\n",
       "      <th>154</th>\n",
       "      <td>Oct. 6,2017</td>\n",
       "      <td>This tax cut and tax reform is going very well...</td>\n",
       "      <td>We're not.)</td>\n",
       "      <td>http://www.politifact.com/truth-o-meter/statem...</td>\n",
       "    </tr>\n",
       "    <tr>\n",
       "      <th>155</th>\n",
       "      <td>Oct. 7,2017</td>\n",
       "      <td>We're the highest-taxed nation in the world.</td>\n",
       "      <td>We're not.)</td>\n",
       "      <td>http://www.politifact.com/truth-o-meter/statem...</td>\n",
       "    </tr>\n",
       "    <tr>\n",
       "      <th>156</th>\n",
       "      <td>Oct. 7,2017</td>\n",
       "      <td>The Coast Guard, in Texas, and all over, but w...</td>\n",
       "      <td>The real number is smaller.)</td>\n",
       "      <td>https://content.govdelivery.com/accounts/USDHS...</td>\n",
       "    </tr>\n",
       "    <tr>\n",
       "      <th>157</th>\n",
       "      <td>Oct. 7,2017</td>\n",
       "      <td>Obama should have never gotten out the way he ...</td>\n",
       "      <td>The group’s origins date to 2004.)</td>\n",
       "      <td>https://www.nytimes.com/2015/11/19/world/middl...</td>\n",
       "    </tr>\n",
       "    <tr>\n",
       "      <th>158</th>\n",
       "      <td>Oct. 10,2017</td>\n",
       "      <td>The Failing @nytimes set Liddle' Bob Corker up...</td>\n",
       "      <td>Corker asked the Times reporter to record the ca</td>\n",
       "      <td>https://www.nytimes.com/2017/10/10/reader-cent...</td>\n",
       "    </tr>\n",
       "    <tr>\n",
       "      <th>159</th>\n",
       "      <td>Oct. 10,2017</td>\n",
       "      <td>We're the highest-taxed nation in the world.</td>\n",
       "      <td>We're not.)</td>\n",
       "      <td>http://www.politifact.com/truth-o-meter/statem...</td>\n",
       "    </tr>\n",
       "    <tr>\n",
       "      <th>160</th>\n",
       "      <td>Oct. 11,2017</td>\n",
       "      <td>We have missiles that can knock out a missile ...</td>\n",
       "      <td>The effectiveness rate is about 60 percent.)</td>\n",
       "      <td>https://warontherocks.com/2017/10/deadly-overc...</td>\n",
       "    </tr>\n",
       "    <tr>\n",
       "      <th>161</th>\n",
       "      <td>Oct. 16,2017</td>\n",
       "      <td>We're the highest-taxed country in the world.</td>\n",
       "      <td>We're not.)</td>\n",
       "      <td>http://www.politifact.com/truth-o-meter/statem...</td>\n",
       "    </tr>\n",
       "    <tr>\n",
       "      <th>162</th>\n",
       "      <td>Oct. 16,2017</td>\n",
       "      <td>I hear that Ireland is going to be reducing th...</td>\n",
       "      <td>Ireland has no plans to cut its tax rate.)</td>\n",
       "      <td>https://www.snopes.com/trump-ireland-tax/</td>\n",
       "    </tr>\n",
       "    <tr>\n",
       "      <th>163</th>\n",
       "      <td>Oct. 16,2017</td>\n",
       "      <td>If you look at President Obama and other presi...</td>\n",
       "      <td>They did call families of soldiers killed in act</td>\n",
       "      <td>https://www.nytimes.com/2017/10/16/us/politics...</td>\n",
       "    </tr>\n",
       "    <tr>\n",
       "      <th>164</th>\n",
       "      <td>Oct. 16,2017</td>\n",
       "      <td>All I can say is it's totally fake news, just ...</td>\n",
       "      <td>Trump himself has bragged about groping women.)</td>\n",
       "      <td>https://www.washingtonpost.com/news/fact-check...</td>\n",
       "    </tr>\n",
       "    <tr>\n",
       "      <th>165</th>\n",
       "      <td>Oct. 17,2017</td>\n",
       "      <td>We're the highest taxed nation in the world.</td>\n",
       "      <td>We're not.)</td>\n",
       "      <td>http://www.politifact.com/truth-o-meter/statem...</td>\n",
       "    </tr>\n",
       "    <tr>\n",
       "      <th>166</th>\n",
       "      <td>Oct. 17,2017</td>\n",
       "      <td>Right now, we are the highest-taxed nation any...</td>\n",
       "      <td>We're not.)</td>\n",
       "      <td>http://www.politifact.com/truth-o-meter/statem...</td>\n",
       "    </tr>\n",
       "    <tr>\n",
       "      <th>167</th>\n",
       "      <td>Oct. 17,2017</td>\n",
       "      <td>As far as I'm concerned, I think we're really ...</td>\n",
       "      <td>Taxes in the U.S. are lower than in most develop</td>\n",
       "      <td>http://www.politifact.com/truth-o-meter/statem...</td>\n",
       "    </tr>\n",
       "    <tr>\n",
       "      <th>168</th>\n",
       "      <td>Oct. 17,2017</td>\n",
       "      <td>We're the highest-taxed nation in the world. W...</td>\n",
       "      <td>We're not.)</td>\n",
       "      <td>http://www.politifact.com/truth-o-meter/statem...</td>\n",
       "    </tr>\n",
       "    <tr>\n",
       "      <th>169</th>\n",
       "      <td>Oct. 17,2017</td>\n",
       "      <td>Well, we're the highest-taxed nation in the wo...</td>\n",
       "      <td>We're not.)</td>\n",
       "      <td>http://www.politifact.com/truth-o-meter/statem...</td>\n",
       "    </tr>\n",
       "    <tr>\n",
       "      <th>170</th>\n",
       "      <td>Oct. 17,2017</td>\n",
       "      <td>I wish President Obama didn't get out the way ...</td>\n",
       "      <td>The group’s origins date to 2004.)</td>\n",
       "      <td>https://www.nytimes.com/2015/11/19/world/middl...</td>\n",
       "    </tr>\n",
       "    <tr>\n",
       "      <th>171</th>\n",
       "      <td>Oct. 18,2017</td>\n",
       "      <td>Democrat Congresswoman totally fabricated what...</td>\n",
       "      <td>The wife confirmed Representative Frederica Wils</td>\n",
       "      <td>http://time.com/4993045/myeshia-johnson-donald...</td>\n",
       "    </tr>\n",
       "    <tr>\n",
       "      <th>172</th>\n",
       "      <td>Oct. 18,2017</td>\n",
       "      <td>The Coast Guard in Texas saved 16,000 lives.</td>\n",
       "      <td>The real number was smaller.)</td>\n",
       "      <td>https://content.govdelivery.com/accounts/USDHS...</td>\n",
       "    </tr>\n",
       "    <tr>\n",
       "      <th>173</th>\n",
       "      <td>Oct. 18,2017</td>\n",
       "      <td>Nobody has ever heard of a five hitting land.</td>\n",
       "      <td>Category 5 storms have hit land before.)</td>\n",
       "      <td>http://www.cnn.com/2017/09/07/us/three-categor...</td>\n",
       "    </tr>\n",
       "    <tr>\n",
       "      <th>174</th>\n",
       "      <td>Oct. 24,2017</td>\n",
       "      <td>Under our plan, more than 30 million Americans...</td>\n",
       "      <td>The real number is estimated to be less than 1 m</td>\n",
       "      <td>http://www.businessinsider.com/trump-small-bus...</td>\n",
       "    </tr>\n",
       "    <tr>\n",
       "      <th>175</th>\n",
       "      <td>Oct. 25,2017</td>\n",
       "      <td>We have trade deficits with almost everybody.</td>\n",
       "      <td>We have trade surpluses with more than 100 count</td>\n",
       "      <td>https://www.bea.gov/newsreleases/international...</td>\n",
       "    </tr>\n",
       "    <tr>\n",
       "      <th>176</th>\n",
       "      <td>Oct. 27,2017</td>\n",
       "      <td>Wacky &amp; totally unhinged Tom Steyer, who has b...</td>\n",
       "      <td>Steyer has financially supported many winning ca</td>\n",
       "      <td>https://www.opensecrets.org/donor-lookup/resul...</td>\n",
       "    </tr>\n",
       "    <tr>\n",
       "      <th>177</th>\n",
       "      <td>Nov. 1,2017</td>\n",
       "      <td>Again, we're the highest-taxed nation, just ab...</td>\n",
       "      <td>We're not.)</td>\n",
       "      <td>http://www.politifact.com/truth-o-meter/statem...</td>\n",
       "    </tr>\n",
       "    <tr>\n",
       "      <th>178</th>\n",
       "      <td>Nov. 7,2017</td>\n",
       "      <td>When you look at the city with the strongest g...</td>\n",
       "      <td>Several other cities, including New York and Los</td>\n",
       "      <td>http://www.politifact.com/truth-o-meter/statem...</td>\n",
       "    </tr>\n",
       "    <tr>\n",
       "      <th>179</th>\n",
       "      <td>Nov. 11,2017</td>\n",
       "      <td>I'd rather have him  – you know, work with him...</td>\n",
       "      <td>There is no evidence that Democrats \"set up\" Rus</td>\n",
       "      <td>https://www.nytimes.com/interactive/2017/12/10...</td>\n",
       "    </tr>\n",
       "  </tbody>\n",
       "</table>\n",
       "<p>180 rows × 4 columns</p>\n",
       "</div>"
      ],
      "text/plain": [
       "             date                                                lie  \\\n",
       "0    Jan. 21,2017  I wasn't a fan of Iraq. I didn't want to go in...   \n",
       "1    Jan. 21,2017  A reporter for Time magazine — and I have been...   \n",
       "2    Jan. 23,2017  Between 3 million and 5 million illegal votes ...   \n",
       "3    Jan. 25,2017  Now, the audience was the biggest ever. But th...   \n",
       "4    Jan. 25,2017  Take a look at the Pew reports (which show vot...   \n",
       "5    Jan. 25,2017  You had millions of people that now aren't ins...   \n",
       "6    Jan. 25,2017  So, look, when President Obama was there two w...   \n",
       "7    Jan. 26,2017  We've taken in tens of thousands of people. We...   \n",
       "8    Jan. 26,2017  I cut off hundreds of millions of dollars off ...   \n",
       "9    Jan. 28,2017  The coverage about me in the @nytimes and the ...   \n",
       "10   Jan. 29,2017  The Cuban-Americans, I got 84 percent of that ...   \n",
       "11   Jan. 30,2017  Only 109 people out of 325,000 were detained a...   \n",
       "12    Feb. 3,2017  Professional anarchists, thugs and paid protes...   \n",
       "13    Feb. 4,2017  After being forced to apologize for its bad an...   \n",
       "14    Feb. 5,2017  We had 109 people out of hundreds of thousands...   \n",
       "15    Feb. 6,2017  I have already saved more than $700 million wh...   \n",
       "16    Feb. 6,2017  It's gotten to a point where it is not even be...   \n",
       "17    Feb. 6,2017  The failing @nytimes was forced to apologize t...   \n",
       "18    Feb. 6,2017  And the previous administration allowed it to ...   \n",
       "19    Feb. 7,2017  And yet the murder rate in our country is the ...   \n",
       "20    Feb. 7,2017  I saved more than $600 million. I got involved...   \n",
       "21    Feb. 9,2017  Chris Cuomo, in his interview with Sen. Blumen...   \n",
       "22    Feb. 9,2017  Sen. Richard Blumenthal now misrepresents what...   \n",
       "23   Feb. 10,2017  I don’t know about it. I haven’t seen it. What...   \n",
       "24   Feb. 12,2017  Just leaving Florida. Big crowds of enthusiast...   \n",
       "25   Feb. 16,2017  We got 306 because people came out and voted l...   \n",
       "26   Feb. 16,2017  That’s the other thing that was wrong with the...   \n",
       "27   Feb. 16,2017  Walmart announced it will create 10,000 jobs i...   \n",
       "28   Feb. 16,2017  When WikiLeaks, which I had nothing to do with...   \n",
       "29   Feb. 16,2017  We had a very smooth rollout of the travel ban...   \n",
       "..            ...                                                ...   \n",
       "150   Oct. 3,2017  But that's an expensive plane that you can't s...   \n",
       "151   Oct. 6,2017  I was able to reduce the price of the Lockheed...   \n",
       "152   Oct. 6,2017  We're the highest-taxed developed nation in th...   \n",
       "153   Oct. 6,2017  They also just said that there has been absolu...   \n",
       "154   Oct. 6,2017  This tax cut and tax reform is going very well...   \n",
       "155   Oct. 7,2017       We're the highest-taxed nation in the world.   \n",
       "156   Oct. 7,2017  The Coast Guard, in Texas, and all over, but w...   \n",
       "157   Oct. 7,2017  Obama should have never gotten out the way he ...   \n",
       "158  Oct. 10,2017  The Failing @nytimes set Liddle' Bob Corker up...   \n",
       "159  Oct. 10,2017       We're the highest-taxed nation in the world.   \n",
       "160  Oct. 11,2017  We have missiles that can knock out a missile ...   \n",
       "161  Oct. 16,2017      We're the highest-taxed country in the world.   \n",
       "162  Oct. 16,2017  I hear that Ireland is going to be reducing th...   \n",
       "163  Oct. 16,2017  If you look at President Obama and other presi...   \n",
       "164  Oct. 16,2017  All I can say is it's totally fake news, just ...   \n",
       "165  Oct. 17,2017       We're the highest taxed nation in the world.   \n",
       "166  Oct. 17,2017  Right now, we are the highest-taxed nation any...   \n",
       "167  Oct. 17,2017  As far as I'm concerned, I think we're really ...   \n",
       "168  Oct. 17,2017  We're the highest-taxed nation in the world. W...   \n",
       "169  Oct. 17,2017  Well, we're the highest-taxed nation in the wo...   \n",
       "170  Oct. 17,2017  I wish President Obama didn't get out the way ...   \n",
       "171  Oct. 18,2017  Democrat Congresswoman totally fabricated what...   \n",
       "172  Oct. 18,2017       The Coast Guard in Texas saved 16,000 lives.   \n",
       "173  Oct. 18,2017      Nobody has ever heard of a five hitting land.   \n",
       "174  Oct. 24,2017  Under our plan, more than 30 million Americans...   \n",
       "175  Oct. 25,2017      We have trade deficits with almost everybody.   \n",
       "176  Oct. 27,2017  Wacky & totally unhinged Tom Steyer, who has b...   \n",
       "177   Nov. 1,2017  Again, we're the highest-taxed nation, just ab...   \n",
       "178   Nov. 7,2017  When you look at the city with the strongest g...   \n",
       "179  Nov. 11,2017  I'd rather have him  – you know, work with him...   \n",
       "\n",
       "                                              explain  \\\n",
       "0    He was for an invasion before he was against it.   \n",
       "1    Trump was on the cover 11 times and Nixon appear   \n",
       "2             There's no evidence of illegal voting.)   \n",
       "3    Official aerial photos show Obama's 2009 inaugur   \n",
       "4            The report never mentioned voter fraud.)   \n",
       "5    The real number is less than 1 million, accordin   \n",
       "6    There were no gun homicide victims in Chicago th   \n",
       "7                     Vetting lasts up to two years.)   \n",
       "8             Most of the cuts were already planned.)   \n",
       "9                               It never apologized.)   \n",
       "10                     There is no support for this.)   \n",
       "11   At least 746 people were detained and processed,   \n",
       "12          There is no evidence of paid protesters.)   \n",
       "13                              It never apologized.)   \n",
       "14                About 60,000 people were affected.)   \n",
       "15   Much of the price drop was projected before Trum   \n",
       "16   Terrorism has been reported on, often in detail.   \n",
       "17                              It didn't apologize.)   \n",
       "18                 The group’s origins date to 2004.)   \n",
       "19              It was higher in the 1980s and '90s.)   \n",
       "20   The Defense Department projected this price drop   \n",
       "21            It was part of Cuomo's first question.)   \n",
       "22     The Gorsuch comments were later corroborated.)   \n",
       "23       Trump knew about Flynn's actions for weeks.)   \n",
       "24                           The media did cover it.)   \n",
       "25   George H.W. Bush, Bill Clinton and Barack Obama    \n",
       "26         Delta's problems happened two days later.)   \n",
       "27   The jobs are a result of its investment plans an   \n",
       "28   Not always. They have released classified inform   \n",
       "29                          The rollout was chaotic.)   \n",
       "..                                                ...   \n",
       "150  The cost cuts were planned before he became pres   \n",
       "151  The cost cuts were planned before he became pres   \n",
       "152                                       We're not.)   \n",
       "153                      The Senate didn't say that.)   \n",
       "154                                       We're not.)   \n",
       "155                                       We're not.)   \n",
       "156                      The real number is smaller.)   \n",
       "157                The group’s origins date to 2004.)   \n",
       "158  Corker asked the Times reporter to record the ca   \n",
       "159                                       We're not.)   \n",
       "160      The effectiveness rate is about 60 percent.)   \n",
       "161                                       We're not.)   \n",
       "162        Ireland has no plans to cut its tax rate.)   \n",
       "163  They did call families of soldiers killed in act   \n",
       "164   Trump himself has bragged about groping women.)   \n",
       "165                                       We're not.)   \n",
       "166                                       We're not.)   \n",
       "167  Taxes in the U.S. are lower than in most develop   \n",
       "168                                       We're not.)   \n",
       "169                                       We're not.)   \n",
       "170                The group’s origins date to 2004.)   \n",
       "171  The wife confirmed Representative Frederica Wils   \n",
       "172                     The real number was smaller.)   \n",
       "173          Category 5 storms have hit land before.)   \n",
       "174  The real number is estimated to be less than 1 m   \n",
       "175  We have trade surpluses with more than 100 count   \n",
       "176  Steyer has financially supported many winning ca   \n",
       "177                                       We're not.)   \n",
       "178  Several other cities, including New York and Los   \n",
       "179  There is no evidence that Democrats \"set up\" Rus   \n",
       "\n",
       "                                                   url  \n",
       "0    https://www.buzzfeed.com/andrewkaczynski/in-20...  \n",
       "1    http://nation.time.com/2013/11/06/10-things-yo...  \n",
       "2    https://www.nytimes.com/2017/01/23/us/politics...  \n",
       "3    https://www.nytimes.com/2017/01/21/us/politics...  \n",
       "4    https://www.nytimes.com/2017/01/24/us/politics...  \n",
       "5    https://www.nytimes.com/2017/03/13/us/politics...  \n",
       "6    https://www.dnainfo.com/chicago/2017-chicago-m...  \n",
       "7    https://www.nytimes.com/interactive/2017/01/29...  \n",
       "8    https://www.washingtonpost.com/news/fact-check...  \n",
       "9    https://www.nytimes.com/2016/11/13/us/election...  \n",
       "10   http://www.pewresearch.org/fact-tank/2016/11/1...  \n",
       "11   http://markets.on.nytimes.com/research/stocks/...  \n",
       "12   https://www.nytimes.com/2017/01/28/nyregion/jf...  \n",
       "13   https://www.nytimes.com/2016/11/13/us/election...  \n",
       "14   http://www.politifact.com/truth-o-meter/statem...  \n",
       "15   https://www.washingtonpost.com/news/fact-check...  \n",
       "16   https://www.nytimes.com/2017/02/07/us/politics...  \n",
       "17   https://www.nytimes.com/2016/11/13/us/election...  \n",
       "18   https://www.nytimes.com/2015/11/19/world/middl...  \n",
       "19   http://www.politifact.com/truth-o-meter/statem...  \n",
       "20   https://www.washingtonpost.com/news/fact-check...  \n",
       "21   http://transcripts.cnn.com/TRANSCRIPTS/1702/09...  \n",
       "22   https://www.washingtonpost.com/news/fact-check...  \n",
       "23   http://www.factcheck.org/2017/02/trump-spins-f...  \n",
       "24   http://www.palmbeachpost.com/news/national-gov...  \n",
       "25   https://www.nytimes.com/2017/02/16/us/politics...  \n",
       "26   https://www.washingtonpost.com/news/fact-check...  \n",
       "27   https://www.nytimes.com/interactive/2017/busin...  \n",
       "28   http://www.politifact.com/truth-o-meter/articl...  \n",
       "29   https://www.washingtonpost.com/news/fact-check...  \n",
       "..                                                 ...  \n",
       "150  https://www.washingtonpost.com/news/fact-check...  \n",
       "151  https://www.washingtonpost.com/news/fact-check...  \n",
       "152  http://www.politifact.com/truth-o-meter/statem...  \n",
       "153  http://www.cnn.com/TRANSCRIPTS/1710/04/ip.02.html  \n",
       "154  http://www.politifact.com/truth-o-meter/statem...  \n",
       "155  http://www.politifact.com/truth-o-meter/statem...  \n",
       "156  https://content.govdelivery.com/accounts/USDHS...  \n",
       "157  https://www.nytimes.com/2015/11/19/world/middl...  \n",
       "158  https://www.nytimes.com/2017/10/10/reader-cent...  \n",
       "159  http://www.politifact.com/truth-o-meter/statem...  \n",
       "160  https://warontherocks.com/2017/10/deadly-overc...  \n",
       "161  http://www.politifact.com/truth-o-meter/statem...  \n",
       "162          https://www.snopes.com/trump-ireland-tax/  \n",
       "163  https://www.nytimes.com/2017/10/16/us/politics...  \n",
       "164  https://www.washingtonpost.com/news/fact-check...  \n",
       "165  http://www.politifact.com/truth-o-meter/statem...  \n",
       "166  http://www.politifact.com/truth-o-meter/statem...  \n",
       "167  http://www.politifact.com/truth-o-meter/statem...  \n",
       "168  http://www.politifact.com/truth-o-meter/statem...  \n",
       "169  http://www.politifact.com/truth-o-meter/statem...  \n",
       "170  https://www.nytimes.com/2015/11/19/world/middl...  \n",
       "171  http://time.com/4993045/myeshia-johnson-donald...  \n",
       "172  https://content.govdelivery.com/accounts/USDHS...  \n",
       "173  http://www.cnn.com/2017/09/07/us/three-categor...  \n",
       "174  http://www.businessinsider.com/trump-small-bus...  \n",
       "175  https://www.bea.gov/newsreleases/international...  \n",
       "176  https://www.opensecrets.org/donor-lookup/resul...  \n",
       "177  http://www.politifact.com/truth-o-meter/statem...  \n",
       "178  http://www.politifact.com/truth-o-meter/statem...  \n",
       "179  https://www.nytimes.com/interactive/2017/12/10...  \n",
       "\n",
       "[180 rows x 4 columns]"
      ]
     },
     "execution_count": 78,
     "metadata": {},
     "output_type": "execute_result"
    }
   ],
   "source": [
    "TL"
   ]
  },
  {
   "cell_type": "code",
   "execution_count": 80,
   "metadata": {},
   "outputs": [],
   "source": [
    "#Converting the format of the date_time into pandas type\n",
    "TL.to_csv(\"Trumplies.csv\",encoding='utf-8')"
   ]
  },
  {
   "cell_type": "code",
   "execution_count": 39,
   "metadata": {
    "collapsed": true
   },
   "outputs": [
    {
     "data": {
      "text/html": [
       "<div>\n",
       "<style scoped>\n",
       "    .dataframe tbody tr th:only-of-type {\n",
       "        vertical-align: middle;\n",
       "    }\n",
       "\n",
       "    .dataframe tbody tr th {\n",
       "        vertical-align: top;\n",
       "    }\n",
       "\n",
       "    .dataframe thead th {\n",
       "        text-align: right;\n",
       "    }\n",
       "</style>\n",
       "<table border=\"1\" class=\"dataframe\">\n",
       "  <thead>\n",
       "    <tr style=\"text-align: right;\">\n",
       "      <th></th>\n",
       "      <th>date</th>\n",
       "      <th>lie</th>\n",
       "      <th>explain</th>\n",
       "      <th>url</th>\n",
       "    </tr>\n",
       "  </thead>\n",
       "  <tbody>\n",
       "    <tr>\n",
       "      <th>0</th>\n",
       "      <td>Jan. 21,2017</td>\n",
       "      <td>I wasn't a fan of Iraq. I didn't want to go in...</td>\n",
       "      <td>He was for an invasion before he was against it.</td>\n",
       "      <td>https://www.buzzfeed.com/andrewkaczynski/in-20...</td>\n",
       "    </tr>\n",
       "    <tr>\n",
       "      <th>1</th>\n",
       "      <td>Jan. 21,2017</td>\n",
       "      <td>A reporter for Time magazine — and I have been...</td>\n",
       "      <td>Trump was on the cover 11 times and Nixon appear</td>\n",
       "      <td>http://nation.time.com/2013/11/06/10-things-yo...</td>\n",
       "    </tr>\n",
       "    <tr>\n",
       "      <th>2</th>\n",
       "      <td>Jan. 23,2017</td>\n",
       "      <td>Between 3 million and 5 million illegal votes ...</td>\n",
       "      <td>There's no evidence of illegal voting.)</td>\n",
       "      <td>https://www.nytimes.com/2017/01/23/us/politics...</td>\n",
       "    </tr>\n",
       "    <tr>\n",
       "      <th>3</th>\n",
       "      <td>Jan. 25,2017</td>\n",
       "      <td>Now, the audience was the biggest ever. But th...</td>\n",
       "      <td>Official aerial photos show Obama's 2009 inaugur</td>\n",
       "      <td>https://www.nytimes.com/2017/01/21/us/politics...</td>\n",
       "    </tr>\n",
       "    <tr>\n",
       "      <th>4</th>\n",
       "      <td>Jan. 25,2017</td>\n",
       "      <td>Take a look at the Pew reports (which show vot...</td>\n",
       "      <td>The report never mentioned voter fraud.)</td>\n",
       "      <td>https://www.nytimes.com/2017/01/24/us/politics...</td>\n",
       "    </tr>\n",
       "  </tbody>\n",
       "</table>\n",
       "</div>"
      ],
      "text/plain": [
       "           date                                                lie  \\\n",
       "0  Jan. 21,2017  I wasn't a fan of Iraq. I didn't want to go in...   \n",
       "1  Jan. 21,2017  A reporter for Time magazine — and I have been...   \n",
       "2  Jan. 23,2017  Between 3 million and 5 million illegal votes ...   \n",
       "3  Jan. 25,2017  Now, the audience was the biggest ever. But th...   \n",
       "4  Jan. 25,2017  Take a look at the Pew reports (which show vot...   \n",
       "\n",
       "                                            explain  \\\n",
       "0  He was for an invasion before he was against it.   \n",
       "1  Trump was on the cover 11 times and Nixon appear   \n",
       "2           There's no evidence of illegal voting.)   \n",
       "3  Official aerial photos show Obama's 2009 inaugur   \n",
       "4          The report never mentioned voter fraud.)   \n",
       "\n",
       "                                                 url  \n",
       "0  https://www.buzzfeed.com/andrewkaczynski/in-20...  \n",
       "1  http://nation.time.com/2013/11/06/10-things-yo...  \n",
       "2  https://www.nytimes.com/2017/01/23/us/politics...  \n",
       "3  https://www.nytimes.com/2017/01/21/us/politics...  \n",
       "4  https://www.nytimes.com/2017/01/24/us/politics...  "
      ]
     },
     "execution_count": 39,
     "metadata": {},
     "output_type": "execute_result"
    }
   ],
   "source": [
    "TL.head()"
   ]
  },
  {
   "cell_type": "code",
   "execution_count": null,
   "metadata": {},
   "outputs": [],
   "source": []
  }
 ],
 "metadata": {
  "kernelspec": {
   "display_name": "Python 3",
   "language": "python",
   "name": "python3"
  },
  "language_info": {
   "codemirror_mode": {
    "name": "ipython",
    "version": 3
   },
   "file_extension": ".py",
   "mimetype": "text/x-python",
   "name": "python",
   "nbconvert_exporter": "python",
   "pygments_lexer": "ipython3",
   "version": "3.5.4"
  }
 },
 "nbformat": 4,
 "nbformat_minor": 2
}
