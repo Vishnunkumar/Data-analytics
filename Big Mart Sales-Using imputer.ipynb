{
 "cells": [
  {
   "cell_type": "code",
   "execution_count": 53,
   "metadata": {},
   "outputs": [],
   "source": [
    "import numpy as np\n",
    "import matplotlib.pyplot as plt\n",
    "from sklearn import ensemble as em\n",
    "from sklearn import linear_model as lm\n",
    "from sklearn.cross_validation import train_test_split as tts\n",
    "import pandas as pd\n",
    "from sklearn.preprocessing import Imputer"
   ]
  },
  {
   "cell_type": "code",
   "execution_count": 2,
   "metadata": {},
   "outputs": [],
   "source": [
    "from collections import Counter\n",
    "#used to find frequency in the list"
   ]
  },
  {
   "cell_type": "code",
   "execution_count": 3,
   "metadata": {
    "scrolled": true
   },
   "outputs": [
    {
     "data": {
      "text/plain": [
       "Item_Identifier                 0\n",
       "Item_Weight                  1463\n",
       "Item_Fat_Content                0\n",
       "Item_Visibility                 0\n",
       "Item_Type                       0\n",
       "Item_MRP                        0\n",
       "Outlet_Establishment_Year       0\n",
       "Outlet_Size                  2410\n",
       "Outlet_Location_Type            0\n",
       "Outlet_Type                     0\n",
       "Item_Outlet_Sales               0\n",
       "dtype: int64"
      ]
     },
     "execution_count": 3,
     "metadata": {},
     "output_type": "execute_result"
    }
   ],
   "source": [
    "train = pd.read_csv('TrainB.csv')\n",
    "test = pd.read_csv('TestB.csv')\n",
    "test.isnull().sum()\n",
    "train.isnull().sum()"
   ]
  },
  {
   "cell_type": "markdown",
   "metadata": {},
   "source": [
    "# DATA PREPROCESSING "
   ]
  },
  {
   "cell_type": "code",
   "execution_count": 4,
   "metadata": {},
   "outputs": [],
   "source": [
    "median_value_tr= train['Outlet_Size'].median()\n",
    "train['Outlet_Size'] = train['Outlet_Size'].fillna(median_value_tr)\n",
    "median_value1_tr= train['Item_Weight'].median()\n",
    "train['Item_Weight'] = train['Item_Weight'].fillna(median_value1_tr)"
   ]
  },
  {
   "cell_type": "code",
   "execution_count": 5,
   "metadata": {},
   "outputs": [],
   "source": [
    "median_value2_tr= test['Item_Weight'].median()\n",
    "test['Item_Weight'] = test['Item_Weight'].fillna(median_value2_tr)\n",
    "median_value_te= test['Outlet_Size'].median()\n",
    "test['Outlet_Size'] = test['Outlet_Size'].fillna(median_value_te)"
   ]
  },
  {
   "cell_type": "code",
   "execution_count": 6,
   "metadata": {},
   "outputs": [
    {
     "name": "stdout",
     "output_type": "stream",
     "text": [
      "(8523, 11)\n",
      "(5681, 10)\n"
     ]
    }
   ],
   "source": [
    "print(train.shape)\n",
    "print(test.shape)"
   ]
  },
  {
   "cell_type": "code",
   "execution_count": 7,
   "metadata": {},
   "outputs": [
    {
     "data": {
      "text/plain": [
       "Item_Identifier              0\n",
       "Item_Weight                  0\n",
       "Item_Fat_Content             0\n",
       "Item_Visibility              0\n",
       "Item_Type                    0\n",
       "Item_MRP                     0\n",
       "Outlet_Establishment_Year    0\n",
       "Outlet_Size                  0\n",
       "Outlet_Location_Type         0\n",
       "Outlet_Type                  0\n",
       "dtype: int64"
      ]
     },
     "execution_count": 7,
     "metadata": {},
     "output_type": "execute_result"
    }
   ],
   "source": [
    "train.isnull().sum()\n",
    "test.isnull().sum()"
   ]
  },
  {
   "cell_type": "code",
   "execution_count": 8,
   "metadata": {
    "scrolled": true
   },
   "outputs": [
    {
     "name": "stdout",
     "output_type": "stream",
     "text": [
      "0    3735.1380\n",
      "1     443.4228\n",
      "2    2097.2700\n",
      "3     732.3800\n",
      "4     994.7052\n",
      "Name: Item_Outlet_Sales, dtype: float64\n",
      "   Item_Weight  Item_Fat_Content  Item_Visibility              Item_Type  \\\n",
      "0         9.30                 1         0.016047                  Dairy   \n",
      "1         5.92                 0         0.019278            Soft Drinks   \n",
      "2        17.50                 1         0.016760                   Meat   \n",
      "3        19.20                 0         0.000000  Fruits and Vegetables   \n",
      "4         8.93                 1         0.000000              Household   \n",
      "\n",
      "   Item_MRP  Outlet_Establishment_Year  Outlet_Size  Outlet_Location_Type  \\\n",
      "0  249.8092                       1999          2.0                     1   \n",
      "1   48.2692                       2009          2.0                     3   \n",
      "2  141.6180                       1999          2.0                     1   \n",
      "3  182.0950                       1998          2.0                     3   \n",
      "4   53.8614                       1987          3.0                     3   \n",
      "\n",
      "         Outlet_Type  \n",
      "0  Supermarket Type1  \n",
      "1  Supermarket Type2  \n",
      "2  Supermarket Type1  \n",
      "3      Grocery Store  \n",
      "4  Supermarket Type1  \n"
     ]
    }
   ],
   "source": [
    "tr_x = train.iloc[0:8523,1:10]\n",
    "te_x = test.iloc[0:5681,1:10]\n",
    "tr_y = train.iloc[0:8523,10]\n",
    "print(tr_y.head())\n",
    "Counter(tr_x.Outlet_Type)\n",
    "print(tr_x.head())"
   ]
  },
  {
   "cell_type": "code",
   "execution_count": 9,
   "metadata": {},
   "outputs": [],
   "source": [
    "#function to replace missing values\n",
    "def transcore(x):\n",
    "    if x == \"Baking Goods\":\n",
    "        return 0\n",
    "    if x == \"Breads\":\n",
    "        return 1\n",
    "    if x == \"Break fast\":\n",
    "        return 2\n",
    "    if x == \"Canned\":\n",
    "        return 3\n",
    "    if x == \"Dairy\":\n",
    "        return 4\n",
    "    if x == \"Frozen Foods\":\n",
    "        return 5\n",
    "    if x == \"Fruits and Vegetables\":\n",
    "        return 6\n",
    "    if x == \"Hard Drinks\":\n",
    "        return 7\n",
    "    if x == \"Health and Hygiene\":\n",
    "        return 8\n",
    "    if x == \"Household\":\n",
    "        return 9\n",
    "    if x == \"Meat\":\n",
    "        return 10\n",
    "    if x == \"Others\":\n",
    "        return 11\n",
    "    if x == \"Seafood\":\n",
    "        return 12\n",
    "    if x == \"Snack Foods\":\n",
    "        return 13\n",
    "    if x == \"Soft Drinks\":\n",
    "        return 14\n",
    "    if x == \"Starchy Foods\":\n",
    "        return 15\n",
    "    if x == \" \":\n",
    "        return 16\n",
    "    "
   ]
  },
  {
   "cell_type": "code",
   "execution_count": 10,
   "metadata": {},
   "outputs": [
    {
     "data": {
      "text/plain": [
       "Item_Weight                  0\n",
       "Item_Fat_Content             0\n",
       "Item_Visibility              0\n",
       "Item_Type                    0\n",
       "Item_MRP                     0\n",
       "Outlet_Establishment_Year    0\n",
       "Outlet_Size                  0\n",
       "Outlet_Location_Type         0\n",
       "Outlet_Type                  0\n",
       "dtype: int64"
      ]
     },
     "execution_count": 10,
     "metadata": {},
     "output_type": "execute_result"
    }
   ],
   "source": [
    "tr_x.isnull().sum()"
   ]
  },
  {
   "cell_type": "code",
   "execution_count": 11,
   "metadata": {},
   "outputs": [],
   "source": [
    "def groupscore(x):\n",
    "    if x == \"Grocery Store\":\n",
    "        return 0\n",
    "    if x == \"Supermarket Type1\":\n",
    "        return 1\n",
    "    if x == \"Supermarket Type2\":\n",
    "        return 2\n",
    "    if x == \"Supermarket Type3\":\n",
    "        return 3"
   ]
  },
  {
   "cell_type": "code",
   "execution_count": 12,
   "metadata": {},
   "outputs": [],
   "source": [
    "tr_x['New_Type'] = tr_x['Item_Type'].apply(transcore)\n",
    "#axis=1 indicates column while axis=0 indicates row\n",
    "tr_x.drop('Item_Type', axis=1,inplace=True)\n",
    "te_x['New_Type'] = te_x['Item_Type'].apply(transcore)\n",
    "te_x.drop('Item_Type', axis=1,inplace=True)\n",
    "#inplace=True defines that drop operation should take place\n",
    "#inplace=True defines that drop operation should take place"
   ]
  },
  {
   "cell_type": "code",
   "execution_count": 13,
   "metadata": {},
   "outputs": [
    {
     "name": "stdout",
     "output_type": "stream",
     "text": [
      "Item_Weight                  float64\n",
      "Item_Fat_Content               int64\n",
      "Item_Visibility              float64\n",
      "Item_MRP                     float64\n",
      "Outlet_Establishment_Year      int64\n",
      "Outlet_Size                  float64\n",
      "Outlet_Location_Type           int64\n",
      "Outlet_Type                   object\n",
      "New_Type                     float64\n",
      "dtype: object\n",
      "Item_Weight                  float64\n",
      "Item_Fat_Content               int64\n",
      "Item_Visibility              float64\n",
      "Item_MRP                     float64\n",
      "Outlet_Establishment_Year      int64\n",
      "Outlet_Size                  float64\n",
      "Outlet_Location_Type           int64\n",
      "Outlet_Type                   object\n",
      "New_Type                     float64\n",
      "dtype: object\n"
     ]
    }
   ],
   "source": [
    "#ensuring that all data are pre-processed for mathematical applications\n",
    "print(tr_x.dtypes)\n",
    "print(te_x.dtypes)"
   ]
  },
  {
   "cell_type": "code",
   "execution_count": 14,
   "metadata": {},
   "outputs": [
    {
     "name": "stdout",
     "output_type": "stream",
     "text": [
      "Item_Weight                   0\n",
      "Item_Fat_Content              0\n",
      "Item_Visibility               0\n",
      "Item_MRP                      0\n",
      "Outlet_Establishment_Year     0\n",
      "Outlet_Size                   0\n",
      "Outlet_Location_Type          0\n",
      "Outlet_Type                   0\n",
      "New_Type                     76\n",
      "dtype: int64\n",
      "Item_Weight                    0\n",
      "Item_Fat_Content               0\n",
      "Item_Visibility                0\n",
      "Item_MRP                       0\n",
      "Outlet_Establishment_Year      0\n",
      "Outlet_Size                    0\n",
      "Outlet_Location_Type           0\n",
      "Outlet_Type                    0\n",
      "New_Type                     110\n",
      "dtype: int64\n"
     ]
    }
   ],
   "source": [
    "#checking missing values in a dataframe\n",
    "print(te_x.isnull().sum())\n",
    "print(tr_x.isnull().sum())"
   ]
  },
  {
   "cell_type": "code",
   "execution_count": 15,
   "metadata": {},
   "outputs": [],
   "source": [
    "tr_x['Market_Type'] = tr_x['Outlet_Type'].apply(groupscore)\n",
    "#axis=1 indicates column while axis=0 indicates row\n",
    "tr_x.drop('Outlet_Type', axis=1,inplace=True)\n",
    "te_x['Market_Type'] = te_x['Outlet_Type'].apply(groupscore)\n",
    "te_x.drop('Outlet_Type', axis=1,inplace=True)"
   ]
  },
  {
   "cell_type": "code",
   "execution_count": 16,
   "metadata": {},
   "outputs": [
    {
     "name": "stdout",
     "output_type": "stream",
     "text": [
      "Item_Weight                    0\n",
      "Item_Fat_Content               0\n",
      "Item_Visibility                0\n",
      "Item_MRP                       0\n",
      "Outlet_Establishment_Year      0\n",
      "Outlet_Size                    0\n",
      "Outlet_Location_Type           0\n",
      "New_Type                     110\n",
      "Market_Type                    0\n",
      "dtype: int64\n",
      "Item_Weight                   0\n",
      "Item_Fat_Content              0\n",
      "Item_Visibility               0\n",
      "Item_MRP                      0\n",
      "Outlet_Establishment_Year     0\n",
      "Outlet_Size                   0\n",
      "Outlet_Location_Type          0\n",
      "New_Type                     76\n",
      "Market_Type                   0\n",
      "dtype: int64\n"
     ]
    }
   ],
   "source": [
    "print(tr_x.isnull().sum())\n",
    "print(te_x.isnull().sum())"
   ]
  },
  {
   "cell_type": "markdown",
   "metadata": {},
   "source": [
    "# USING MEDIAN VALUES TO FILLNA IN NEW_TYPE"
   ]
  },
  {
   "cell_type": "code",
   "execution_count": 17,
   "metadata": {},
   "outputs": [],
   "source": [
    "tr_x['New_Type']=tr_x['New_Type'].fillna(tr_x['New_Type'].median())\n",
    "te_x['New_Type']=te_x['New_Type'].fillna(te_x['New_Type'].median())"
   ]
  },
  {
   "cell_type": "code",
   "execution_count": 18,
   "metadata": {},
   "outputs": [
    {
     "data": {
      "text/plain": [
       "Item_Weight                  0\n",
       "Item_Fat_Content             0\n",
       "Item_Visibility              0\n",
       "Item_MRP                     0\n",
       "Outlet_Establishment_Year    0\n",
       "Outlet_Size                  0\n",
       "Outlet_Location_Type         0\n",
       "New_Type                     0\n",
       "Market_Type                  0\n",
       "dtype: int64"
      ]
     },
     "execution_count": 18,
     "metadata": {},
     "output_type": "execute_result"
    }
   ],
   "source": [
    "tr_x.isnull().sum()"
   ]
  },
  {
   "cell_type": "code",
   "execution_count": 19,
   "metadata": {},
   "outputs": [
    {
     "data": {
      "text/plain": [
       "(8523, 9)"
      ]
     },
     "execution_count": 19,
     "metadata": {},
     "output_type": "execute_result"
    }
   ],
   "source": [
    "tr_x.shape"
   ]
  },
  {
   "cell_type": "code",
   "execution_count": 20,
   "metadata": {},
   "outputs": [
    {
     "data": {
      "text/plain": [
       "0    3735.1380\n",
       "1     443.4228\n",
       "2    2097.2700\n",
       "3     732.3800\n",
       "4     994.7052\n",
       "Name: Item_Outlet_Sales, dtype: float64"
      ]
     },
     "execution_count": 20,
     "metadata": {},
     "output_type": "execute_result"
    }
   ],
   "source": [
    "tr_y.head()"
   ]
  },
  {
   "cell_type": "code",
   "execution_count": 21,
   "metadata": {},
   "outputs": [
    {
     "data": {
      "text/plain": [
       "(8523,)"
      ]
     },
     "execution_count": 21,
     "metadata": {},
     "output_type": "execute_result"
    }
   ],
   "source": [
    "tr_y.shape"
   ]
  },
  {
   "cell_type": "markdown",
   "metadata": {},
   "source": [
    "# Checking Dimensionality and missing values"
   ]
  },
  {
   "cell_type": "code",
   "execution_count": 22,
   "metadata": {},
   "outputs": [
    {
     "data": {
      "text/plain": [
       "Item_Weight                  0\n",
       "Item_Fat_Content             0\n",
       "Item_Visibility              0\n",
       "Item_MRP                     0\n",
       "Outlet_Establishment_Year    0\n",
       "Outlet_Size                  0\n",
       "Outlet_Location_Type         0\n",
       "New_Type                     0\n",
       "Market_Type                  0\n",
       "dtype: int64"
      ]
     },
     "execution_count": 22,
     "metadata": {},
     "output_type": "execute_result"
    }
   ],
   "source": [
    "tr_x.isnull().sum()"
   ]
  },
  {
   "cell_type": "code",
   "execution_count": 23,
   "metadata": {},
   "outputs": [
    {
     "data": {
      "text/plain": [
       "Item_Weight                  0\n",
       "Item_Fat_Content             0\n",
       "Item_Visibility              0\n",
       "Item_MRP                     0\n",
       "Outlet_Establishment_Year    0\n",
       "Outlet_Size                  0\n",
       "Outlet_Location_Type         0\n",
       "New_Type                     0\n",
       "Market_Type                  0\n",
       "dtype: int64"
      ]
     },
     "execution_count": 23,
     "metadata": {},
     "output_type": "execute_result"
    }
   ],
   "source": [
    "te_x.isnull().sum()"
   ]
  },
  {
   "cell_type": "code",
   "execution_count": 54,
   "metadata": {},
   "outputs": [],
   "source": [
    "re = em.BaggingRegressor()"
   ]
  },
  {
   "cell_type": "markdown",
   "metadata": {
    "scrolled": true
   },
   "source": [
    "# MATHEMATICAL MODELLING"
   ]
  },
  {
   "cell_type": "code",
   "execution_count": 55,
   "metadata": {},
   "outputs": [
    {
     "data": {
      "text/plain": [
       "BaggingRegressor(base_estimator=None, bootstrap=True,\n",
       "         bootstrap_features=False, max_features=1.0, max_samples=1.0,\n",
       "         n_estimators=10, n_jobs=1, oob_score=False, random_state=None,\n",
       "         verbose=0, warm_start=False)"
      ]
     },
     "execution_count": 55,
     "metadata": {},
     "output_type": "execute_result"
    }
   ],
   "source": [
    "re.fit(tr_x,tr_y)"
   ]
  },
  {
   "cell_type": "code",
   "execution_count": 58,
   "metadata": {},
   "outputs": [],
   "source": [
    "pred = re.predict(te_x)"
   ]
  },
  {
   "cell_type": "code",
   "execution_count": 59,
   "metadata": {},
   "outputs": [],
   "source": [
    "Item_Outlet_Sales = pred"
   ]
  },
  {
   "cell_type": "code",
   "execution_count": 60,
   "metadata": {},
   "outputs": [
    {
     "data": {
      "text/plain": [
       "array([1820.963  , 1042.57622,  660.40702, ..., 1853.32088, 4707.47232,\n",
       "       1430.07182])"
      ]
     },
     "execution_count": 60,
     "metadata": {},
     "output_type": "execute_result"
    }
   ],
   "source": [
    "#Sales is predicted and given as output in Outlet_sales\n",
    "Item_Outlet_Sales"
   ]
  },
  {
   "cell_type": "markdown",
   "metadata": {},
   "source": [
    "# EXPORTING CSV"
   ]
  },
  {
   "cell_type": "code",
   "execution_count": 61,
   "metadata": {},
   "outputs": [],
   "source": [
    "Submit = pd.read_csv(\"SS.csv\")"
   ]
  },
  {
   "cell_type": "code",
   "execution_count": 62,
   "metadata": {},
   "outputs": [
    {
     "name": "stdout",
     "output_type": "stream",
     "text": [
      "Index(['Item_Identifier', 'Outlet_Identifier', 'Item_Outlet_Sales'], dtype='object')\n"
     ]
    },
    {
     "data": {
      "text/plain": [
       "(5681, 3)"
      ]
     },
     "execution_count": 62,
     "metadata": {},
     "output_type": "execute_result"
    }
   ],
   "source": [
    "print(Submit.columns)\n",
    "Submit.head()\n",
    "Submit.shape"
   ]
  },
  {
   "cell_type": "code",
   "execution_count": 63,
   "metadata": {},
   "outputs": [
    {
     "data": {
      "text/html": [
       "<div>\n",
       "<style scoped>\n",
       "    .dataframe tbody tr th:only-of-type {\n",
       "        vertical-align: middle;\n",
       "    }\n",
       "\n",
       "    .dataframe tbody tr th {\n",
       "        vertical-align: top;\n",
       "    }\n",
       "\n",
       "    .dataframe thead th {\n",
       "        text-align: right;\n",
       "    }\n",
       "</style>\n",
       "<table border=\"1\" class=\"dataframe\">\n",
       "  <thead>\n",
       "    <tr style=\"text-align: right;\">\n",
       "      <th></th>\n",
       "      <th>Item_Identifier</th>\n",
       "      <th>Outlet_Identifier</th>\n",
       "    </tr>\n",
       "  </thead>\n",
       "  <tbody>\n",
       "    <tr>\n",
       "      <th>0</th>\n",
       "      <td>FDW58</td>\n",
       "      <td>OUT049</td>\n",
       "    </tr>\n",
       "    <tr>\n",
       "      <th>1</th>\n",
       "      <td>FDW14</td>\n",
       "      <td>OUT017</td>\n",
       "    </tr>\n",
       "  </tbody>\n",
       "</table>\n",
       "</div>"
      ],
      "text/plain": [
       "  Item_Identifier Outlet_Identifier\n",
       "0           FDW58            OUT049\n",
       "1           FDW14            OUT017"
      ]
     },
     "execution_count": 63,
     "metadata": {},
     "output_type": "execute_result"
    }
   ],
   "source": [
    "Final = Submit.iloc[0:5681,0:2]\n",
    "Final.head(2)"
   ]
  },
  {
   "cell_type": "code",
   "execution_count": 64,
   "metadata": {},
   "outputs": [
    {
     "data": {
      "text/html": [
       "<div>\n",
       "<style scoped>\n",
       "    .dataframe tbody tr th:only-of-type {\n",
       "        vertical-align: middle;\n",
       "    }\n",
       "\n",
       "    .dataframe tbody tr th {\n",
       "        vertical-align: top;\n",
       "    }\n",
       "\n",
       "    .dataframe thead th {\n",
       "        text-align: right;\n",
       "    }\n",
       "</style>\n",
       "<table border=\"1\" class=\"dataframe\">\n",
       "  <thead>\n",
       "    <tr style=\"text-align: right;\">\n",
       "      <th></th>\n",
       "      <th>Item_Identifier</th>\n",
       "      <th>Item_Outlet_Sales</th>\n",
       "      <th>Outlet_Identifier</th>\n",
       "    </tr>\n",
       "  </thead>\n",
       "  <tbody>\n",
       "    <tr>\n",
       "      <th>0</th>\n",
       "      <td>FDW58</td>\n",
       "      <td>1820.96300</td>\n",
       "      <td>OUT049</td>\n",
       "    </tr>\n",
       "    <tr>\n",
       "      <th>1</th>\n",
       "      <td>FDW14</td>\n",
       "      <td>1042.57622</td>\n",
       "      <td>OUT017</td>\n",
       "    </tr>\n",
       "    <tr>\n",
       "      <th>2</th>\n",
       "      <td>NCN55</td>\n",
       "      <td>660.40702</td>\n",
       "      <td>OUT010</td>\n",
       "    </tr>\n",
       "    <tr>\n",
       "      <th>3</th>\n",
       "      <td>FDQ58</td>\n",
       "      <td>2705.34514</td>\n",
       "      <td>OUT017</td>\n",
       "    </tr>\n",
       "    <tr>\n",
       "      <th>4</th>\n",
       "      <td>FDY38</td>\n",
       "      <td>6069.56596</td>\n",
       "      <td>OUT027</td>\n",
       "    </tr>\n",
       "    <tr>\n",
       "      <th>5</th>\n",
       "      <td>FDH56</td>\n",
       "      <td>2428.03944</td>\n",
       "      <td>OUT046</td>\n",
       "    </tr>\n",
       "    <tr>\n",
       "      <th>6</th>\n",
       "      <td>FDL48</td>\n",
       "      <td>617.39634</td>\n",
       "      <td>OUT018</td>\n",
       "    </tr>\n",
       "    <tr>\n",
       "      <th>7</th>\n",
       "      <td>FDC48</td>\n",
       "      <td>1431.13710</td>\n",
       "      <td>OUT027</td>\n",
       "    </tr>\n",
       "    <tr>\n",
       "      <th>8</th>\n",
       "      <td>FDN33</td>\n",
       "      <td>1026.99650</td>\n",
       "      <td>OUT045</td>\n",
       "    </tr>\n",
       "    <tr>\n",
       "      <th>9</th>\n",
       "      <td>FDA36</td>\n",
       "      <td>1852.38876</td>\n",
       "      <td>OUT017</td>\n",
       "    </tr>\n",
       "    <tr>\n",
       "      <th>10</th>\n",
       "      <td>FDT44</td>\n",
       "      <td>1324.40936</td>\n",
       "      <td>OUT017</td>\n",
       "    </tr>\n",
       "    <tr>\n",
       "      <th>11</th>\n",
       "      <td>FDQ56</td>\n",
       "      <td>1803.91852</td>\n",
       "      <td>OUT045</td>\n",
       "    </tr>\n",
       "    <tr>\n",
       "      <th>12</th>\n",
       "      <td>NCC54</td>\n",
       "      <td>732.44658</td>\n",
       "      <td>OUT019</td>\n",
       "    </tr>\n",
       "    <tr>\n",
       "      <th>13</th>\n",
       "      <td>FDU11</td>\n",
       "      <td>1687.27036</td>\n",
       "      <td>OUT049</td>\n",
       "    </tr>\n",
       "    <tr>\n",
       "      <th>14</th>\n",
       "      <td>DRL59</td>\n",
       "      <td>912.34574</td>\n",
       "      <td>OUT013</td>\n",
       "    </tr>\n",
       "    <tr>\n",
       "      <th>15</th>\n",
       "      <td>FDM24</td>\n",
       "      <td>2934.84640</td>\n",
       "      <td>OUT049</td>\n",
       "    </tr>\n",
       "    <tr>\n",
       "      <th>16</th>\n",
       "      <td>FDI57</td>\n",
       "      <td>3529.53896</td>\n",
       "      <td>OUT045</td>\n",
       "    </tr>\n",
       "    <tr>\n",
       "      <th>17</th>\n",
       "      <td>DRC12</td>\n",
       "      <td>3245.64184</td>\n",
       "      <td>OUT018</td>\n",
       "    </tr>\n",
       "    <tr>\n",
       "      <th>18</th>\n",
       "      <td>NCM42</td>\n",
       "      <td>3938.47332</td>\n",
       "      <td>OUT027</td>\n",
       "    </tr>\n",
       "    <tr>\n",
       "      <th>19</th>\n",
       "      <td>FDA46</td>\n",
       "      <td>367.25528</td>\n",
       "      <td>OUT010</td>\n",
       "    </tr>\n",
       "    <tr>\n",
       "      <th>20</th>\n",
       "      <td>FDA31</td>\n",
       "      <td>2742.49678</td>\n",
       "      <td>OUT013</td>\n",
       "    </tr>\n",
       "    <tr>\n",
       "      <th>21</th>\n",
       "      <td>NCJ31</td>\n",
       "      <td>3344.31340</td>\n",
       "      <td>OUT035</td>\n",
       "    </tr>\n",
       "    <tr>\n",
       "      <th>22</th>\n",
       "      <td>FDG52</td>\n",
       "      <td>760.27702</td>\n",
       "      <td>OUT046</td>\n",
       "    </tr>\n",
       "    <tr>\n",
       "      <th>23</th>\n",
       "      <td>NCL19</td>\n",
       "      <td>385.69794</td>\n",
       "      <td>OUT019</td>\n",
       "    </tr>\n",
       "    <tr>\n",
       "      <th>24</th>\n",
       "      <td>FDS10</td>\n",
       "      <td>3372.87622</td>\n",
       "      <td>OUT035</td>\n",
       "    </tr>\n",
       "    <tr>\n",
       "      <th>25</th>\n",
       "      <td>FDX22</td>\n",
       "      <td>874.92778</td>\n",
       "      <td>OUT010</td>\n",
       "    </tr>\n",
       "    <tr>\n",
       "      <th>26</th>\n",
       "      <td>NCF19</td>\n",
       "      <td>781.44946</td>\n",
       "      <td>OUT035</td>\n",
       "    </tr>\n",
       "    <tr>\n",
       "      <th>27</th>\n",
       "      <td>NCE06</td>\n",
       "      <td>2148.40344</td>\n",
       "      <td>OUT046</td>\n",
       "    </tr>\n",
       "    <tr>\n",
       "      <th>28</th>\n",
       "      <td>DRC27</td>\n",
       "      <td>3999.19428</td>\n",
       "      <td>OUT046</td>\n",
       "    </tr>\n",
       "    <tr>\n",
       "      <th>29</th>\n",
       "      <td>FDE21</td>\n",
       "      <td>2014.64422</td>\n",
       "      <td>OUT035</td>\n",
       "    </tr>\n",
       "    <tr>\n",
       "      <th>...</th>\n",
       "      <td>...</td>\n",
       "      <td>...</td>\n",
       "      <td>...</td>\n",
       "    </tr>\n",
       "    <tr>\n",
       "      <th>5651</th>\n",
       "      <td>FDD23</td>\n",
       "      <td>4186.41724</td>\n",
       "      <td>OUT013</td>\n",
       "    </tr>\n",
       "    <tr>\n",
       "      <th>5652</th>\n",
       "      <td>FDP32</td>\n",
       "      <td>1465.55896</td>\n",
       "      <td>OUT045</td>\n",
       "    </tr>\n",
       "    <tr>\n",
       "      <th>5653</th>\n",
       "      <td>FDO31</td>\n",
       "      <td>1461.43100</td>\n",
       "      <td>OUT035</td>\n",
       "    </tr>\n",
       "    <tr>\n",
       "      <th>5654</th>\n",
       "      <td>FDQ57</td>\n",
       "      <td>2925.85810</td>\n",
       "      <td>OUT013</td>\n",
       "    </tr>\n",
       "    <tr>\n",
       "      <th>5655</th>\n",
       "      <td>FDX32</td>\n",
       "      <td>3753.11460</td>\n",
       "      <td>OUT027</td>\n",
       "    </tr>\n",
       "    <tr>\n",
       "      <th>5656</th>\n",
       "      <td>FDC39</td>\n",
       "      <td>5531.46640</td>\n",
       "      <td>OUT027</td>\n",
       "    </tr>\n",
       "    <tr>\n",
       "      <th>5657</th>\n",
       "      <td>FDU55</td>\n",
       "      <td>4360.92342</td>\n",
       "      <td>OUT046</td>\n",
       "    </tr>\n",
       "    <tr>\n",
       "      <th>5658</th>\n",
       "      <td>FDL45</td>\n",
       "      <td>2701.28376</td>\n",
       "      <td>OUT013</td>\n",
       "    </tr>\n",
       "    <tr>\n",
       "      <th>5659</th>\n",
       "      <td>DRK37</td>\n",
       "      <td>3966.90298</td>\n",
       "      <td>OUT049</td>\n",
       "    </tr>\n",
       "    <tr>\n",
       "      <th>5660</th>\n",
       "      <td>FDK22</td>\n",
       "      <td>2763.00342</td>\n",
       "      <td>OUT013</td>\n",
       "    </tr>\n",
       "    <tr>\n",
       "      <th>5661</th>\n",
       "      <td>DRG37</td>\n",
       "      <td>5249.83300</td>\n",
       "      <td>OUT027</td>\n",
       "    </tr>\n",
       "    <tr>\n",
       "      <th>5662</th>\n",
       "      <td>FDK22</td>\n",
       "      <td>3792.19706</td>\n",
       "      <td>OUT017</td>\n",
       "    </tr>\n",
       "    <tr>\n",
       "      <th>5663</th>\n",
       "      <td>DRH36</td>\n",
       "      <td>960.48308</td>\n",
       "      <td>OUT018</td>\n",
       "    </tr>\n",
       "    <tr>\n",
       "      <th>5664</th>\n",
       "      <td>DRC36</td>\n",
       "      <td>2306.86384</td>\n",
       "      <td>OUT018</td>\n",
       "    </tr>\n",
       "    <tr>\n",
       "      <th>5665</th>\n",
       "      <td>DRE03</td>\n",
       "      <td>851.89110</td>\n",
       "      <td>OUT027</td>\n",
       "    </tr>\n",
       "    <tr>\n",
       "      <th>5666</th>\n",
       "      <td>FDF34</td>\n",
       "      <td>2411.32786</td>\n",
       "      <td>OUT046</td>\n",
       "    </tr>\n",
       "    <tr>\n",
       "      <th>5667</th>\n",
       "      <td>FDZ22</td>\n",
       "      <td>1809.24492</td>\n",
       "      <td>OUT046</td>\n",
       "    </tr>\n",
       "    <tr>\n",
       "      <th>5668</th>\n",
       "      <td>FDC44</td>\n",
       "      <td>337.22770</td>\n",
       "      <td>OUT010</td>\n",
       "    </tr>\n",
       "    <tr>\n",
       "      <th>5669</th>\n",
       "      <td>FDN31</td>\n",
       "      <td>5749.38274</td>\n",
       "      <td>OUT027</td>\n",
       "    </tr>\n",
       "    <tr>\n",
       "      <th>5670</th>\n",
       "      <td>FDO03</td>\n",
       "      <td>4281.82638</td>\n",
       "      <td>OUT017</td>\n",
       "    </tr>\n",
       "    <tr>\n",
       "      <th>5671</th>\n",
       "      <td>FDA01</td>\n",
       "      <td>809.27990</td>\n",
       "      <td>OUT049</td>\n",
       "    </tr>\n",
       "    <tr>\n",
       "      <th>5672</th>\n",
       "      <td>NCH42</td>\n",
       "      <td>5757.37234</td>\n",
       "      <td>OUT049</td>\n",
       "    </tr>\n",
       "    <tr>\n",
       "      <th>5673</th>\n",
       "      <td>FDF46</td>\n",
       "      <td>1563.49814</td>\n",
       "      <td>OUT018</td>\n",
       "    </tr>\n",
       "    <tr>\n",
       "      <th>5674</th>\n",
       "      <td>DRL35</td>\n",
       "      <td>717.00002</td>\n",
       "      <td>OUT046</td>\n",
       "    </tr>\n",
       "    <tr>\n",
       "      <th>5675</th>\n",
       "      <td>FDW46</td>\n",
       "      <td>1132.25948</td>\n",
       "      <td>OUT049</td>\n",
       "    </tr>\n",
       "    <tr>\n",
       "      <th>5676</th>\n",
       "      <td>FDB58</td>\n",
       "      <td>2552.61062</td>\n",
       "      <td>OUT046</td>\n",
       "    </tr>\n",
       "    <tr>\n",
       "      <th>5677</th>\n",
       "      <td>FDD47</td>\n",
       "      <td>1998.86476</td>\n",
       "      <td>OUT018</td>\n",
       "    </tr>\n",
       "    <tr>\n",
       "      <th>5678</th>\n",
       "      <td>NCO17</td>\n",
       "      <td>1853.32088</td>\n",
       "      <td>OUT045</td>\n",
       "    </tr>\n",
       "    <tr>\n",
       "      <th>5679</th>\n",
       "      <td>FDJ26</td>\n",
       "      <td>4707.47232</td>\n",
       "      <td>OUT017</td>\n",
       "    </tr>\n",
       "    <tr>\n",
       "      <th>5680</th>\n",
       "      <td>FDU37</td>\n",
       "      <td>1430.07182</td>\n",
       "      <td>OUT045</td>\n",
       "    </tr>\n",
       "  </tbody>\n",
       "</table>\n",
       "<p>5681 rows × 3 columns</p>\n",
       "</div>"
      ],
      "text/plain": [
       "     Item_Identifier  Item_Outlet_Sales Outlet_Identifier\n",
       "0              FDW58         1820.96300            OUT049\n",
       "1              FDW14         1042.57622            OUT017\n",
       "2              NCN55          660.40702            OUT010\n",
       "3              FDQ58         2705.34514            OUT017\n",
       "4              FDY38         6069.56596            OUT027\n",
       "5              FDH56         2428.03944            OUT046\n",
       "6              FDL48          617.39634            OUT018\n",
       "7              FDC48         1431.13710            OUT027\n",
       "8              FDN33         1026.99650            OUT045\n",
       "9              FDA36         1852.38876            OUT017\n",
       "10             FDT44         1324.40936            OUT017\n",
       "11             FDQ56         1803.91852            OUT045\n",
       "12             NCC54          732.44658            OUT019\n",
       "13             FDU11         1687.27036            OUT049\n",
       "14             DRL59          912.34574            OUT013\n",
       "15             FDM24         2934.84640            OUT049\n",
       "16             FDI57         3529.53896            OUT045\n",
       "17             DRC12         3245.64184            OUT018\n",
       "18             NCM42         3938.47332            OUT027\n",
       "19             FDA46          367.25528            OUT010\n",
       "20             FDA31         2742.49678            OUT013\n",
       "21             NCJ31         3344.31340            OUT035\n",
       "22             FDG52          760.27702            OUT046\n",
       "23             NCL19          385.69794            OUT019\n",
       "24             FDS10         3372.87622            OUT035\n",
       "25             FDX22          874.92778            OUT010\n",
       "26             NCF19          781.44946            OUT035\n",
       "27             NCE06         2148.40344            OUT046\n",
       "28             DRC27         3999.19428            OUT046\n",
       "29             FDE21         2014.64422            OUT035\n",
       "...              ...                ...               ...\n",
       "5651           FDD23         4186.41724            OUT013\n",
       "5652           FDP32         1465.55896            OUT045\n",
       "5653           FDO31         1461.43100            OUT035\n",
       "5654           FDQ57         2925.85810            OUT013\n",
       "5655           FDX32         3753.11460            OUT027\n",
       "5656           FDC39         5531.46640            OUT027\n",
       "5657           FDU55         4360.92342            OUT046\n",
       "5658           FDL45         2701.28376            OUT013\n",
       "5659           DRK37         3966.90298            OUT049\n",
       "5660           FDK22         2763.00342            OUT013\n",
       "5661           DRG37         5249.83300            OUT027\n",
       "5662           FDK22         3792.19706            OUT017\n",
       "5663           DRH36          960.48308            OUT018\n",
       "5664           DRC36         2306.86384            OUT018\n",
       "5665           DRE03          851.89110            OUT027\n",
       "5666           FDF34         2411.32786            OUT046\n",
       "5667           FDZ22         1809.24492            OUT046\n",
       "5668           FDC44          337.22770            OUT010\n",
       "5669           FDN31         5749.38274            OUT027\n",
       "5670           FDO03         4281.82638            OUT017\n",
       "5671           FDA01          809.27990            OUT049\n",
       "5672           NCH42         5757.37234            OUT049\n",
       "5673           FDF46         1563.49814            OUT018\n",
       "5674           DRL35          717.00002            OUT046\n",
       "5675           FDW46         1132.25948            OUT049\n",
       "5676           FDB58         2552.61062            OUT046\n",
       "5677           FDD47         1998.86476            OUT018\n",
       "5678           NCO17         1853.32088            OUT045\n",
       "5679           FDJ26         4707.47232            OUT017\n",
       "5680           FDU37         1430.07182            OUT045\n",
       "\n",
       "[5681 rows x 3 columns]"
      ]
     },
     "execution_count": 64,
     "metadata": {},
     "output_type": "execute_result"
    }
   ],
   "source": [
    "Sales = pd.DataFrame({'Item_Identifier':Final.Item_Identifier.values,'Item_Outlet_Sales':Item_Outlet_Sales,'Outlet_Identifier':Final.Outlet_Identifier.values})\n",
    "Sales"
   ]
  },
  {
   "cell_type": "code",
   "execution_count": 67,
   "metadata": {},
   "outputs": [],
   "source": [
    "Sales.to_csv(\"Martsales.csv\", encoding='utf-8')"
   ]
  },
  {
   "cell_type": "markdown",
   "metadata": {},
   "source": [
    "# End of Program"
   ]
  }
 ],
 "metadata": {
  "kernelspec": {
   "display_name": "Python 3",
   "language": "python",
   "name": "python3"
  },
  "language_info": {
   "codemirror_mode": {
    "name": "ipython",
    "version": 3
   },
   "file_extension": ".py",
   "mimetype": "text/x-python",
   "name": "python",
   "nbconvert_exporter": "python",
   "pygments_lexer": "ipython3",
   "version": "3.5.4"
  }
 },
 "nbformat": 4,
 "nbformat_minor": 2
}
