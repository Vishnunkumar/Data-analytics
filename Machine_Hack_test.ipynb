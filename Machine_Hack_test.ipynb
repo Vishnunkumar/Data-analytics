{
 "cells": [
  {
   "cell_type": "code",
   "execution_count": 1,
   "metadata": {},
   "outputs": [],
   "source": [
    "import pandas as pd \n",
    "import numpy as np\n"
   ]
  },
  {
   "cell_type": "code",
   "execution_count": 2,
   "metadata": {},
   "outputs": [],
   "source": [
    "Train = pd.read_csv('B_Test.csv')"
   ]
  },
  {
   "cell_type": "code",
   "execution_count": 3,
   "metadata": {},
   "outputs": [
    {
     "data": {
      "text/plain": [
       "(20628, 10)"
      ]
     },
     "execution_count": 3,
     "metadata": {},
     "output_type": "execute_result"
    }
   ],
   "source": [
    "Train.shape"
   ]
  },
  {
   "cell_type": "code",
   "execution_count": 4,
   "metadata": {},
   "outputs": [
    {
     "data": {
      "text/html": [
       "<div>\n",
       "<style scoped>\n",
       "    .dataframe tbody tr th:only-of-type {\n",
       "        vertical-align: middle;\n",
       "    }\n",
       "\n",
       "    .dataframe tbody tr th {\n",
       "        vertical-align: top;\n",
       "    }\n",
       "\n",
       "    .dataframe thead th {\n",
       "        text-align: right;\n",
       "    }\n",
       "</style>\n",
       "<table border=\"1\" class=\"dataframe\">\n",
       "  <thead>\n",
       "    <tr style=\"text-align: right;\">\n",
       "      <th></th>\n",
       "      <th>ABV</th>\n",
       "      <th>Brewing Company</th>\n",
       "      <th>Food Paring</th>\n",
       "      <th>Glassware Used</th>\n",
       "      <th>Beer Name</th>\n",
       "      <th>Ratings</th>\n",
       "      <th>Style Name</th>\n",
       "      <th>Cellar Temperature</th>\n",
       "      <th>Serving Temperature</th>\n",
       "      <th>Score</th>\n",
       "    </tr>\n",
       "  </thead>\n",
       "  <tbody>\n",
       "    <tr>\n",
       "      <th>0</th>\n",
       "      <td>6.2</td>\n",
       "      <td>8803</td>\n",
       "      <td>(Curried,Thai)Cheese(pepperyMontereyPepperJack...</td>\n",
       "      <td>PintGlass(orBecker,Nonic,Tumbler),Mug(orSeidel...</td>\n",
       "      <td>34558</td>\n",
       "      <td>3</td>\n",
       "      <td>AmericanIPA</td>\n",
       "      <td>40-45</td>\n",
       "      <td>45-50</td>\n",
       "      <td>NaN</td>\n",
       "    </tr>\n",
       "    <tr>\n",
       "      <th>1</th>\n",
       "      <td>5.3</td>\n",
       "      <td>8558</td>\n",
       "      <td>(Barbecue)Cheese(butteryBrie,Gouda,Havarti,Swi...</td>\n",
       "      <td>PintGlass(orBecker,Nonic,Tumbler),Mug(orSeidel...</td>\n",
       "      <td>86826</td>\n",
       "      <td>20</td>\n",
       "      <td>AmericanPorter</td>\n",
       "      <td>40-45</td>\n",
       "      <td>45-50</td>\n",
       "      <td>NaN</td>\n",
       "    </tr>\n",
       "    <tr>\n",
       "      <th>2</th>\n",
       "      <td>7.0</td>\n",
       "      <td>7519</td>\n",
       "      <td>Cheese(earthyCamembert,Fontina)General(Aperitif)</td>\n",
       "      <td>Snifter,Tulip,OversizedWineGlass</td>\n",
       "      <td>17051</td>\n",
       "      <td>0</td>\n",
       "      <td>BelgianDarkAle</td>\n",
       "      <td>45-50</td>\n",
       "      <td>45-50</td>\n",
       "      <td>NaN</td>\n",
       "    </tr>\n",
       "    <tr>\n",
       "      <th>3</th>\n",
       "      <td>5.2</td>\n",
       "      <td>9852</td>\n",
       "      <td>(LatinAmerican,German)Meat(Pork,Poultry)</td>\n",
       "      <td>Flute,PilsenerGlass(orPokal),Mug(orSeidel,Stein)</td>\n",
       "      <td>49156</td>\n",
       "      <td>2</td>\n",
       "      <td>ViennaLager</td>\n",
       "      <td>35-40</td>\n",
       "      <td>40-45</td>\n",
       "      <td>NaN</td>\n",
       "    </tr>\n",
       "    <tr>\n",
       "      <th>4</th>\n",
       "      <td>8.1</td>\n",
       "      <td>8991</td>\n",
       "      <td>(Barbecue)Cheese(butteryBrie,Gouda,Havarti,Swi...</td>\n",
       "      <td>PintGlass(orBecker,Nonic,Tumbler),Mug(orSeidel...</td>\n",
       "      <td>162723</td>\n",
       "      <td>5</td>\n",
       "      <td>AmericanPorter</td>\n",
       "      <td>40-45</td>\n",
       "      <td>45-50</td>\n",
       "      <td>NaN</td>\n",
       "    </tr>\n",
       "  </tbody>\n",
       "</table>\n",
       "</div>"
      ],
      "text/plain": [
       "   ABV  Brewing Company                                        Food Paring  \\\n",
       "0  6.2             8803  (Curried,Thai)Cheese(pepperyMontereyPepperJack...   \n",
       "1  5.3             8558  (Barbecue)Cheese(butteryBrie,Gouda,Havarti,Swi...   \n",
       "2  7.0             7519   Cheese(earthyCamembert,Fontina)General(Aperitif)   \n",
       "3  5.2             9852           (LatinAmerican,German)Meat(Pork,Poultry)   \n",
       "4  8.1             8991  (Barbecue)Cheese(butteryBrie,Gouda,Havarti,Swi...   \n",
       "\n",
       "                                      Glassware Used  Beer Name Ratings  \\\n",
       "0  PintGlass(orBecker,Nonic,Tumbler),Mug(orSeidel...      34558       3   \n",
       "1  PintGlass(orBecker,Nonic,Tumbler),Mug(orSeidel...      86826      20   \n",
       "2                   Snifter,Tulip,OversizedWineGlass      17051       0   \n",
       "3   Flute,PilsenerGlass(orPokal),Mug(orSeidel,Stein)      49156       2   \n",
       "4  PintGlass(orBecker,Nonic,Tumbler),Mug(orSeidel...     162723       5   \n",
       "\n",
       "       Style Name Cellar Temperature Serving Temperature  Score  \n",
       "0     AmericanIPA              40-45               45-50    NaN  \n",
       "1  AmericanPorter              40-45               45-50    NaN  \n",
       "2  BelgianDarkAle              45-50               45-50    NaN  \n",
       "3     ViennaLager              35-40               40-45    NaN  \n",
       "4  AmericanPorter              40-45               45-50    NaN  "
      ]
     },
     "execution_count": 4,
     "metadata": {},
     "output_type": "execute_result"
    }
   ],
   "source": [
    "Train.head()"
   ]
  },
  {
   "cell_type": "code",
   "execution_count": 5,
   "metadata": {},
   "outputs": [
    {
     "data": {
      "text/plain": [
       "ABV                     1664\n",
       "Brewing Company            0\n",
       "Food Paring                0\n",
       "Glassware Used             0\n",
       "Beer Name                  0\n",
       "Ratings                    0\n",
       "Style Name                 0\n",
       "Cellar Temperature       755\n",
       "Serving Temperature       21\n",
       "Score                  20628\n",
       "dtype: int64"
      ]
     },
     "execution_count": 5,
     "metadata": {},
     "output_type": "execute_result"
    }
   ],
   "source": [
    "Train.isnull().sum()"
   ]
  },
  {
   "cell_type": "code",
   "execution_count": 6,
   "metadata": {},
   "outputs": [
    {
     "data": {
      "text/plain": [
       "ABV                    float64\n",
       "Brewing Company          int64\n",
       "Food Paring             object\n",
       "Glassware Used          object\n",
       "Beer Name                int64\n",
       "Ratings                 object\n",
       "Style Name              object\n",
       "Cellar Temperature      object\n",
       "Serving Temperature     object\n",
       "Score                  float64\n",
       "dtype: object"
      ]
     },
     "execution_count": 6,
     "metadata": {},
     "output_type": "execute_result"
    }
   ],
   "source": [
    "Train.dtypes"
   ]
  },
  {
   "cell_type": "code",
   "execution_count": 7,
   "metadata": {},
   "outputs": [],
   "source": [
    "Train['Ratings'] = pd.to_numeric(Train['Ratings'], errors='coerce')"
   ]
  },
  {
   "cell_type": "code",
   "execution_count": 8,
   "metadata": {},
   "outputs": [
    {
     "data": {
      "text/plain": [
       "40-45    10570\n",
       "35-40     5336\n",
       "45-50     3967\n",
       "Name: Cellar Temperature, dtype: int64"
      ]
     },
     "execution_count": 8,
     "metadata": {},
     "output_type": "execute_result"
    }
   ],
   "source": [
    "Train['Cellar Temperature'].value_counts()"
   ]
  },
  {
   "cell_type": "code",
   "execution_count": 9,
   "metadata": {},
   "outputs": [
    {
     "data": {
      "text/plain": [
       "45-50    12599\n",
       "40-45     5184\n",
       "50-55     2679\n",
       "35-40      145\n",
       "Name: Serving Temperature, dtype: int64"
      ]
     },
     "execution_count": 9,
     "metadata": {},
     "output_type": "execute_result"
    }
   ],
   "source": [
    "Train['Serving Temperature'].value_counts()"
   ]
  },
  {
   "cell_type": "code",
   "execution_count": 10,
   "metadata": {},
   "outputs": [],
   "source": [
    "Train['Cellar Temperature'].replace('40-45',1,inplace=True)\n",
    "Train['Cellar Temperature'].replace('45-50',2,inplace=True)\n",
    "Train['Cellar Temperature'].replace('35-40',0,inplace=True)"
   ]
  },
  {
   "cell_type": "code",
   "execution_count": 11,
   "metadata": {},
   "outputs": [],
   "source": [
    "#converting the same for serving temp\n",
    "Train['Serving Temperature'].replace('35-40',0,inplace=True)\n",
    "Train['Serving Temperature'].replace('40-45',1,inplace=True)\n",
    "Train['Serving Temperature'].replace('45-50',2,inplace=True)\n",
    "Train['Serving Temperature'].replace('50-55',3,inplace=True)"
   ]
  },
  {
   "cell_type": "code",
   "execution_count": 12,
   "metadata": {},
   "outputs": [
    {
     "data": {
      "text/plain": [
       "ABV                     1664\n",
       "Brewing Company            0\n",
       "Food Paring                0\n",
       "Glassware Used             0\n",
       "Beer Name                  0\n",
       "Ratings                  139\n",
       "Style Name                 0\n",
       "Cellar Temperature       755\n",
       "Serving Temperature       21\n",
       "Score                  20628\n",
       "dtype: int64"
      ]
     },
     "execution_count": 12,
     "metadata": {},
     "output_type": "execute_result"
    }
   ],
   "source": [
    "Train.isnull().sum()"
   ]
  },
  {
   "cell_type": "code",
   "execution_count": 13,
   "metadata": {},
   "outputs": [
    {
     "data": {
      "text/plain": [
       "ABV                    float64\n",
       "Brewing Company          int64\n",
       "Food Paring             object\n",
       "Glassware Used          object\n",
       "Beer Name                int64\n",
       "Ratings                float64\n",
       "Style Name              object\n",
       "Cellar Temperature     float64\n",
       "Serving Temperature    float64\n",
       "Score                  float64\n",
       "dtype: object"
      ]
     },
     "execution_count": 13,
     "metadata": {},
     "output_type": "execute_result"
    }
   ],
   "source": [
    "Train.dtypes"
   ]
  },
  {
   "cell_type": "code",
   "execution_count": 14,
   "metadata": {},
   "outputs": [],
   "source": [
    "Train['Food Paring'] = Train['Food Paring'].astype('category')\n",
    "Train['Style Name'] = Train['Style Name'].astype('category')\n",
    "Train['Glassware Used'] = Train['Glassware Used'].astype('category')"
   ]
  },
  {
   "cell_type": "code",
   "execution_count": 15,
   "metadata": {},
   "outputs": [],
   "source": [
    "cat_columns = Train.select_dtypes(['category']).columns"
   ]
  },
  {
   "cell_type": "code",
   "execution_count": 16,
   "metadata": {},
   "outputs": [],
   "source": [
    "Train[cat_columns] = Train[cat_columns].apply(lambda x : x.cat.codes)"
   ]
  },
  {
   "cell_type": "code",
   "execution_count": 17,
   "metadata": {},
   "outputs": [
    {
     "data": {
      "text/plain": [
       "ABV                    float64\n",
       "Brewing Company          int64\n",
       "Food Paring               int8\n",
       "Glassware Used            int8\n",
       "Beer Name                int64\n",
       "Ratings                float64\n",
       "Style Name                int8\n",
       "Cellar Temperature     float64\n",
       "Serving Temperature    float64\n",
       "Score                  float64\n",
       "dtype: object"
      ]
     },
     "execution_count": 17,
     "metadata": {},
     "output_type": "execute_result"
    }
   ],
   "source": [
    "Train.dtypes"
   ]
  },
  {
   "cell_type": "code",
   "execution_count": 18,
   "metadata": {},
   "outputs": [],
   "source": [
    "Train.drop(['Score'],axis=1,inplace=True)"
   ]
  },
  {
   "cell_type": "code",
   "execution_count": 19,
   "metadata": {},
   "outputs": [
    {
     "data": {
      "text/plain": [
       "ABV                    1664\n",
       "Brewing Company           0\n",
       "Food Paring               0\n",
       "Glassware Used            0\n",
       "Beer Name                 0\n",
       "Ratings                 139\n",
       "Style Name                0\n",
       "Cellar Temperature      755\n",
       "Serving Temperature      21\n",
       "dtype: int64"
      ]
     },
     "execution_count": 19,
     "metadata": {},
     "output_type": "execute_result"
    }
   ],
   "source": [
    "Train.isnull().sum()"
   ]
  },
  {
   "cell_type": "code",
   "execution_count": 21,
   "metadata": {},
   "outputs": [
    {
     "data": {
      "text/plain": [
       "(18129, 9)"
      ]
     },
     "execution_count": 21,
     "metadata": {},
     "output_type": "execute_result"
    }
   ],
   "source": [
    "Train.shape"
   ]
  },
  {
   "cell_type": "code",
   "execution_count": 27,
   "metadata": {},
   "outputs": [
    {
     "data": {
      "text/plain": [
       "ABV                    float64\n",
       "Brewing Company          int64\n",
       "Food Paring               int8\n",
       "Glassware Used            int8\n",
       "Beer Name                int64\n",
       "Ratings                float64\n",
       "Style Name                int8\n",
       "Cellar Temperature     float64\n",
       "Serving Temperature    float64\n",
       "dtype: object"
      ]
     },
     "execution_count": 27,
     "metadata": {},
     "output_type": "execute_result"
    }
   ],
   "source": [
    "Train.dtypes"
   ]
  },
  {
   "cell_type": "code",
   "execution_count": 20,
   "metadata": {},
   "outputs": [],
   "source": [
    "Train['ABV'].fillna(pd.DataFrame.mean(Train['ABV']),inplace=True)\n",
    "Train['Ratings'].fillna(method='ffill',inplace=True)\n",
    "Train['Cellar Temperature'].fillna(pd.DataFrame.mean(Train['Cellar Temperature']),inplace=True)\n",
    "Train['Serving Temperature'].fillna(pd.DataFrame.mean(Train['Serving Temperature']),inplace=True)"
   ]
  },
  {
   "cell_type": "code",
   "execution_count": 21,
   "metadata": {
    "collapsed": true
   },
   "outputs": [
    {
     "data": {
      "text/plain": [
       "ABV                    0\n",
       "Brewing Company        0\n",
       "Food Paring            0\n",
       "Glassware Used         0\n",
       "Beer Name              0\n",
       "Ratings                0\n",
       "Style Name             0\n",
       "Cellar Temperature     0\n",
       "Serving Temperature    0\n",
       "dtype: int64"
      ]
     },
     "execution_count": 21,
     "metadata": {},
     "output_type": "execute_result"
    }
   ],
   "source": [
    "Train.isnull().sum()"
   ]
  },
  {
   "cell_type": "code",
   "execution_count": 22,
   "metadata": {},
   "outputs": [
    {
     "data": {
      "text/plain": [
       "ABV                    float64\n",
       "Brewing Company          int64\n",
       "Food Paring               int8\n",
       "Glassware Used            int8\n",
       "Beer Name                int64\n",
       "Ratings                float64\n",
       "Style Name                int8\n",
       "Cellar Temperature     float64\n",
       "Serving Temperature    float64\n",
       "dtype: object"
      ]
     },
     "execution_count": 22,
     "metadata": {},
     "output_type": "execute_result"
    }
   ],
   "source": [
    "Train.dtypes"
   ]
  },
  {
   "cell_type": "code",
   "execution_count": 23,
   "metadata": {},
   "outputs": [],
   "source": [
    "Train.to_csv('btest.csv',encoding='utf-8')"
   ]
  },
  {
   "cell_type": "code",
   "execution_count": null,
   "metadata": {},
   "outputs": [],
   "source": []
  }
 ],
 "metadata": {
  "kernelspec": {
   "display_name": "Python 3",
   "language": "python",
   "name": "python3"
  },
  "language_info": {
   "codemirror_mode": {
    "name": "ipython",
    "version": 3
   },
   "file_extension": ".py",
   "mimetype": "text/x-python",
   "name": "python",
   "nbconvert_exporter": "python",
   "pygments_lexer": "ipython3",
   "version": "3.5.4"
  }
 },
 "nbformat": 4,
 "nbformat_minor": 2
}
