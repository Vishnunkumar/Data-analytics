{
 "cells": [
  {
   "cell_type": "code",
   "execution_count": 1,
   "metadata": {},
   "outputs": [
    {
     "name": "stderr",
     "output_type": "stream",
     "text": [
      "C:\\Users\\Vishnu\\Anaconda3\\envs\\py35\\lib\\site-packages\\sklearn\\cross_validation.py:41: DeprecationWarning: This module was deprecated in version 0.18 in favor of the model_selection module into which all the refactored classes and functions are moved. Also note that the interface of the new CV iterators are different from that of this module. This module will be removed in 0.20.\n",
      "  \"This module will be removed in 0.20.\", DeprecationWarning)\n"
     ]
    }
   ],
   "source": [
    "import numpy as np\n",
    "import matplotlib.pyplot as plt\n",
    "from sklearn import ensemble as em\n",
    "from sklearn import linear_model as lm\n",
    "from sklearn.cross_validation import train_test_split as tts\n",
    "import pandas as pd"
   ]
  },
  {
   "cell_type": "code",
   "execution_count": 4,
   "metadata": {},
   "outputs": [],
   "source": [
    "from collections import Counter\n",
    "#used to find frequency in the list"
   ]
  },
  {
   "cell_type": "code",
   "execution_count": 8,
   "metadata": {},
   "outputs": [],
   "source": [
    "a = np.array([1,3,4,6])\n",
    "a\n",
    "sum_1 = 0\n",
    "for i in range(len(a)):\n",
    "    sum_1 a[i]\n",
    "    "
   ]
  },
  {
   "cell_type": "code",
   "execution_count": 5,
   "metadata": {},
   "outputs": [
    {
     "data": {
      "text/plain": [
       "Item_Identifier                 0\n",
       "Item_Weight                  1463\n",
       "Item_Fat_Content                0\n",
       "Item_Visibility                 0\n",
       "Item_Type                       0\n",
       "Item_MRP                        0\n",
       "Outlet_Establishment_Year       0\n",
       "Outlet_Size                  2410\n",
       "Outlet_Location_Type            0\n",
       "Outlet_Type                     0\n",
       "Item_Outlet_Sales               0\n",
       "dtype: int64"
      ]
     },
     "execution_count": 5,
     "metadata": {},
     "output_type": "execute_result"
    }
   ],
   "source": [
    "train = pd.read_csv('TrainB.csv')\n",
    "test = pd.read_csv('TestB.csv')\n",
    "test.isnull().sum()\n",
    "train.isnull().sum()"
   ]
  },
  {
   "cell_type": "code",
   "execution_count": 9,
   "metadata": {},
   "outputs": [
    {
     "data": {
      "text/plain": [
       "6"
      ]
     },
     "execution_count": 9,
     "metadata": {},
     "output_type": "execute_result"
    }
   ],
   "source": [
    "sum_1"
   ]
  },
  {
   "cell_type": "markdown",
   "metadata": {},
   "source": [
    "# DATA PREPROCESSING"
   ]
  },
  {
   "cell_type": "code",
   "execution_count": 6,
   "metadata": {},
   "outputs": [
    {
     "name": "stdout",
     "output_type": "stream",
     "text": [
      "12.857645184136183\n",
      "1.7618190741043678\n",
      "12.695633368756374\n",
      "1.761717791411043\n"
     ]
    }
   ],
   "source": [
    "print(np.mean(train.Item_Weight))\n",
    "print(np.mean(train.Outlet_Size))\n",
    "print(np.mean(test.Item_Weight))\n",
    "print(np.mean(test.Outlet_Size))"
   ]
  },
  {
   "cell_type": "code",
   "execution_count": 7,
   "metadata": {},
   "outputs": [],
   "source": [
    "train = train.interpolate(method='slinear')\n",
    "test = test.interpolate(method='slinear')"
   ]
  },
  {
   "cell_type": "code",
   "execution_count": 8,
   "metadata": {},
   "outputs": [
    {
     "name": "stdout",
     "output_type": "stream",
     "text": [
      "(8523, 11)\n",
      "(5681, 10)\n"
     ]
    }
   ],
   "source": [
    "print(train.shape)\n",
    "print(test.shape)"
   ]
  },
  {
   "cell_type": "code",
   "execution_count": 9,
   "metadata": {},
   "outputs": [
    {
     "name": "stdout",
     "output_type": "stream",
     "text": [
      "0    3735.1380\n",
      "1     443.4228\n",
      "2    2097.2700\n",
      "3     732.3800\n",
      "4     994.7052\n",
      "Name: Item_Outlet_Sales, dtype: float64\n",
      "   Item_Weight  Item_Fat_Content  Item_Visibility              Item_Type  \\\n",
      "0         9.30                 1         0.016047                  Dairy   \n",
      "1         5.92                 0         0.019278            Soft Drinks   \n",
      "2        17.50                 1         0.016760                   Meat   \n",
      "3        19.20                 0         0.000000  Fruits and Vegetables   \n",
      "4         8.93                 1         0.000000              Household   \n",
      "\n",
      "   Item_MRP  Outlet_Establishment_Year  Outlet_Size  Outlet_Location_Type  \\\n",
      "0  249.8092                       1999          2.0                     1   \n",
      "1   48.2692                       2009          2.0                     3   \n",
      "2  141.6180                       1999          2.0                     1   \n",
      "3  182.0950                       1998          2.5                     3   \n",
      "4   53.8614                       1987          3.0                     3   \n",
      "\n",
      "         Outlet_Type  \n",
      "0  Supermarket Type1  \n",
      "1  Supermarket Type2  \n",
      "2  Supermarket Type1  \n",
      "3      Grocery Store  \n",
      "4  Supermarket Type1  \n"
     ]
    }
   ],
   "source": [
    "tr_x = train.iloc[0:8523,1:10]\n",
    "te_x = test.iloc[0:5681,1:10]\n",
    "tr_y = train.iloc[0:8523,10]\n",
    "print(tr_y.head())\n",
    "Counter(tr_x.Outlet_Type)\n",
    "print(tr_x.head())"
   ]
  },
  {
   "cell_type": "code",
   "execution_count": 10,
   "metadata": {},
   "outputs": [
    {
     "data": {
      "text/plain": [
       "0           2\n",
       "1           2\n",
       "2           2\n",
       "3           2\n",
       "4           2\n",
       "5           1\n",
       "6           2\n",
       "7           2\n",
       "8         1.8\n",
       "9         1.6\n",
       "10        1.4\n",
       "11        1.2\n",
       "12          1\n",
       "13          2\n",
       "14          3\n",
       "15          2\n",
       "16          2\n",
       "17          2\n",
       "18          2\n",
       "19        2.5\n",
       "20          3\n",
       "21          1\n",
       "22          1\n",
       "23          1\n",
       "24          1\n",
       "25          1\n",
       "26          1\n",
       "27          1\n",
       "28          1\n",
       "29          1\n",
       "        ...  \n",
       "5651        3\n",
       "5652        2\n",
       "5653        1\n",
       "5654        3\n",
       "5655        2\n",
       "5656        2\n",
       "5657        1\n",
       "5658        3\n",
       "5659        2\n",
       "5660        3\n",
       "5661        2\n",
       "5662        2\n",
       "5663        2\n",
       "5664        2\n",
       "5665        2\n",
       "5666        1\n",
       "5667        1\n",
       "5668      1.5\n",
       "5669        2\n",
       "5670        2\n",
       "5671        2\n",
       "5672        2\n",
       "5673        2\n",
       "5674        1\n",
       "5675        2\n",
       "5676        1\n",
       "5677        2\n",
       "5678    ffill\n",
       "5679    ffill\n",
       "5680    ffill\n",
       "Name: Outlet_Size, Length: 5681, dtype: object"
      ]
     },
     "execution_count": 10,
     "metadata": {},
     "output_type": "execute_result"
    }
   ],
   "source": [
    "te_x.Outlet_Size.fillna('ffill')"
   ]
  },
  {
   "cell_type": "code",
   "execution_count": 11,
   "metadata": {},
   "outputs": [],
   "source": [
    "#function to replace missing values\n",
    "def transcore(x):\n",
    "    if x == \"Baking Goods\":\n",
    "        return 0\n",
    "    if x == \"Breads\":\n",
    "        return 1\n",
    "    if x == \"Break fast\":\n",
    "        return 2\n",
    "    if x == \"Canned\":\n",
    "        return 3\n",
    "    if x == \"Dairy\":\n",
    "        return 4\n",
    "    if x == \"Frozen Foods\":\n",
    "        return 5\n",
    "    if x == \"Fruits and Vegetables\":\n",
    "        return 6\n",
    "    if x == \"Hard Drinks\":\n",
    "        return 7\n",
    "    if x == \"Health and Hygiene\":\n",
    "        return 8\n",
    "    if x == \"Household\":\n",
    "        return 9\n",
    "    if x == \"Meat\":\n",
    "        return 10\n",
    "    if x == \"Others\":\n",
    "        return 11\n",
    "    if x == \"Seafood\":\n",
    "        return 12\n",
    "    if x == \"Snack Foods\":\n",
    "        return 13\n",
    "    if x == \"Soft Drinks\":\n",
    "        return 14\n",
    "    if x == \"Starchy Foods\":\n",
    "        return 15\n",
    "    if x == \" \":\n",
    "        return 16\n",
    "    "
   ]
  },
  {
   "cell_type": "code",
   "execution_count": 12,
   "metadata": {},
   "outputs": [
    {
     "data": {
      "text/plain": [
       "Item_Weight                  0\n",
       "Item_Fat_Content             0\n",
       "Item_Visibility              0\n",
       "Item_Type                    0\n",
       "Item_MRP                     0\n",
       "Outlet_Establishment_Year    0\n",
       "Outlet_Size                  0\n",
       "Outlet_Location_Type         0\n",
       "Outlet_Type                  0\n",
       "dtype: int64"
      ]
     },
     "execution_count": 12,
     "metadata": {},
     "output_type": "execute_result"
    }
   ],
   "source": [
    "tr_x.isnull().sum()"
   ]
  },
  {
   "cell_type": "code",
   "execution_count": 13,
   "metadata": {},
   "outputs": [],
   "source": [
    "def groupscore(x):\n",
    "    if x == \"Grocery Store\":\n",
    "        return 0\n",
    "    if x == \"Supermarket Type1\":\n",
    "        return 1\n",
    "    if x == \"Supermarket Type2\":\n",
    "        return 2\n",
    "    if x == \"Supermarket Type3\":\n",
    "        return 3"
   ]
  },
  {
   "cell_type": "code",
   "execution_count": 14,
   "metadata": {},
   "outputs": [
    {
     "name": "stdout",
     "output_type": "stream",
     "text": [
      "Item_Weight                  float64\n",
      "Item_Fat_Content               int64\n",
      "Item_Visibility              float64\n",
      "Item_Type                     object\n",
      "Item_MRP                     float64\n",
      "Outlet_Establishment_Year      int64\n",
      "Outlet_Size                  float64\n",
      "Outlet_Location_Type           int64\n",
      "Outlet_Type                   object\n",
      "dtype: object\n",
      "Item_Weight                  float64\n",
      "Item_Fat_Content               int64\n",
      "Item_Visibility              float64\n",
      "Item_Type                     object\n",
      "Item_MRP                     float64\n",
      "Outlet_Establishment_Year      int64\n",
      "Outlet_Size                  float64\n",
      "Outlet_Location_Type           int64\n",
      "Outlet_Type                   object\n",
      "dtype: object\n"
     ]
    }
   ],
   "source": [
    "print(tr_x.dtypes)\n",
    "print(te_x.dtypes)"
   ]
  },
  {
   "cell_type": "code",
   "execution_count": 15,
   "metadata": {},
   "outputs": [],
   "source": [
    "tr_x['New_Type'] = tr_x['Item_Type'].apply(transcore)\n",
    "#axis=1 indicates column while axis=0 indicates row\n",
    "tr_x.drop('Item_Type', axis=1,inplace=True)\n",
    "te_x['New_Type'] = te_x['Item_Type'].apply(transcore)\n",
    "te_x.drop('Item_Type', axis=1,inplace=True)\n",
    "#inplace=True defines that drop operation should take place\n",
    "#inplace=True defines that drop operation should take place"
   ]
  },
  {
   "cell_type": "code",
   "execution_count": 16,
   "metadata": {},
   "outputs": [
    {
     "name": "stdout",
     "output_type": "stream",
     "text": [
      "Item_Weight                  float64\n",
      "Item_Fat_Content               int64\n",
      "Item_Visibility              float64\n",
      "Item_MRP                     float64\n",
      "Outlet_Establishment_Year      int64\n",
      "Outlet_Size                  float64\n",
      "Outlet_Location_Type           int64\n",
      "Outlet_Type                   object\n",
      "New_Type                     float64\n",
      "dtype: object\n",
      "Item_Weight                  float64\n",
      "Item_Fat_Content               int64\n",
      "Item_Visibility              float64\n",
      "Item_MRP                     float64\n",
      "Outlet_Establishment_Year      int64\n",
      "Outlet_Size                  float64\n",
      "Outlet_Location_Type           int64\n",
      "Outlet_Type                   object\n",
      "New_Type                     float64\n",
      "dtype: object\n"
     ]
    }
   ],
   "source": [
    "#ensuring that all data are pre-processed for mathematical applications\n",
    "print(tr_x.dtypes)\n",
    "print(te_x.dtypes)"
   ]
  },
  {
   "cell_type": "code",
   "execution_count": 17,
   "metadata": {},
   "outputs": [
    {
     "name": "stdout",
     "output_type": "stream",
     "text": [
      "Item_Weight                   0\n",
      "Item_Fat_Content              0\n",
      "Item_Visibility               0\n",
      "Item_MRP                      0\n",
      "Outlet_Establishment_Year     0\n",
      "Outlet_Size                   3\n",
      "Outlet_Location_Type          0\n",
      "Outlet_Type                   0\n",
      "New_Type                     76\n",
      "dtype: int64\n",
      "Item_Weight                    0\n",
      "Item_Fat_Content               0\n",
      "Item_Visibility                0\n",
      "Item_MRP                       0\n",
      "Outlet_Establishment_Year      0\n",
      "Outlet_Size                    0\n",
      "Outlet_Location_Type           0\n",
      "Outlet_Type                    0\n",
      "New_Type                     110\n",
      "dtype: int64\n"
     ]
    }
   ],
   "source": [
    "#checking missing values in a dataframe\n",
    "print(te_x.isnull().sum())\n",
    "print(tr_x.isnull().sum())"
   ]
  },
  {
   "cell_type": "code",
   "execution_count": 18,
   "metadata": {},
   "outputs": [],
   "source": [
    "te_x = te_x.interpolate()\n",
    "tr_x = tr_x.interpolate()"
   ]
  },
  {
   "cell_type": "code",
   "execution_count": 19,
   "metadata": {},
   "outputs": [],
   "source": [
    "tr_x['Market_Type'] = tr_x['Outlet_Type'].apply(groupscore)\n",
    "#axis=1 indicates column while axis=0 indicates row\n",
    "tr_x.drop('Outlet_Type', axis=1,inplace=True)\n",
    "te_x['Market_Type'] = te_x['Outlet_Type'].apply(groupscore)\n",
    "te_x.drop('Outlet_Type', axis=1,inplace=True)"
   ]
  },
  {
   "cell_type": "code",
   "execution_count": 20,
   "metadata": {},
   "outputs": [
    {
     "name": "stdout",
     "output_type": "stream",
     "text": [
      "Item_Weight                  0\n",
      "Item_Fat_Content             0\n",
      "Item_Visibility              0\n",
      "Item_MRP                     0\n",
      "Outlet_Establishment_Year    0\n",
      "Outlet_Size                  0\n",
      "Outlet_Location_Type         0\n",
      "New_Type                     0\n",
      "Market_Type                  0\n",
      "dtype: int64\n",
      "Item_Weight                  0\n",
      "Item_Fat_Content             0\n",
      "Item_Visibility              0\n",
      "Item_MRP                     0\n",
      "Outlet_Establishment_Year    0\n",
      "Outlet_Size                  0\n",
      "Outlet_Location_Type         0\n",
      "New_Type                     0\n",
      "Market_Type                  0\n",
      "dtype: int64\n"
     ]
    }
   ],
   "source": [
    "print(tr_x.isnull().sum())\n",
    "print(te_x.isnull().sum())"
   ]
  },
  {
   "cell_type": "code",
   "execution_count": 21,
   "metadata": {},
   "outputs": [
    {
     "data": {
      "text/plain": [
       "Item_Weight                  float64\n",
       "Item_Fat_Content               int64\n",
       "Item_Visibility              float64\n",
       "Item_MRP                     float64\n",
       "Outlet_Establishment_Year      int64\n",
       "Outlet_Size                  float64\n",
       "Outlet_Location_Type           int64\n",
       "New_Type                     float64\n",
       "Market_Type                    int64\n",
       "dtype: object"
      ]
     },
     "execution_count": 21,
     "metadata": {},
     "output_type": "execute_result"
    }
   ],
   "source": [
    "tr_x.dtypes\n",
    "te_x.dtypes"
   ]
  },
  {
   "cell_type": "code",
   "execution_count": 22,
   "metadata": {},
   "outputs": [
    {
     "data": {
      "text/plain": [
       "(8523, 9)"
      ]
     },
     "execution_count": 22,
     "metadata": {},
     "output_type": "execute_result"
    }
   ],
   "source": [
    "tr_x.shape"
   ]
  },
  {
   "cell_type": "code",
   "execution_count": 23,
   "metadata": {},
   "outputs": [
    {
     "data": {
      "text/plain": [
       "0    3735.1380\n",
       "1     443.4228\n",
       "2    2097.2700\n",
       "3     732.3800\n",
       "4     994.7052\n",
       "Name: Item_Outlet_Sales, dtype: float64"
      ]
     },
     "execution_count": 23,
     "metadata": {},
     "output_type": "execute_result"
    }
   ],
   "source": [
    "tr_y.head()"
   ]
  },
  {
   "cell_type": "code",
   "execution_count": 24,
   "metadata": {},
   "outputs": [
    {
     "data": {
      "text/plain": [
       "(5681, 9)"
      ]
     },
     "execution_count": 24,
     "metadata": {},
     "output_type": "execute_result"
    }
   ],
   "source": [
    "te_x.shape"
   ]
  },
  {
   "cell_type": "markdown",
   "metadata": {},
   "source": [
    "# Checking Dimensionality"
   ]
  },
  {
   "cell_type": "code",
   "execution_count": 25,
   "metadata": {},
   "outputs": [
    {
     "data": {
      "text/plain": [
       "Item_Weight                  0\n",
       "Item_Fat_Content             0\n",
       "Item_Visibility              0\n",
       "Item_MRP                     0\n",
       "Outlet_Establishment_Year    0\n",
       "Outlet_Size                  0\n",
       "Outlet_Location_Type         0\n",
       "New_Type                     0\n",
       "Market_Type                  0\n",
       "dtype: int64"
      ]
     },
     "execution_count": 25,
     "metadata": {},
     "output_type": "execute_result"
    }
   ],
   "source": [
    "tr_x.isnull().sum()"
   ]
  },
  {
   "cell_type": "code",
   "execution_count": 26,
   "metadata": {},
   "outputs": [
    {
     "data": {
      "text/plain": [
       "Item_Weight                  0\n",
       "Item_Fat_Content             0\n",
       "Item_Visibility              0\n",
       "Item_MRP                     0\n",
       "Outlet_Establishment_Year    0\n",
       "Outlet_Size                  0\n",
       "Outlet_Location_Type         0\n",
       "New_Type                     0\n",
       "Market_Type                  0\n",
       "dtype: int64"
      ]
     },
     "execution_count": 26,
     "metadata": {},
     "output_type": "execute_result"
    }
   ],
   "source": [
    "te_x.isnull().sum()"
   ]
  },
  {
   "cell_type": "code",
   "execution_count": 69,
   "metadata": {},
   "outputs": [],
   "source": [
    "reg = em.GradientBoostingRegressor(n_estimators=300, learning_rate=0.01,max_depth=4, random_state=0, loss='ls')"
   ]
  },
  {
   "cell_type": "markdown",
   "metadata": {
    "scrolled": true
   },
   "source": [
    "# Regression Starts"
   ]
  },
  {
   "cell_type": "code",
   "execution_count": 70,
   "metadata": {},
   "outputs": [
    {
     "data": {
      "text/plain": [
       "GradientBoostingRegressor(alpha=0.9, criterion='friedman_mse', init=None,\n",
       "             learning_rate=0.01, loss='ls', max_depth=4, max_features=None,\n",
       "             max_leaf_nodes=None, min_impurity_decrease=0.0,\n",
       "             min_impurity_split=None, min_samples_leaf=1,\n",
       "             min_samples_split=2, min_weight_fraction_leaf=0.0,\n",
       "             n_estimators=300, presort='auto', random_state=0,\n",
       "             subsample=1.0, verbose=0, warm_start=False)"
      ]
     },
     "execution_count": 70,
     "metadata": {},
     "output_type": "execute_result"
    }
   ],
   "source": [
    "reg.fit(tr_x,tr_y)"
   ]
  },
  {
   "cell_type": "code",
   "execution_count": 71,
   "metadata": {},
   "outputs": [],
   "source": [
    "pred = reg.predict(te_x)"
   ]
  },
  {
   "cell_type": "code",
   "execution_count": 72,
   "metadata": {},
   "outputs": [],
   "source": [
    "Item_Outlet_Sales = pred"
   ]
  },
  {
   "cell_type": "code",
   "execution_count": 73,
   "metadata": {},
   "outputs": [
    {
     "data": {
      "text/plain": [
       "array([1697.62201502, 1401.74388169,  632.80922213, ..., 1913.75432298,\n",
       "       3481.18186502, 1332.43026978])"
      ]
     },
     "execution_count": 73,
     "metadata": {},
     "output_type": "execute_result"
    }
   ],
   "source": [
    "#Sales is predicted and given as output in Outlet_sales\n",
    "Item_Outlet_Sales"
   ]
  },
  {
   "cell_type": "code",
   "execution_count": 74,
   "metadata": {},
   "outputs": [],
   "source": [
    "Submit = pd.read_csv(\"SS.csv\")"
   ]
  },
  {
   "cell_type": "code",
   "execution_count": 75,
   "metadata": {},
   "outputs": [
    {
     "data": {
      "text/plain": [
       "(5681,)"
      ]
     },
     "execution_count": 75,
     "metadata": {},
     "output_type": "execute_result"
    }
   ],
   "source": [
    "import random\n",
    "Item_Outlet_Sales.shape"
   ]
  },
  {
   "cell_type": "code",
   "execution_count": 76,
   "metadata": {},
   "outputs": [
    {
     "name": "stdout",
     "output_type": "stream",
     "text": [
      "Index(['Item_Identifier', 'Outlet_Identifier', 'Item_Outlet_Sales'], dtype='object')\n"
     ]
    },
    {
     "data": {
      "text/plain": [
       "(5681, 3)"
      ]
     },
     "execution_count": 76,
     "metadata": {},
     "output_type": "execute_result"
    }
   ],
   "source": [
    "print(Submit.columns)\n",
    "Submit.head()\n",
    "Submit.shape"
   ]
  },
  {
   "cell_type": "code",
   "execution_count": 77,
   "metadata": {},
   "outputs": [
    {
     "data": {
      "text/html": [
       "<div>\n",
       "<style scoped>\n",
       "    .dataframe tbody tr th:only-of-type {\n",
       "        vertical-align: middle;\n",
       "    }\n",
       "\n",
       "    .dataframe tbody tr th {\n",
       "        vertical-align: top;\n",
       "    }\n",
       "\n",
       "    .dataframe thead th {\n",
       "        text-align: right;\n",
       "    }\n",
       "</style>\n",
       "<table border=\"1\" class=\"dataframe\">\n",
       "  <thead>\n",
       "    <tr style=\"text-align: right;\">\n",
       "      <th></th>\n",
       "      <th>Item_Identifier</th>\n",
       "      <th>Outlet_Identifier</th>\n",
       "    </tr>\n",
       "  </thead>\n",
       "  <tbody>\n",
       "    <tr>\n",
       "      <th>0</th>\n",
       "      <td>FDW58</td>\n",
       "      <td>OUT049</td>\n",
       "    </tr>\n",
       "    <tr>\n",
       "      <th>1</th>\n",
       "      <td>FDW14</td>\n",
       "      <td>OUT017</td>\n",
       "    </tr>\n",
       "  </tbody>\n",
       "</table>\n",
       "</div>"
      ],
      "text/plain": [
       "  Item_Identifier Outlet_Identifier\n",
       "0           FDW58            OUT049\n",
       "1           FDW14            OUT017"
      ]
     },
     "execution_count": 77,
     "metadata": {},
     "output_type": "execute_result"
    }
   ],
   "source": [
    "Final = Submit.iloc[0:5681,0:2]\n",
    "Final.head(2)"
   ]
  },
  {
   "cell_type": "code",
   "execution_count": 78,
   "metadata": {
    "scrolled": true
   },
   "outputs": [
    {
     "data": {
      "text/html": [
       "<div>\n",
       "<style scoped>\n",
       "    .dataframe tbody tr th:only-of-type {\n",
       "        vertical-align: middle;\n",
       "    }\n",
       "\n",
       "    .dataframe tbody tr th {\n",
       "        vertical-align: top;\n",
       "    }\n",
       "\n",
       "    .dataframe thead th {\n",
       "        text-align: right;\n",
       "    }\n",
       "</style>\n",
       "<table border=\"1\" class=\"dataframe\">\n",
       "  <thead>\n",
       "    <tr style=\"text-align: right;\">\n",
       "      <th></th>\n",
       "      <th>Item_Identifier</th>\n",
       "      <th>Item_Outlet_Sales</th>\n",
       "      <th>Outlet_Identifier</th>\n",
       "    </tr>\n",
       "  </thead>\n",
       "  <tbody>\n",
       "    <tr>\n",
       "      <th>0</th>\n",
       "      <td>FDW58</td>\n",
       "      <td>1697.622015</td>\n",
       "      <td>OUT049</td>\n",
       "    </tr>\n",
       "    <tr>\n",
       "      <th>1</th>\n",
       "      <td>FDW14</td>\n",
       "      <td>1401.743882</td>\n",
       "      <td>OUT017</td>\n",
       "    </tr>\n",
       "    <tr>\n",
       "      <th>2</th>\n",
       "      <td>NCN55</td>\n",
       "      <td>632.809222</td>\n",
       "      <td>OUT010</td>\n",
       "    </tr>\n",
       "    <tr>\n",
       "      <th>3</th>\n",
       "      <td>FDQ58</td>\n",
       "      <td>2463.778649</td>\n",
       "      <td>OUT017</td>\n",
       "    </tr>\n",
       "    <tr>\n",
       "      <th>4</th>\n",
       "      <td>FDY38</td>\n",
       "      <td>5925.268649</td>\n",
       "      <td>OUT027</td>\n",
       "    </tr>\n",
       "    <tr>\n",
       "      <th>5</th>\n",
       "      <td>FDH56</td>\n",
       "      <td>1912.381038</td>\n",
       "      <td>OUT046</td>\n",
       "    </tr>\n",
       "    <tr>\n",
       "      <th>6</th>\n",
       "      <td>FDL48</td>\n",
       "      <td>768.220021</td>\n",
       "      <td>OUT018</td>\n",
       "    </tr>\n",
       "    <tr>\n",
       "      <th>7</th>\n",
       "      <td>FDC48</td>\n",
       "      <td>2202.535244</td>\n",
       "      <td>OUT027</td>\n",
       "    </tr>\n",
       "    <tr>\n",
       "      <th>8</th>\n",
       "      <td>FDN33</td>\n",
       "      <td>1558.639654</td>\n",
       "      <td>OUT045</td>\n",
       "    </tr>\n",
       "    <tr>\n",
       "      <th>9</th>\n",
       "      <td>FDA36</td>\n",
       "      <td>3121.744063</td>\n",
       "      <td>OUT017</td>\n",
       "    </tr>\n",
       "    <tr>\n",
       "      <th>10</th>\n",
       "      <td>FDT44</td>\n",
       "      <td>1912.381038</td>\n",
       "      <td>OUT017</td>\n",
       "    </tr>\n",
       "    <tr>\n",
       "      <th>11</th>\n",
       "      <td>FDQ56</td>\n",
       "      <td>1401.743882</td>\n",
       "      <td>OUT045</td>\n",
       "    </tr>\n",
       "    <tr>\n",
       "      <th>12</th>\n",
       "      <td>NCC54</td>\n",
       "      <td>863.129009</td>\n",
       "      <td>OUT019</td>\n",
       "    </tr>\n",
       "    <tr>\n",
       "      <th>13</th>\n",
       "      <td>FDU11</td>\n",
       "      <td>2043.211258</td>\n",
       "      <td>OUT049</td>\n",
       "    </tr>\n",
       "    <tr>\n",
       "      <th>14</th>\n",
       "      <td>DRL59</td>\n",
       "      <td>837.154193</td>\n",
       "      <td>OUT013</td>\n",
       "    </tr>\n",
       "    <tr>\n",
       "      <th>15</th>\n",
       "      <td>FDM24</td>\n",
       "      <td>2452.279873</td>\n",
       "      <td>OUT049</td>\n",
       "    </tr>\n",
       "    <tr>\n",
       "      <th>16</th>\n",
       "      <td>FDI57</td>\n",
       "      <td>3112.832680</td>\n",
       "      <td>OUT045</td>\n",
       "    </tr>\n",
       "    <tr>\n",
       "      <th>17</th>\n",
       "      <td>DRC12</td>\n",
       "      <td>2866.515582</td>\n",
       "      <td>OUT018</td>\n",
       "    </tr>\n",
       "    <tr>\n",
       "      <th>18</th>\n",
       "      <td>NCM42</td>\n",
       "      <td>2725.086987</td>\n",
       "      <td>OUT027</td>\n",
       "    </tr>\n",
       "    <tr>\n",
       "      <th>19</th>\n",
       "      <td>FDA46</td>\n",
       "      <td>567.953771</td>\n",
       "      <td>OUT010</td>\n",
       "    </tr>\n",
       "    <tr>\n",
       "      <th>20</th>\n",
       "      <td>FDA31</td>\n",
       "      <td>2851.847677</td>\n",
       "      <td>OUT013</td>\n",
       "    </tr>\n",
       "    <tr>\n",
       "      <th>21</th>\n",
       "      <td>NCJ31</td>\n",
       "      <td>3812.495107</td>\n",
       "      <td>OUT035</td>\n",
       "    </tr>\n",
       "    <tr>\n",
       "      <th>22</th>\n",
       "      <td>FDG52</td>\n",
       "      <td>841.056551</td>\n",
       "      <td>OUT046</td>\n",
       "    </tr>\n",
       "    <tr>\n",
       "      <th>23</th>\n",
       "      <td>NCL19</td>\n",
       "      <td>426.627362</td>\n",
       "      <td>OUT019</td>\n",
       "    </tr>\n",
       "    <tr>\n",
       "      <th>24</th>\n",
       "      <td>FDS10</td>\n",
       "      <td>2930.919192</td>\n",
       "      <td>OUT035</td>\n",
       "    </tr>\n",
       "    <tr>\n",
       "      <th>25</th>\n",
       "      <td>FDX22</td>\n",
       "      <td>618.376149</td>\n",
       "      <td>OUT010</td>\n",
       "    </tr>\n",
       "    <tr>\n",
       "      <th>26</th>\n",
       "      <td>NCF19</td>\n",
       "      <td>842.339702</td>\n",
       "      <td>OUT035</td>\n",
       "    </tr>\n",
       "    <tr>\n",
       "      <th>27</th>\n",
       "      <td>NCE06</td>\n",
       "      <td>2605.456776</td>\n",
       "      <td>OUT046</td>\n",
       "    </tr>\n",
       "    <tr>\n",
       "      <th>28</th>\n",
       "      <td>DRC27</td>\n",
       "      <td>3862.844916</td>\n",
       "      <td>OUT046</td>\n",
       "    </tr>\n",
       "    <tr>\n",
       "      <th>29</th>\n",
       "      <td>FDE21</td>\n",
       "      <td>1924.021094</td>\n",
       "      <td>OUT035</td>\n",
       "    </tr>\n",
       "    <tr>\n",
       "      <th>...</th>\n",
       "      <td>...</td>\n",
       "      <td>...</td>\n",
       "      <td>...</td>\n",
       "    </tr>\n",
       "    <tr>\n",
       "      <th>5651</th>\n",
       "      <td>FDD23</td>\n",
       "      <td>3119.882759</td>\n",
       "      <td>OUT013</td>\n",
       "    </tr>\n",
       "    <tr>\n",
       "      <th>5652</th>\n",
       "      <td>FDP32</td>\n",
       "      <td>2068.663060</td>\n",
       "      <td>OUT045</td>\n",
       "    </tr>\n",
       "    <tr>\n",
       "      <th>5653</th>\n",
       "      <td>FDO31</td>\n",
       "      <td>1334.373824</td>\n",
       "      <td>OUT035</td>\n",
       "    </tr>\n",
       "    <tr>\n",
       "      <th>5654</th>\n",
       "      <td>FDQ57</td>\n",
       "      <td>2460.919980</td>\n",
       "      <td>OUT013</td>\n",
       "    </tr>\n",
       "    <tr>\n",
       "      <th>5655</th>\n",
       "      <td>FDX32</td>\n",
       "      <td>3716.816541</td>\n",
       "      <td>OUT027</td>\n",
       "    </tr>\n",
       "    <tr>\n",
       "      <th>5656</th>\n",
       "      <td>FDC39</td>\n",
       "      <td>5342.118395</td>\n",
       "      <td>OUT027</td>\n",
       "    </tr>\n",
       "    <tr>\n",
       "      <th>5657</th>\n",
       "      <td>FDU55</td>\n",
       "      <td>3989.117738</td>\n",
       "      <td>OUT046</td>\n",
       "    </tr>\n",
       "    <tr>\n",
       "      <th>5658</th>\n",
       "      <td>FDL45</td>\n",
       "      <td>2048.815069</td>\n",
       "      <td>OUT013</td>\n",
       "    </tr>\n",
       "    <tr>\n",
       "      <th>5659</th>\n",
       "      <td>DRK37</td>\n",
       "      <td>3121.744063</td>\n",
       "      <td>OUT049</td>\n",
       "    </tr>\n",
       "    <tr>\n",
       "      <th>5660</th>\n",
       "      <td>FDK22</td>\n",
       "      <td>3472.419384</td>\n",
       "      <td>OUT013</td>\n",
       "    </tr>\n",
       "    <tr>\n",
       "      <th>5661</th>\n",
       "      <td>DRG37</td>\n",
       "      <td>3748.553066</td>\n",
       "      <td>OUT027</td>\n",
       "    </tr>\n",
       "    <tr>\n",
       "      <th>5662</th>\n",
       "      <td>FDK22</td>\n",
       "      <td>3477.407281</td>\n",
       "      <td>OUT017</td>\n",
       "    </tr>\n",
       "    <tr>\n",
       "      <th>5663</th>\n",
       "      <td>DRH36</td>\n",
       "      <td>1111.165044</td>\n",
       "      <td>OUT018</td>\n",
       "    </tr>\n",
       "    <tr>\n",
       "      <th>5664</th>\n",
       "      <td>DRC36</td>\n",
       "      <td>2668.155520</td>\n",
       "      <td>OUT018</td>\n",
       "    </tr>\n",
       "    <tr>\n",
       "      <th>5665</th>\n",
       "      <td>DRE03</td>\n",
       "      <td>1094.106734</td>\n",
       "      <td>OUT027</td>\n",
       "    </tr>\n",
       "    <tr>\n",
       "      <th>5666</th>\n",
       "      <td>FDF34</td>\n",
       "      <td>3119.882759</td>\n",
       "      <td>OUT046</td>\n",
       "    </tr>\n",
       "    <tr>\n",
       "      <th>5667</th>\n",
       "      <td>FDZ22</td>\n",
       "      <td>1384.141101</td>\n",
       "      <td>OUT046</td>\n",
       "    </tr>\n",
       "    <tr>\n",
       "      <th>5668</th>\n",
       "      <td>FDC44</td>\n",
       "      <td>375.479301</td>\n",
       "      <td>OUT010</td>\n",
       "    </tr>\n",
       "    <tr>\n",
       "      <th>5669</th>\n",
       "      <td>FDN31</td>\n",
       "      <td>4973.688463</td>\n",
       "      <td>OUT027</td>\n",
       "    </tr>\n",
       "    <tr>\n",
       "      <th>5670</th>\n",
       "      <td>FDO03</td>\n",
       "      <td>3800.531910</td>\n",
       "      <td>OUT017</td>\n",
       "    </tr>\n",
       "    <tr>\n",
       "      <th>5671</th>\n",
       "      <td>FDA01</td>\n",
       "      <td>1004.028050</td>\n",
       "      <td>OUT049</td>\n",
       "    </tr>\n",
       "    <tr>\n",
       "      <th>5672</th>\n",
       "      <td>NCH42</td>\n",
       "      <td>3797.405317</td>\n",
       "      <td>OUT049</td>\n",
       "    </tr>\n",
       "    <tr>\n",
       "      <th>5673</th>\n",
       "      <td>FDF46</td>\n",
       "      <td>1724.426841</td>\n",
       "      <td>OUT018</td>\n",
       "    </tr>\n",
       "    <tr>\n",
       "      <th>5674</th>\n",
       "      <td>DRL35</td>\n",
       "      <td>765.148673</td>\n",
       "      <td>OUT046</td>\n",
       "    </tr>\n",
       "    <tr>\n",
       "      <th>5675</th>\n",
       "      <td>FDW46</td>\n",
       "      <td>1085.969146</td>\n",
       "      <td>OUT049</td>\n",
       "    </tr>\n",
       "    <tr>\n",
       "      <th>5676</th>\n",
       "      <td>FDB58</td>\n",
       "      <td>2186.894655</td>\n",
       "      <td>OUT046</td>\n",
       "    </tr>\n",
       "    <tr>\n",
       "      <th>5677</th>\n",
       "      <td>FDD47</td>\n",
       "      <td>2538.554817</td>\n",
       "      <td>OUT018</td>\n",
       "    </tr>\n",
       "    <tr>\n",
       "      <th>5678</th>\n",
       "      <td>NCO17</td>\n",
       "      <td>1913.754323</td>\n",
       "      <td>OUT045</td>\n",
       "    </tr>\n",
       "    <tr>\n",
       "      <th>5679</th>\n",
       "      <td>FDJ26</td>\n",
       "      <td>3481.181865</td>\n",
       "      <td>OUT017</td>\n",
       "    </tr>\n",
       "    <tr>\n",
       "      <th>5680</th>\n",
       "      <td>FDU37</td>\n",
       "      <td>1332.430270</td>\n",
       "      <td>OUT045</td>\n",
       "    </tr>\n",
       "  </tbody>\n",
       "</table>\n",
       "<p>5681 rows × 3 columns</p>\n",
       "</div>"
      ],
      "text/plain": [
       "     Item_Identifier  Item_Outlet_Sales Outlet_Identifier\n",
       "0              FDW58        1697.622015            OUT049\n",
       "1              FDW14        1401.743882            OUT017\n",
       "2              NCN55         632.809222            OUT010\n",
       "3              FDQ58        2463.778649            OUT017\n",
       "4              FDY38        5925.268649            OUT027\n",
       "5              FDH56        1912.381038            OUT046\n",
       "6              FDL48         768.220021            OUT018\n",
       "7              FDC48        2202.535244            OUT027\n",
       "8              FDN33        1558.639654            OUT045\n",
       "9              FDA36        3121.744063            OUT017\n",
       "10             FDT44        1912.381038            OUT017\n",
       "11             FDQ56        1401.743882            OUT045\n",
       "12             NCC54         863.129009            OUT019\n",
       "13             FDU11        2043.211258            OUT049\n",
       "14             DRL59         837.154193            OUT013\n",
       "15             FDM24        2452.279873            OUT049\n",
       "16             FDI57        3112.832680            OUT045\n",
       "17             DRC12        2866.515582            OUT018\n",
       "18             NCM42        2725.086987            OUT027\n",
       "19             FDA46         567.953771            OUT010\n",
       "20             FDA31        2851.847677            OUT013\n",
       "21             NCJ31        3812.495107            OUT035\n",
       "22             FDG52         841.056551            OUT046\n",
       "23             NCL19         426.627362            OUT019\n",
       "24             FDS10        2930.919192            OUT035\n",
       "25             FDX22         618.376149            OUT010\n",
       "26             NCF19         842.339702            OUT035\n",
       "27             NCE06        2605.456776            OUT046\n",
       "28             DRC27        3862.844916            OUT046\n",
       "29             FDE21        1924.021094            OUT035\n",
       "...              ...                ...               ...\n",
       "5651           FDD23        3119.882759            OUT013\n",
       "5652           FDP32        2068.663060            OUT045\n",
       "5653           FDO31        1334.373824            OUT035\n",
       "5654           FDQ57        2460.919980            OUT013\n",
       "5655           FDX32        3716.816541            OUT027\n",
       "5656           FDC39        5342.118395            OUT027\n",
       "5657           FDU55        3989.117738            OUT046\n",
       "5658           FDL45        2048.815069            OUT013\n",
       "5659           DRK37        3121.744063            OUT049\n",
       "5660           FDK22        3472.419384            OUT013\n",
       "5661           DRG37        3748.553066            OUT027\n",
       "5662           FDK22        3477.407281            OUT017\n",
       "5663           DRH36        1111.165044            OUT018\n",
       "5664           DRC36        2668.155520            OUT018\n",
       "5665           DRE03        1094.106734            OUT027\n",
       "5666           FDF34        3119.882759            OUT046\n",
       "5667           FDZ22        1384.141101            OUT046\n",
       "5668           FDC44         375.479301            OUT010\n",
       "5669           FDN31        4973.688463            OUT027\n",
       "5670           FDO03        3800.531910            OUT017\n",
       "5671           FDA01        1004.028050            OUT049\n",
       "5672           NCH42        3797.405317            OUT049\n",
       "5673           FDF46        1724.426841            OUT018\n",
       "5674           DRL35         765.148673            OUT046\n",
       "5675           FDW46        1085.969146            OUT049\n",
       "5676           FDB58        2186.894655            OUT046\n",
       "5677           FDD47        2538.554817            OUT018\n",
       "5678           NCO17        1913.754323            OUT045\n",
       "5679           FDJ26        3481.181865            OUT017\n",
       "5680           FDU37        1332.430270            OUT045\n",
       "\n",
       "[5681 rows x 3 columns]"
      ]
     },
     "execution_count": 78,
     "metadata": {},
     "output_type": "execute_result"
    }
   ],
   "source": [
    "Sales = pd.DataFrame({'Item_Identifier':Final.Item_Identifier.values,'Item_Outlet_Sales':Item_Outlet_Sales,'Outlet_Identifier':Final.Outlet_Identifier.values})\n",
    "Sales"
   ]
  },
  {
   "cell_type": "code",
   "execution_count": 79,
   "metadata": {},
   "outputs": [],
   "source": [
    "Sales.to_csv(\"Martsales.csv\", encoding='utf-8')"
   ]
  },
  {
   "cell_type": "markdown",
   "metadata": {},
   "source": [
    "# End of Program"
   ]
  }
 ],
 "metadata": {
  "kernelspec": {
   "display_name": "Python 3",
   "language": "python",
   "name": "python3"
  },
  "language_info": {
   "codemirror_mode": {
    "name": "ipython",
    "version": 3
   },
   "file_extension": ".py",
   "mimetype": "text/x-python",
   "name": "python",
   "nbconvert_exporter": "python",
   "pygments_lexer": "ipython3",
   "version": "3.5.4"
  }
 },
 "nbformat": 4,
 "nbformat_minor": 2
}
