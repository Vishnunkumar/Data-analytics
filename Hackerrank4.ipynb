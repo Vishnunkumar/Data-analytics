{
 "cells": [
  {
   "cell_type": "code",
   "execution_count": 6,
   "metadata": {},
   "outputs": [],
   "source": [
    "import numpy as np\n",
    "import pandas as pd\n",
    "import matplotlib.pylab as plt"
   ]
  },
  {
   "cell_type": "code",
   "execution_count": 12,
   "metadata": {},
   "outputs": [],
   "source": [
    "a = np.zeros((1,100))\n",
    "b = np.random.randn(1,100)"
   ]
  },
  {
   "cell_type": "code",
   "execution_count": 13,
   "metadata": {},
   "outputs": [],
   "source": [
    "a = .9*(a)+.1*(b)"
   ]
  },
  {
   "cell_type": "code",
   "execution_count": 15,
   "metadata": {},
   "outputs": [
    {
     "data": {
      "text/plain": [
       "array([[-0.1426888 , -1.39185401,  1.08093525, -0.06797432, -1.34050402,\n",
       "         0.2043993 ,  2.17376397, -0.90249248, -0.63247957,  0.66120006,\n",
       "         2.44129266, -0.28059161,  1.39498892, -0.41384892,  0.69332391,\n",
       "         0.35852081,  1.47462887, -0.21615175,  0.28726073,  2.5300049 ,\n",
       "         2.00407234,  0.83099672,  0.65571999,  1.07098062,  0.14180004,\n",
       "         0.57502292,  0.38340539, -0.59904183,  0.02554482, -0.90210925,\n",
       "         0.25452435,  0.27183086,  0.67566842, -2.38531993,  0.66999477,\n",
       "        -1.61010541,  0.69295197, -0.69915114, -0.80310729, -0.49220818,\n",
       "         0.2602133 , -0.32881961, -0.20391065, -1.4679778 , -0.16813071,\n",
       "        -1.12301118,  1.1909939 ,  0.01705128, -0.07892493, -0.64292505,\n",
       "        -1.58458276,  0.41990999,  1.92518422, -1.238586  , -0.41625137,\n",
       "        -0.63044883, -0.11065498, -1.82159877,  1.21459504,  0.32850453,\n",
       "         0.46916001,  0.57903805, -1.30137652,  0.98312076,  1.3824576 ,\n",
       "         0.01902067,  0.60865007, -2.0479099 , -0.06747091,  1.11181855,\n",
       "        -0.18153818, -1.1586841 , -0.82911639, -0.08353098, -0.06511827,\n",
       "         0.30948687,  0.16268037, -0.10114664, -0.41555036,  1.34155308,\n",
       "        -0.51600643,  1.31722479,  1.13569074, -0.30005564,  0.30804953,\n",
       "        -0.47246966, -0.3941405 , -0.68170044,  0.7765185 ,  1.40476167,\n",
       "         1.33151342,  2.08450943,  1.16352136,  0.38345278,  0.6212751 ,\n",
       "         0.61492768, -0.24895828,  1.45178213,  0.67047791, -0.5312183 ]])"
      ]
     },
     "execution_count": 15,
     "metadata": {},
     "output_type": "execute_result"
    }
   ],
   "source": [
    "a\n",
    "b"
   ]
  },
  {
   "cell_type": "code",
   "execution_count": 16,
   "metadata": {},
   "outputs": [
    {
     "data": {
      "text/plain": [
       "<matplotlib.collections.PathCollection at 0xacf4a61048>"
      ]
     },
     "execution_count": 16,
     "metadata": {},
     "output_type": "execute_result"
    },
    {
     "data": {
      "image/png": "[encoded data removed]",
      "text/plain": [
       "<matplotlib.figure.Figure at 0xacf4520b38>"
      ]
     },
     "metadata": {},
     "output_type": "display_data"
    }
   ],
   "source": [
    "plt.scatter(a,b)"
   ]
  },
  {
   "cell_type": "code",
   "execution_count": 86,
   "metadata": {},
   "outputs": [
    {
     "name": "stdout",
     "output_type": "stream",
     "text": [
      "UUDDDDUU\n"
     ]
    }
   ],
   "source": [
    "A = input()"
   ]
  },
  {
   "cell_type": "code",
   "execution_count": 87,
   "metadata": {},
   "outputs": [],
   "source": [
    "N = len(A)"
   ]
  },
  {
   "cell_type": "code",
   "execution_count": 88,
   "metadata": {},
   "outputs": [],
   "source": [
    "A = list(A)"
   ]
  },
  {
   "cell_type": "code",
   "execution_count": 89,
   "metadata": {},
   "outputs": [],
   "source": [
    "A = [1 if k == 'D' else -1 for k in A]"
   ]
  },
  {
   "cell_type": "code",
   "execution_count": 92,
   "metadata": {},
   "outputs": [
    {
     "data": {
      "text/plain": [
       "[-1, -1, 1, 1, 1, 1, -1, -1]"
      ]
     },
     "execution_count": 92,
     "metadata": {},
     "output_type": "execute_result"
    }
   ],
   "source": [
    "A"
   ]
  },
  {
   "cell_type": "code",
   "execution_count": null,
   "metadata": {},
   "outputs": [],
   "source": []
  },
  {
   "cell_type": "code",
   "execution_count": null,
   "metadata": {},
   "outputs": [],
   "source": []
  }
 ],
 "metadata": {
  "kernelspec": {
   "display_name": "Python 3",
   "language": "python",
   "name": "python3"
  },
  "language_info": {
   "codemirror_mode": {
    "name": "ipython",
    "version": 3
   },
   "file_extension": ".py",
   "mimetype": "text/x-python",
   "name": "python",
   "nbconvert_exporter": "python",
   "pygments_lexer": "ipython3",
   "version": "3.5.4"
  }
 },
 "nbformat": 4,
 "nbformat_minor": 2
}
