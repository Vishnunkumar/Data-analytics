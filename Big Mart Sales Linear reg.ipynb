{
 "cells": [
  {
   "cell_type": "code",
   "execution_count": 1,
   "metadata": {},
   "outputs": [],
   "source": [
    "import numpy as np\n",
    "import matplotlib.pyplot as plt\n",
    "from sklearn.ensemble import*\n",
    "import pandas as pd"
   ]
  },
  {
   "cell_type": "code",
   "execution_count": 2,
   "metadata": {},
   "outputs": [],
   "source": [
    "from collections import Counter\n",
    "#used to find frequency in the list"
   ]
  },
  {
   "cell_type": "code",
   "execution_count": 3,
   "metadata": {},
   "outputs": [
    {
     "name": "stdout",
     "output_type": "stream",
     "text": [
      "User_ID                            0\n",
      "Product_ID                         0\n",
      "Gender                             0\n",
      "Age                                0\n",
      "Occupation                         0\n",
      "City_Category                      0\n",
      "Stay_In_Current_City_Years         0\n",
      "Marital_Status                     0\n",
      "Product_Category_1                 0\n",
      "Product_Category_2             72344\n",
      "Product_Category_3            162562\n",
      "dtype: int64\n"
     ]
    },
    {
     "data": {
      "text/plain": [
       "User_ID                            0\n",
       "Product_ID                         0\n",
       "Gender                             0\n",
       "Age                                0\n",
       "Occupation                         0\n",
       "City_Category                      0\n",
       "Stay_In_Current_City_Years         0\n",
       "Marital_Status                     0\n",
       "Product_Category_1                 0\n",
       "Product_Category_2            173638\n",
       "Product_Category_3            383247\n",
       "Purchase                           0\n",
       "dtype: int64"
      ]
     },
     "execution_count": 3,
     "metadata": {},
     "output_type": "execute_result"
    }
   ],
   "source": [
    "train = pd.read_csv('trainbb.csv')\n",
    "test = pd.read_csv('testbb.csv')\n",
    "print(test.isnull().sum())\n",
    "train.isnull().sum()"
   ]
  },
  {
   "cell_type": "code",
   "execution_count": null,
   "metadata": {},
   "outputs": [
    {
     "name": "stderr",
     "output_type": "stream",
     "text": [
      "C:\\Users\\Vishnu\\Anaconda3\\envs\\py35\\lib\\site-packages\\scipy\\interpolate\\polyint.py:511: RuntimeWarning: overflow encountered in multiply\n",
      "  self.wi[:j] *= (self.xi[j]-self.xi[:j])\n"
     ]
    }
   ],
   "source": [
    "train = train.interpolate(method='barycentric')\n",
    "test = test.interpolate(method='barycentric')"
   ]
  },
  {
   "cell_type": "markdown",
   "metadata": {},
   "source": [
    "# DATA PREPROCESSING"
   ]
  },
  {
   "cell_type": "code",
   "execution_count": null,
   "metadata": {},
   "outputs": [],
   "source": [
    "train.isnull().sum()\n",
    "test.Stay_In_Current_City_Years.replace('4+','10')"
   ]
  },
  {
   "cell_type": "code",
   "execution_count": 182,
   "metadata": {},
   "outputs": [
    {
     "name": "stdout",
     "output_type": "stream",
     "text": [
      "Item_Identifier              0\n",
      "Item_Weight                  0\n",
      "Item_Fat_Content             0\n",
      "Item_Visibility              0\n",
      "Item_Type                    0\n",
      "Item_MRP                     0\n",
      "Outlet_Establishment_Year    0\n",
      "Outlet_Size                  0\n",
      "Outlet_Location_Type         0\n",
      "Outlet_Type                  0\n",
      "Item_Outlet_Sales            0\n",
      "dtype: int64\n",
      "Item_Identifier              0\n",
      "Item_Weight                  0\n",
      "Item_Fat_Content             0\n",
      "Item_Visibility              0\n",
      "Item_Type                    0\n",
      "Item_MRP                     0\n",
      "Outlet_Establishment_Year    0\n",
      "Outlet_Size                  0\n",
      "Outlet_Location_Type         0\n",
      "Outlet_Type                  0\n",
      "dtype: int64\n",
      "(4650, 11)\n",
      "(3099, 10)\n"
     ]
    }
   ],
   "source": [
    "print(train.isnull().sum())\n",
    "print(test.isnull().sum())\n",
    "print(train.shape)\n",
    "print(test.shape)"
   ]
  },
  {
   "cell_type": "code",
   "execution_count": 183,
   "metadata": {},
   "outputs": [
    {
     "name": "stdout",
     "output_type": "stream",
     "text": [
      "0    3735.1380\n",
      "1     443.4228\n",
      "2    2097.2700\n",
      "4     994.7052\n",
      "5     556.6088\n",
      "Name: Item_Outlet_Sales, dtype: float64\n",
      "   Item_Weight  Item_Fat_Content  Item_Visibility     Item_Type  Item_MRP  \\\n",
      "0        9.300                 1         0.016047         Dairy  249.8092   \n",
      "1        5.920                 0         0.019278   Soft Drinks   48.2692   \n",
      "2       17.500                 1         0.016760          Meat  141.6180   \n",
      "4        8.930                 1         0.000000     Household   53.8614   \n",
      "5       10.395                 0         0.000000  Baking Goods   51.4008   \n",
      "\n",
      "   Outlet_Establishment_Year  Outlet_Size  Outlet_Location_Type  \\\n",
      "0                       1999          2.0                     1   \n",
      "1                       2009          2.0                     3   \n",
      "2                       1999          2.0                     1   \n",
      "4                       1987          3.0                     3   \n",
      "5                       2009          2.0                     3   \n",
      "\n",
      "         Outlet_Type  \n",
      "0  Supermarket Type1  \n",
      "1  Supermarket Type2  \n",
      "2  Supermarket Type1  \n",
      "4  Supermarket Type1  \n",
      "5  Supermarket Type2  \n"
     ]
    }
   ],
   "source": [
    "tr_x = train.iloc[0:4650,1:10]\n",
    "te_x = test.iloc[0:3099,1:10]\n",
    "tr_y = train.iloc[0:4650,10]\n",
    "print(tr_y.head())\n",
    "Counter(tr_x.Outlet_Type)\n",
    "print(tr_x.head())"
   ]
  },
  {
   "cell_type": "code",
   "execution_count": 184,
   "metadata": {},
   "outputs": [],
   "source": [
    "#function to replace missing values\n",
    "def transcore(x):\n",
    "    if x == \"Baking Goods\":\n",
    "        return 0\n",
    "    if x == \"Breads\":\n",
    "        return 1\n",
    "    if x == \"Break fast\":\n",
    "        return 2\n",
    "    if x == \"Canned\":\n",
    "        return 3\n",
    "    if x == \"Dairy\":\n",
    "        return 4\n",
    "    if x == \"Frozen Foods\":\n",
    "        return 5\n",
    "    if x == \"Fruits and Vegetables\":\n",
    "        return 6\n",
    "    if x == \"Hard Drinks\":\n",
    "        return 7\n",
    "    if x == \"Health and Hygiene\":\n",
    "        return 8\n",
    "    if x == \"Household\":\n",
    "        return 9\n",
    "    if x == \"Meat\":\n",
    "        return 10\n",
    "    if x == \"Others\":\n",
    "        return 11\n",
    "    if x == \"Seafood\":\n",
    "        return 12\n",
    "    if x == \"Snack Foods\":\n",
    "        return 13\n",
    "    if x == \"Soft Drinks\":\n",
    "        return 14\n",
    "    if x == \"Starchy Foods\":\n",
    "        return 15\n",
    "    if x == \" \":\n",
    "        return 16\n",
    "    "
   ]
  },
  {
   "cell_type": "code",
   "execution_count": 185,
   "metadata": {},
   "outputs": [],
   "source": [
    "def groupscore(x):\n",
    "    if x == \"Grocery Store\":\n",
    "        return 0\n",
    "    if x == \"Supermarket Type1\":\n",
    "        return 1\n",
    "    if x == \"Supermarket Type2\":\n",
    "        return 2\n",
    "    if x == \"Supermarket Type3\":\n",
    "        return 3"
   ]
  },
  {
   "cell_type": "code",
   "execution_count": 186,
   "metadata": {},
   "outputs": [
    {
     "data": {
      "text/plain": [
       "Index(['Item_Weight', 'Item_Fat_Content', 'Item_Visibility', 'Item_Type',\n",
       "       'Item_MRP', 'Outlet_Establishment_Year', 'Outlet_Size',\n",
       "       'Outlet_Location_Type', 'Outlet_Type'],\n",
       "      dtype='object')"
      ]
     },
     "execution_count": 186,
     "metadata": {},
     "output_type": "execute_result"
    }
   ],
   "source": [
    "tr_x.columns"
   ]
  },
  {
   "cell_type": "code",
   "execution_count": 187,
   "metadata": {},
   "outputs": [],
   "source": [
    "tr_x['New_Type'] = tr_x['Item_Type'].apply(transcore)\n",
    "#axis=1 indicates column while axis=0 indicates row\n",
    "tr_x.drop('Item_Type', axis=1,inplace=True)\n",
    "te_x['New_Type'] = te_x['Item_Type'].apply(transcore)\n",
    "te_x.drop('Item_Type', axis=1,inplace=True)\n",
    "#inplace=True defines that drop operation should take place\n",
    "#inplace=True defines that drop operation should take place"
   ]
  },
  {
   "cell_type": "code",
   "execution_count": 188,
   "metadata": {},
   "outputs": [
    {
     "name": "stdout",
     "output_type": "stream",
     "text": [
      "Item_Weight                  float64\n",
      "Item_Fat_Content               int64\n",
      "Item_Visibility              float64\n",
      "Item_MRP                     float64\n",
      "Outlet_Establishment_Year      int64\n",
      "Outlet_Size                  float64\n",
      "Outlet_Location_Type           int64\n",
      "Outlet_Type                   object\n",
      "New_Type                     float64\n",
      "dtype: object\n",
      "Item_Weight                  float64\n",
      "Item_Fat_Content               int64\n",
      "Item_Visibility              float64\n",
      "Item_MRP                     float64\n",
      "Outlet_Establishment_Year      int64\n",
      "Outlet_Size                  float64\n",
      "Outlet_Location_Type           int64\n",
      "Outlet_Type                   object\n",
      "New_Type                     float64\n",
      "dtype: object\n"
     ]
    }
   ],
   "source": [
    "#ensuring that all data are pre-processed for mathematical applications\n",
    "print(tr_x.dtypes)\n",
    "print(te_x.dtypes)"
   ]
  },
  {
   "cell_type": "code",
   "execution_count": 189,
   "metadata": {},
   "outputs": [
    {
     "name": "stdout",
     "output_type": "stream",
     "text": [
      "Item_Weight                   0\n",
      "Item_Fat_Content              0\n",
      "Item_Visibility               0\n",
      "Item_MRP                      0\n",
      "Outlet_Establishment_Year     0\n",
      "Outlet_Size                   0\n",
      "Outlet_Location_Type          0\n",
      "Outlet_Type                   0\n",
      "New_Type                     42\n",
      "dtype: int64\n",
      "Item_Weight                   0\n",
      "Item_Fat_Content              0\n",
      "Item_Visibility               0\n",
      "Item_MRP                      0\n",
      "Outlet_Establishment_Year     0\n",
      "Outlet_Size                   0\n",
      "Outlet_Location_Type          0\n",
      "Outlet_Type                   0\n",
      "New_Type                     58\n",
      "dtype: int64\n"
     ]
    }
   ],
   "source": [
    "#checking missing values in a dataframe\n",
    "print(te_x.isnull().sum())\n",
    "print(tr_x.isnull().sum())"
   ]
  },
  {
   "cell_type": "code",
   "execution_count": 190,
   "metadata": {},
   "outputs": [],
   "source": [
    "tr_x['Market_Type'] = tr_x['Outlet_Type'].apply(groupscore)\n",
    "#axis=1 indicates column while axis=0 indicates row\n",
    "tr_x.drop('Outlet_Type', axis=1,inplace=True)\n",
    "te_x['Market_Type'] = te_x['Outlet_Type'].apply(groupscore)\n",
    "te_x.drop('Outlet_Type', axis=1,inplace=True)"
   ]
  },
  {
   "cell_type": "code",
   "execution_count": 191,
   "metadata": {},
   "outputs": [
    {
     "name": "stdout",
     "output_type": "stream",
     "text": [
      "Item_Weight                   0\n",
      "Item_Fat_Content              0\n",
      "Item_Visibility               0\n",
      "Item_MRP                      0\n",
      "Outlet_Establishment_Year     0\n",
      "Outlet_Size                   0\n",
      "Outlet_Location_Type          0\n",
      "New_Type                     58\n",
      "Market_Type                   0\n",
      "dtype: int64\n",
      "Item_Weight                   0\n",
      "Item_Fat_Content              0\n",
      "Item_Visibility               0\n",
      "Item_MRP                      0\n",
      "Outlet_Establishment_Year     0\n",
      "Outlet_Size                   0\n",
      "Outlet_Location_Type          0\n",
      "New_Type                     42\n",
      "Market_Type                   0\n",
      "dtype: int64\n"
     ]
    }
   ],
   "source": [
    "print(tr_x.isnull().sum())\n",
    "print(te_x.isnull().sum())"
   ]
  },
  {
   "cell_type": "code",
   "execution_count": 192,
   "metadata": {},
   "outputs": [
    {
     "data": {
      "text/plain": [
       "Item_Weight                  0\n",
       "Item_Fat_Content             0\n",
       "Item_Visibility              0\n",
       "Item_MRP                     0\n",
       "Outlet_Establishment_Year    0\n",
       "Outlet_Size                  0\n",
       "Outlet_Location_Type         0\n",
       "New_Type                     0\n",
       "Market_Type                  0\n",
       "dtype: int64"
      ]
     },
     "execution_count": 192,
     "metadata": {},
     "output_type": "execute_result"
    }
   ],
   "source": [
    "tr_x.New_Type.fillna(1,inplace=True)\n",
    "te_x.New_Type.fillna(1,inplace=True)\n",
    "te_x.isnull().sum()"
   ]
  },
  {
   "cell_type": "code",
   "execution_count": 193,
   "metadata": {},
   "outputs": [
    {
     "data": {
      "text/plain": [
       "(4650, 9)"
      ]
     },
     "execution_count": 193,
     "metadata": {},
     "output_type": "execute_result"
    }
   ],
   "source": [
    "tr_x.shape"
   ]
  },
  {
   "cell_type": "code",
   "execution_count": 194,
   "metadata": {},
   "outputs": [
    {
     "data": {
      "text/plain": [
       "0    3735.1380\n",
       "1     443.4228\n",
       "2    2097.2700\n",
       "4     994.7052\n",
       "5     556.6088\n",
       "Name: Item_Outlet_Sales, dtype: float64"
      ]
     },
     "execution_count": 194,
     "metadata": {},
     "output_type": "execute_result"
    }
   ],
   "source": [
    "tr_y.head()"
   ]
  },
  {
   "cell_type": "code",
   "execution_count": 195,
   "metadata": {},
   "outputs": [
    {
     "data": {
      "text/plain": [
       "(4650,)"
      ]
     },
     "execution_count": 195,
     "metadata": {},
     "output_type": "execute_result"
    }
   ],
   "source": [
    "tr_y.shape"
   ]
  },
  {
   "cell_type": "markdown",
   "metadata": {},
   "source": [
    "# Checking Dimensionality"
   ]
  },
  {
   "cell_type": "code",
   "execution_count": 196,
   "metadata": {},
   "outputs": [
    {
     "data": {
      "text/plain": [
       "Item_Weight                  0\n",
       "Item_Fat_Content             0\n",
       "Item_Visibility              0\n",
       "Item_MRP                     0\n",
       "Outlet_Establishment_Year    0\n",
       "Outlet_Size                  0\n",
       "Outlet_Location_Type         0\n",
       "New_Type                     0\n",
       "Market_Type                  0\n",
       "dtype: int64"
      ]
     },
     "execution_count": 196,
     "metadata": {},
     "output_type": "execute_result"
    }
   ],
   "source": [
    "tr_x.isnull().sum()"
   ]
  },
  {
   "cell_type": "code",
   "execution_count": 197,
   "metadata": {},
   "outputs": [
    {
     "data": {
      "text/plain": [
       "Item_Weight                  0\n",
       "Item_Fat_Content             0\n",
       "Item_Visibility              0\n",
       "Item_MRP                     0\n",
       "Outlet_Establishment_Year    0\n",
       "Outlet_Size                  0\n",
       "Outlet_Location_Type         0\n",
       "New_Type                     0\n",
       "Market_Type                  0\n",
       "dtype: int64"
      ]
     },
     "execution_count": 197,
     "metadata": {},
     "output_type": "execute_result"
    }
   ],
   "source": [
    "te_x.isnull().sum()"
   ]
  },
  {
   "cell_type": "code",
   "execution_count": 198,
   "metadata": {},
   "outputs": [],
   "source": [
    "reg = lm.LinearRegression()"
   ]
  },
  {
   "cell_type": "markdown",
   "metadata": {
    "scrolled": true
   },
   "source": [
    "# Regression Starts"
   ]
  },
  {
   "cell_type": "code",
   "execution_count": 199,
   "metadata": {},
   "outputs": [
    {
     "data": {
      "text/plain": [
       "LinearRegression(copy_X=True, fit_intercept=True, n_jobs=1, normalize=False)"
      ]
     },
     "execution_count": 199,
     "metadata": {},
     "output_type": "execute_result"
    }
   ],
   "source": [
    "reg.fit(tr_x,tr_y)"
   ]
  },
  {
   "cell_type": "code",
   "execution_count": 200,
   "metadata": {},
   "outputs": [
    {
     "data": {
      "text/plain": [
       "array([-3.75417745e+00, -1.41138092e+01, -1.67012800e+02,  1.63117969e+01,\n",
       "        1.62112042e+01,  6.68961762e+01,  3.01301036e+01,  5.61081178e-01,\n",
       "       -5.97791846e+02])"
      ]
     },
     "execution_count": 200,
     "metadata": {},
     "output_type": "execute_result"
    }
   ],
   "source": [
    "reg.coef_"
   ]
  },
  {
   "cell_type": "code",
   "execution_count": 201,
   "metadata": {},
   "outputs": [],
   "source": [
    "pred = reg.predict(te_x)"
   ]
  },
  {
   "cell_type": "code",
   "execution_count": 202,
   "metadata": {},
   "outputs": [],
   "source": [
    "Outlet_sales = pred"
   ]
  },
  {
   "cell_type": "code",
   "execution_count": 203,
   "metadata": {},
   "outputs": [
    {
     "data": {
      "text/plain": [
       "array([1796.90003874, 1890.9687302 ,  478.87413984, ..., 1105.14373081,\n",
       "       2294.86672831, 2463.09528674])"
      ]
     },
     "execution_count": 203,
     "metadata": {},
     "output_type": "execute_result"
    }
   ],
   "source": [
    "#Sales is predicted and given as output in Outlet_sales\n",
    "Outlet_sales"
   ]
  },
  {
   "cell_type": "code",
   "execution_count": 204,
   "metadata": {},
   "outputs": [
    {
     "data": {
      "text/plain": [
       "(3099,)"
      ]
     },
     "execution_count": 204,
     "metadata": {},
     "output_type": "execute_result"
    }
   ],
   "source": [
    "import random\n",
    "Outlet_sales.shape"
   ]
  },
  {
   "cell_type": "code",
   "execution_count": 23,
   "metadata": {},
   "outputs": [
    {
     "data": {
      "text/plain": [
       "(5681,)"
      ]
     },
     "execution_count": 23,
     "metadata": {},
     "output_type": "execute_result"
    }
   ],
   "source": [
    "Id = np.array(range(0,5681))\n",
    "Id.shape"
   ]
  },
  {
   "cell_type": "code",
   "execution_count": 24,
   "metadata": {},
   "outputs": [
    {
     "data": {
      "text/html": [
       "<div>\n",
       "<style scoped>\n",
       "    .dataframe tbody tr th:only-of-type {\n",
       "        vertical-align: middle;\n",
       "    }\n",
       "\n",
       "    .dataframe tbody tr th {\n",
       "        vertical-align: top;\n",
       "    }\n",
       "\n",
       "    .dataframe thead th {\n",
       "        text-align: right;\n",
       "    }\n",
       "</style>\n",
       "<table border=\"1\" class=\"dataframe\">\n",
       "  <thead>\n",
       "    <tr style=\"text-align: right;\">\n",
       "      <th></th>\n",
       "      <th>Id</th>\n",
       "      <th>Outlet_sales</th>\n",
       "    </tr>\n",
       "  </thead>\n",
       "  <tbody>\n",
       "    <tr>\n",
       "      <th>0</th>\n",
       "      <td>0</td>\n",
       "      <td>1605.192734</td>\n",
       "    </tr>\n",
       "    <tr>\n",
       "      <th>1</th>\n",
       "      <td>1</td>\n",
       "      <td>1241.941807</td>\n",
       "    </tr>\n",
       "    <tr>\n",
       "      <th>2</th>\n",
       "      <td>2</td>\n",
       "      <td>3567.911310</td>\n",
       "    </tr>\n",
       "    <tr>\n",
       "      <th>3</th>\n",
       "      <td>3</td>\n",
       "      <td>2311.349049</td>\n",
       "    </tr>\n",
       "    <tr>\n",
       "      <th>4</th>\n",
       "      <td>4</td>\n",
       "      <td>3825.349672</td>\n",
       "    </tr>\n",
       "    <tr>\n",
       "      <th>5</th>\n",
       "      <td>5</td>\n",
       "      <td>1799.882467</td>\n",
       "    </tr>\n",
       "    <tr>\n",
       "      <th>6</th>\n",
       "      <td>6</td>\n",
       "      <td>919.396973</td>\n",
       "    </tr>\n",
       "    <tr>\n",
       "      <th>7</th>\n",
       "      <td>7</td>\n",
       "      <td>1810.779071</td>\n",
       "    </tr>\n",
       "    <tr>\n",
       "      <th>8</th>\n",
       "      <td>8</td>\n",
       "      <td>1044.132354</td>\n",
       "    </tr>\n",
       "    <tr>\n",
       "      <th>9</th>\n",
       "      <td>9</td>\n",
       "      <td>2870.932158</td>\n",
       "    </tr>\n",
       "    <tr>\n",
       "      <th>10</th>\n",
       "      <td>10</td>\n",
       "      <td>1324.994200</td>\n",
       "    </tr>\n",
       "    <tr>\n",
       "      <th>11</th>\n",
       "      <td>11</td>\n",
       "      <td>889.881037</td>\n",
       "    </tr>\n",
       "    <tr>\n",
       "      <th>12</th>\n",
       "      <td>12</td>\n",
       "      <td>3257.859405</td>\n",
       "    </tr>\n",
       "    <tr>\n",
       "      <th>13</th>\n",
       "      <td>13</td>\n",
       "      <td>1571.687048</td>\n",
       "    </tr>\n",
       "    <tr>\n",
       "      <th>14</th>\n",
       "      <td>14</td>\n",
       "      <td>1145.924749</td>\n",
       "    </tr>\n",
       "    <tr>\n",
       "      <th>15</th>\n",
       "      <td>15</td>\n",
       "      <td>2152.378957</td>\n",
       "    </tr>\n",
       "    <tr>\n",
       "      <th>16</th>\n",
       "      <td>16</td>\n",
       "      <td>2790.401566</td>\n",
       "    </tr>\n",
       "    <tr>\n",
       "      <th>17</th>\n",
       "      <td>17</td>\n",
       "      <td>3233.149948</td>\n",
       "    </tr>\n",
       "    <tr>\n",
       "      <th>18</th>\n",
       "      <td>18</td>\n",
       "      <td>2192.047875</td>\n",
       "    </tr>\n",
       "    <tr>\n",
       "      <th>19</th>\n",
       "      <td>19</td>\n",
       "      <td>2411.967968</td>\n",
       "    </tr>\n",
       "    <tr>\n",
       "      <th>20</th>\n",
       "      <td>20</td>\n",
       "      <td>2735.611187</td>\n",
       "    </tr>\n",
       "    <tr>\n",
       "      <th>21</th>\n",
       "      <td>21</td>\n",
       "      <td>3274.553146</td>\n",
       "    </tr>\n",
       "    <tr>\n",
       "      <th>22</th>\n",
       "      <td>22</td>\n",
       "      <td>618.704814</td>\n",
       "    </tr>\n",
       "    <tr>\n",
       "      <th>23</th>\n",
       "      <td>23</td>\n",
       "      <td>2338.681970</td>\n",
       "    </tr>\n",
       "    <tr>\n",
       "      <th>24</th>\n",
       "      <td>24</td>\n",
       "      <td>2977.044752</td>\n",
       "    </tr>\n",
       "    <tr>\n",
       "      <th>25</th>\n",
       "      <td>25</td>\n",
       "      <td>3441.012375</td>\n",
       "    </tr>\n",
       "    <tr>\n",
       "      <th>26</th>\n",
       "      <td>26</td>\n",
       "      <td>947.611548</td>\n",
       "    </tr>\n",
       "    <tr>\n",
       "      <th>27</th>\n",
       "      <td>27</td>\n",
       "      <td>2313.528987</td>\n",
       "    </tr>\n",
       "    <tr>\n",
       "      <th>28</th>\n",
       "      <td>28</td>\n",
       "      <td>3711.589235</td>\n",
       "    </tr>\n",
       "    <tr>\n",
       "      <th>29</th>\n",
       "      <td>29</td>\n",
       "      <td>2075.424133</td>\n",
       "    </tr>\n",
       "    <tr>\n",
       "      <th>...</th>\n",
       "      <td>...</td>\n",
       "      <td>...</td>\n",
       "    </tr>\n",
       "    <tr>\n",
       "      <th>5651</th>\n",
       "      <td>5651</td>\n",
       "      <td>3219.504405</td>\n",
       "    </tr>\n",
       "    <tr>\n",
       "      <th>5652</th>\n",
       "      <td>5652</td>\n",
       "      <td>1608.698731</td>\n",
       "    </tr>\n",
       "    <tr>\n",
       "      <th>5653</th>\n",
       "      <td>5653</td>\n",
       "      <td>1594.592155</td>\n",
       "    </tr>\n",
       "    <tr>\n",
       "      <th>5654</th>\n",
       "      <td>5654</td>\n",
       "      <td>2718.840856</td>\n",
       "    </tr>\n",
       "    <tr>\n",
       "      <th>5655</th>\n",
       "      <td>5655</td>\n",
       "      <td>2497.113484</td>\n",
       "    </tr>\n",
       "    <tr>\n",
       "      <th>5656</th>\n",
       "      <td>5656</td>\n",
       "      <td>3171.471795</td>\n",
       "    </tr>\n",
       "    <tr>\n",
       "      <th>5657</th>\n",
       "      <td>5657</td>\n",
       "      <td>4048.629132</td>\n",
       "    </tr>\n",
       "    <tr>\n",
       "      <th>5658</th>\n",
       "      <td>5658</td>\n",
       "      <td>2185.366473</td>\n",
       "    </tr>\n",
       "    <tr>\n",
       "      <th>5659</th>\n",
       "      <td>5659</td>\n",
       "      <td>2794.754807</td>\n",
       "    </tr>\n",
       "    <tr>\n",
       "      <th>5660</th>\n",
       "      <td>5660</td>\n",
       "      <td>3694.882763</td>\n",
       "    </tr>\n",
       "    <tr>\n",
       "      <th>5661</th>\n",
       "      <td>5661</td>\n",
       "      <td>3021.808845</td>\n",
       "    </tr>\n",
       "    <tr>\n",
       "      <th>5662</th>\n",
       "      <td>5662</td>\n",
       "      <td>3174.038458</td>\n",
       "    </tr>\n",
       "    <tr>\n",
       "      <th>5663</th>\n",
       "      <td>5663</td>\n",
       "      <td>1406.407190</td>\n",
       "    </tr>\n",
       "    <tr>\n",
       "      <th>5664</th>\n",
       "      <td>5664</td>\n",
       "      <td>3011.906605</td>\n",
       "    </tr>\n",
       "    <tr>\n",
       "      <th>5665</th>\n",
       "      <td>5665</td>\n",
       "      <td>1226.816459</td>\n",
       "    </tr>\n",
       "    <tr>\n",
       "      <th>5666</th>\n",
       "      <td>5666</td>\n",
       "      <td>3244.505540</td>\n",
       "    </tr>\n",
       "    <tr>\n",
       "      <th>5667</th>\n",
       "      <td>5667</td>\n",
       "      <td>1252.911465</td>\n",
       "    </tr>\n",
       "    <tr>\n",
       "      <th>5668</th>\n",
       "      <td>5668</td>\n",
       "      <td>798.873000</td>\n",
       "    </tr>\n",
       "    <tr>\n",
       "      <th>5669</th>\n",
       "      <td>5669</td>\n",
       "      <td>3225.642316</td>\n",
       "    </tr>\n",
       "    <tr>\n",
       "      <th>5670</th>\n",
       "      <td>5670</td>\n",
       "      <td>3437.188676</td>\n",
       "    </tr>\n",
       "    <tr>\n",
       "      <th>5671</th>\n",
       "      <td>5671</td>\n",
       "      <td>775.209643</td>\n",
       "    </tr>\n",
       "    <tr>\n",
       "      <th>5672</th>\n",
       "      <td>5672</td>\n",
       "      <td>3478.938014</td>\n",
       "    </tr>\n",
       "    <tr>\n",
       "      <th>5673</th>\n",
       "      <td>5673</td>\n",
       "      <td>1873.037336</td>\n",
       "    </tr>\n",
       "    <tr>\n",
       "      <th>5674</th>\n",
       "      <td>5674</td>\n",
       "      <td>683.568884</td>\n",
       "    </tr>\n",
       "    <tr>\n",
       "      <th>5675</th>\n",
       "      <td>5675</td>\n",
       "      <td>766.239021</td>\n",
       "    </tr>\n",
       "    <tr>\n",
       "      <th>5676</th>\n",
       "      <td>5676</td>\n",
       "      <td>2376.153404</td>\n",
       "    </tr>\n",
       "    <tr>\n",
       "      <th>5677</th>\n",
       "      <td>5677</td>\n",
       "      <td>2559.709064</td>\n",
       "    </tr>\n",
       "    <tr>\n",
       "      <th>5678</th>\n",
       "      <td>5678</td>\n",
       "      <td>1523.730668</td>\n",
       "    </tr>\n",
       "    <tr>\n",
       "      <th>5679</th>\n",
       "      <td>5679</td>\n",
       "      <td>3345.768795</td>\n",
       "    </tr>\n",
       "    <tr>\n",
       "      <th>5680</th>\n",
       "      <td>5680</td>\n",
       "      <td>870.062084</td>\n",
       "    </tr>\n",
       "  </tbody>\n",
       "</table>\n",
       "<p>5681 rows × 2 columns</p>\n",
       "</div>"
      ],
      "text/plain": [
       "        Id  Outlet_sales\n",
       "0        0   1605.192734\n",
       "1        1   1241.941807\n",
       "2        2   3567.911310\n",
       "3        3   2311.349049\n",
       "4        4   3825.349672\n",
       "5        5   1799.882467\n",
       "6        6    919.396973\n",
       "7        7   1810.779071\n",
       "8        8   1044.132354\n",
       "9        9   2870.932158\n",
       "10      10   1324.994200\n",
       "11      11    889.881037\n",
       "12      12   3257.859405\n",
       "13      13   1571.687048\n",
       "14      14   1145.924749\n",
       "15      15   2152.378957\n",
       "16      16   2790.401566\n",
       "17      17   3233.149948\n",
       "18      18   2192.047875\n",
       "19      19   2411.967968\n",
       "20      20   2735.611187\n",
       "21      21   3274.553146\n",
       "22      22    618.704814\n",
       "23      23   2338.681970\n",
       "24      24   2977.044752\n",
       "25      25   3441.012375\n",
       "26      26    947.611548\n",
       "27      27   2313.528987\n",
       "28      28   3711.589235\n",
       "29      29   2075.424133\n",
       "...    ...           ...\n",
       "5651  5651   3219.504405\n",
       "5652  5652   1608.698731\n",
       "5653  5653   1594.592155\n",
       "5654  5654   2718.840856\n",
       "5655  5655   2497.113484\n",
       "5656  5656   3171.471795\n",
       "5657  5657   4048.629132\n",
       "5658  5658   2185.366473\n",
       "5659  5659   2794.754807\n",
       "5660  5660   3694.882763\n",
       "5661  5661   3021.808845\n",
       "5662  5662   3174.038458\n",
       "5663  5663   1406.407190\n",
       "5664  5664   3011.906605\n",
       "5665  5665   1226.816459\n",
       "5666  5666   3244.505540\n",
       "5667  5667   1252.911465\n",
       "5668  5668    798.873000\n",
       "5669  5669   3225.642316\n",
       "5670  5670   3437.188676\n",
       "5671  5671    775.209643\n",
       "5672  5672   3478.938014\n",
       "5673  5673   1873.037336\n",
       "5674  5674    683.568884\n",
       "5675  5675    766.239021\n",
       "5676  5676   2376.153404\n",
       "5677  5677   2559.709064\n",
       "5678  5678   1523.730668\n",
       "5679  5679   3345.768795\n",
       "5680  5680    870.062084\n",
       "\n",
       "[5681 rows x 2 columns]"
      ]
     },
     "execution_count": 24,
     "metadata": {},
     "output_type": "execute_result"
    }
   ],
   "source": [
    "Sales = pd.DataFrame({'Id':Id,'Outlet_sales':Outlet_sales})\n",
    "Sales"
   ]
  },
  {
   "cell_type": "code",
   "execution_count": 25,
   "metadata": {},
   "outputs": [],
   "source": [
    "Sales.to_csv(\"Martsales.csv\", encoding='utf-8')"
   ]
  },
  {
   "cell_type": "markdown",
   "metadata": {},
   "source": [
    "# End of Program"
   ]
  }
 ],
 "metadata": {
  "kernelspec": {
   "display_name": "Python 3",
   "language": "python",
   "name": "python3"
  },
  "language_info": {
   "codemirror_mode": {
    "name": "ipython",
    "version": 3
   },
   "file_extension": ".py",
   "mimetype": "text/x-python",
   "name": "python",
   "nbconvert_exporter": "python",
   "pygments_lexer": "ipython3",
   "version": "3.5.4"
  }
 },
 "nbformat": 4,
 "nbformat_minor": 2
}
