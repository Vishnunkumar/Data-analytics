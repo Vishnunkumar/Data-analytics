{
 "cells": [
  {
   "cell_type": "code",
   "execution_count": 6,
   "metadata": {},
   "outputs": [],
   "source": [
    "import cv2\n",
    "from tqdm import tqdm\n",
    "import numpy as np\n",
    "import os\n",
    "from random import shuffle"
   ]
  },
  {
   "cell_type": "code",
   "execution_count": 12,
   "metadata": {},
   "outputs": [],
   "source": [
    "train_dir='E:\\Placements\\Datasets\\Apparel\\train'\n",
    "test_dir='E:\\Placements\\Datasets\\Apparel\\test'\n",
    "Lr = 1e-3\n",
    "img_size = 28\n",
    "\n",
    "mod_name='apparel-{}-{}.model'.format(Lr,'2conv-basic')"
   ]
  },
  {
   "cell_type": "code",
   "execution_count": 13,
   "metadata": {},
   "outputs": [],
   "source": [
    "def img_label(img):\n",
    "    label = img.split('.')[-3];\n",
    "    if label == 'Trouser':return [1,0,0,0,0,0,0,0,0,0]\n",
    "    if label == 'Pullover':return [0,1,0,0,0,0,0,0,0,0]\n",
    "    if label == 'Dress': return [0,0,1,0,0,0,0,0,0,0]\n",
    "    if label == 'Coat':return [0,0,0,1,0,0,0,0,0,0]\n",
    "    if label == 'Sandal':return [0,0,0,0,1,0,0,0,0,0]\n",
    "    if label == 'Shirt': return [0,0,0,0,0,1,0,0,0,0]\n",
    "    if label == 'Sneaker':return [0,0,0,0,0,0,1,0,0,0]\n",
    "    if label == 'Bag':return [0,0,0,0,0,0,0,1,0,0]\n",
    "    if label == 'Ankleboot': return [0,0,0,0,0,0,0,0,1,0]\n",
    "    if label == 'Tshirt':return [0,0,0,0,0,0,0,0,0,1]\n",
    "    "
   ]
  },
  {
   "cell_type": "code",
   "execution_count": 14,
   "metadata": {},
   "outputs": [],
   "source": [
    "def create_train_data():\n",
    "    train_data=[]\n",
    "    for img in tqdm(os.listdir(train_dir)):\n",
    "        lab = img_label(img);\n",
    "        path = os.path.join(train_dir,img);\n",
    "        img = cv2.resize(cv2.imread(path, cv2.IMREAD_GRAYSCALE),(img_size,img_size))\n",
    "        train_data.append(np.array(img),np.array(lab))\n",
    "        \n",
    "    shuffle(train_data)\n",
    "    np.save('train_data.npy',train_data)\n",
    "    return train_data"
   ]
  },
  {
   "cell_type": "code",
   "execution_count": null,
   "metadata": {},
   "outputs": [],
   "source": []
  }
 ],
 "metadata": {
  "kernelspec": {
   "display_name": "Python 3",
   "language": "python",
   "name": "python3"
  },
  "language_info": {
   "codemirror_mode": {
    "name": "ipython",
    "version": 3
   },
   "file_extension": ".py",
   "mimetype": "text/x-python",
   "name": "python",
   "nbconvert_exporter": "python",
   "pygments_lexer": "ipython3",
   "version": "3.5.4"
  }
 },
 "nbformat": 4,
 "nbformat_minor": 2
}
