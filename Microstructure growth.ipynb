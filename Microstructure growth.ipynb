{
 "cells": [
  {
   "cell_type": "code",
   "execution_count": 277,
   "metadata": {},
   "outputs": [],
   "source": [
    "import numpy as np\n",
    "import matplotlib.pyplot as plt\n",
    "import random\n",
    "import pandas as pd"
   ]
  },
  {
   "cell_type": "code",
   "execution_count": 278,
   "metadata": {},
   "outputs": [],
   "source": [
    "Initial_matrix = np.zeros((16,16))"
   ]
  },
  {
   "cell_type": "code",
   "execution_count": 279,
   "metadata": {},
   "outputs": [],
   "source": [
    "B = np.zeros(5)\n",
    "for x in range(5):\n",
    "    B[x] = random.randint(1,15)"
   ]
  },
  {
   "cell_type": "code",
   "execution_count": 280,
   "metadata": {},
   "outputs": [],
   "source": [
    "C = np.zeros(5)\n",
    "for y in range(5):\n",
    "    C[y] = random.randint(1,15)"
   ]
  },
  {
   "cell_type": "code",
   "execution_count": 281,
   "metadata": {},
   "outputs": [],
   "source": [
    "B = B.astype(int)"
   ]
  },
  {
   "cell_type": "code",
   "execution_count": 282,
   "metadata": {},
   "outputs": [],
   "source": [
    "C = C.astype(int)"
   ]
  },
  {
   "cell_type": "code",
   "execution_count": 283,
   "metadata": {},
   "outputs": [],
   "source": [
    "Initial_matrix[B,C] = np.random.randn(5,)"
   ]
  },
  {
   "cell_type": "code",
   "execution_count": 284,
   "metadata": {},
   "outputs": [],
   "source": [
    "Intial_matrix = Initial_matrix.astype(int)"
   ]
  },
  {
   "cell_type": "code",
   "execution_count": 285,
   "metadata": {},
   "outputs": [
    {
     "data": {
      "text/plain": [
       "array([[ 0.        ,  0.        ,  0.        ,  0.        ,  0.        ,\n",
       "         0.        ,  0.        ,  0.        ,  0.        ,  0.        ,\n",
       "         0.        ,  0.        ,  0.        ,  0.        ,  0.        ,\n",
       "         0.        ],\n",
       "       [ 0.        ,  0.        ,  0.        ,  0.        ,  0.        ,\n",
       "         0.        ,  0.        ,  0.        ,  0.        ,  0.        ,\n",
       "         0.        ,  0.        ,  0.        ,  0.        ,  0.        ,\n",
       "         0.        ],\n",
       "       [ 0.        ,  0.        ,  0.        ,  0.35391813,  0.        ,\n",
       "         0.        ,  0.        ,  0.        ,  0.        ,  0.        ,\n",
       "         0.        ,  0.        ,  0.        , -0.76527305,  0.        ,\n",
       "         0.        ],\n",
       "       [ 0.        ,  0.        ,  0.        ,  0.        , -0.19785782,\n",
       "         0.        ,  0.        ,  0.        ,  0.        ,  0.        ,\n",
       "         0.        ,  0.        ,  0.        ,  0.        ,  0.        ,\n",
       "         0.        ],\n",
       "       [ 0.        ,  0.        ,  0.        ,  0.        ,  0.        ,\n",
       "         0.        ,  0.        ,  0.        ,  0.        ,  0.        ,\n",
       "         0.        ,  0.        ,  0.        ,  0.        ,  0.        ,\n",
       "         0.        ],\n",
       "       [ 0.        ,  0.        ,  0.        ,  0.        ,  0.        ,\n",
       "         0.        ,  0.        ,  0.        ,  0.        ,  0.        ,\n",
       "         0.        ,  0.        ,  0.        ,  0.        ,  0.        ,\n",
       "         0.        ],\n",
       "       [ 0.        ,  0.        ,  0.        ,  0.        ,  0.        ,\n",
       "         0.        ,  0.        ,  0.        ,  0.        ,  0.        ,\n",
       "         0.        ,  0.        ,  0.        ,  0.        ,  0.        ,\n",
       "         0.        ],\n",
       "       [ 0.        ,  0.        ,  0.        ,  0.        ,  0.        ,\n",
       "         0.        ,  0.        ,  0.        ,  0.        ,  0.        ,\n",
       "         0.        ,  0.        ,  0.        ,  0.        ,  0.        ,\n",
       "         0.        ],\n",
       "       [ 0.        ,  0.        ,  0.        ,  0.        ,  0.        ,\n",
       "         0.        ,  0.        ,  0.        ,  0.        ,  0.        ,\n",
       "         0.        ,  0.        ,  0.        ,  0.        ,  0.        ,\n",
       "         0.        ],\n",
       "       [ 0.        ,  0.        ,  0.        ,  0.        ,  0.        ,\n",
       "         0.        ,  1.49053857,  0.        ,  0.        ,  0.        ,\n",
       "         0.        ,  0.        ,  0.        ,  0.        ,  0.        ,\n",
       "         0.        ],\n",
       "       [ 0.        ,  0.        ,  0.        ,  0.        ,  0.        ,\n",
       "         0.        ,  0.        ,  0.        ,  0.        ,  0.        ,\n",
       "         0.        ,  0.        ,  0.        ,  0.        ,  0.        ,\n",
       "         0.        ],\n",
       "       [ 0.        ,  1.06106683,  0.        ,  0.        ,  0.        ,\n",
       "         0.        ,  0.        ,  0.        ,  0.        ,  0.        ,\n",
       "         0.        ,  0.        ,  0.        ,  0.        ,  0.        ,\n",
       "         0.        ],\n",
       "       [ 0.        ,  0.        ,  0.        ,  0.        ,  0.        ,\n",
       "         0.        ,  0.        ,  0.        ,  0.        ,  0.        ,\n",
       "         0.        ,  0.        ,  0.        ,  0.        ,  0.        ,\n",
       "         0.        ],\n",
       "       [ 0.        ,  0.        ,  0.        ,  0.        ,  0.        ,\n",
       "         0.        ,  0.        ,  0.        ,  0.        ,  0.        ,\n",
       "         0.        ,  0.        ,  0.        ,  0.        ,  0.        ,\n",
       "         0.        ],\n",
       "       [ 0.        ,  0.        ,  0.        ,  0.        ,  0.        ,\n",
       "         0.        ,  0.        ,  0.        ,  0.        ,  0.        ,\n",
       "         0.        ,  0.        ,  0.        ,  0.        ,  0.        ,\n",
       "         0.        ],\n",
       "       [ 0.        ,  0.        ,  0.        ,  0.        ,  0.        ,\n",
       "         0.        ,  0.        ,  0.        ,  0.        ,  0.        ,\n",
       "         0.        ,  0.        ,  0.        ,  0.        ,  0.        ,\n",
       "         0.        ]])"
      ]
     },
     "execution_count": 285,
     "metadata": {},
     "output_type": "execute_result"
    }
   ],
   "source": [
    "Initial_matrix"
   ]
  },
  {
   "cell_type": "code",
   "execution_count": 286,
   "metadata": {},
   "outputs": [
    {
     "data": {
      "text/plain": [
       "<matplotlib.image.AxesImage at 0x7601a92400>"
      ]
     },
     "execution_count": 286,
     "metadata": {},
     "output_type": "execute_result"
    },
    {
     "data": {
      "image/png": "[encoded data removed]",
      "text/plain": [
       "<matplotlib.figure.Figure at 0x7601a509b0>"
      ]
     },
     "metadata": {},
     "output_type": "display_data"
    }
   ],
   "source": [
    "plt.imshow(Initial_matrix)"
   ]
  },
  {
   "cell_type": "code",
   "execution_count": 287,
   "metadata": {},
   "outputs": [
    {
     "name": "stdout",
     "output_type": "stream",
     "text": [
      "[ 2 11  9  2  3]\n",
      "[13  1  6  3  4]\n"
     ]
    }
   ],
   "source": [
    "print(B)\n",
    "print(C)"
   ]
  },
  {
   "cell_type": "code",
   "execution_count": 288,
   "metadata": {},
   "outputs": [],
   "source": [
    "def dist_1(x,y):\n",
    "    K = np.sqrt((x-9)**2 + (y-15)**2)\n",
    "    return K"
   ]
  },
  {
   "cell_type": "code",
   "execution_count": 289,
   "metadata": {},
   "outputs": [],
   "source": [
    "def dist_2(x,y):\n",
    "    K = np.sqrt((x-3)**2 + (y-10)**2)\n",
    "    return K"
   ]
  },
  {
   "cell_type": "code",
   "execution_count": 290,
   "metadata": {},
   "outputs": [],
   "source": [
    "def dist_3(x,y):\n",
    "    K = np.sqrt((x-13)**2 + (y-2)**2)\n",
    "    return K"
   ]
  },
  {
   "cell_type": "code",
   "execution_count": 291,
   "metadata": {},
   "outputs": [],
   "source": [
    "def dist_4(x,y):\n",
    "    K = np.sqrt((x-4)**2 + (y-14)**2)\n",
    "    return K"
   ]
  },
  {
   "cell_type": "code",
   "execution_count": 292,
   "metadata": {},
   "outputs": [],
   "source": [
    "def dist_5(x,y):\n",
    "    K = np.sqrt((x-1)**2 + (y-4)**2)\n",
    "    return K"
   ]
  },
  {
   "cell_type": "code",
   "execution_count": 293,
   "metadata": {},
   "outputs": [],
   "source": [
    "Dist = np.zeros((16,16))\n",
    "for x in range(16):\n",
    "    for y in range(16):\n",
    "        Dist[x,y] = dist_1(x,y)"
   ]
  },
  {
   "cell_type": "code",
   "execution_count": 294,
   "metadata": {},
   "outputs": [
    {
     "data": {
      "text/plain": [
       "array([[17.49285568, 16.64331698, 15.8113883 , 15.        , 14.2126704 ,\n",
       "        13.45362405, 12.72792206, 12.04159458, 11.40175425, 10.81665383,\n",
       "        10.29563014,  9.8488578 ,  9.48683298,  9.21954446,  9.05538514,\n",
       "         9.        ],\n",
       "       [17.        , 16.1245155 , 15.26433752, 14.4222051 , 13.60147051,\n",
       "        12.80624847, 12.04159458, 11.3137085 , 10.63014581, 10.        ,\n",
       "         9.43398113,  8.94427191,  8.54400375,  8.24621125,  8.06225775,\n",
       "         8.        ],\n",
       "       [16.55294536, 15.65247584, 14.76482306, 13.89244399, 13.03840481,\n",
       "        12.20655562, 11.40175425, 10.63014581,  9.89949494,  9.21954446,\n",
       "         8.60232527,  8.06225775,  7.61577311,  7.28010989,  7.07106781,\n",
       "         7.        ],\n",
       "       [16.15549442, 15.23154621, 14.31782106, 13.41640786, 12.52996409,\n",
       "        11.66190379, 10.81665383, 10.        ,  9.21954446,  8.48528137,\n",
       "         7.81024968,  7.21110255,  6.70820393,  6.32455532,  6.08276253,\n",
       "         6.        ],\n",
       "       [15.8113883 , 14.86606875, 13.92838828, 13.        , 12.08304597,\n",
       "        11.18033989, 10.29563014,  9.43398113,  8.60232527,  7.81024968,\n",
       "         7.07106781,  6.40312424,  5.83095189,  5.38516481,  5.09901951,\n",
       "         5.        ],\n",
       "       [15.5241747 , 14.56021978, 13.60147051, 12.64911064, 11.70469991,\n",
       "        10.77032961,  9.8488578 ,  8.94427191,  8.06225775,  7.21110255,\n",
       "         6.40312424,  5.65685425,  5.        ,  4.47213595,  4.12310563,\n",
       "         4.        ],\n",
       "       [15.29705854, 14.31782106, 13.34166406, 12.36931688, 11.40175425,\n",
       "        10.44030651,  9.48683298,  8.54400375,  7.61577311,  6.70820393,\n",
       "         5.83095189,  5.        ,  4.24264069,  3.60555128,  3.16227766,\n",
       "         3.        ],\n",
       "       [15.13274595, 14.14213562, 13.15294644, 12.16552506, 11.18033989,\n",
       "        10.19803903,  9.21954446,  8.24621125,  7.28010989,  6.32455532,\n",
       "         5.38516481,  4.47213595,  3.60555128,  2.82842712,  2.23606798,\n",
       "         2.        ],\n",
       "       [15.03329638, 14.03566885, 13.03840481, 12.04159458, 11.04536102,\n",
       "        10.04987562,  9.05538514,  8.06225775,  7.07106781,  6.08276253,\n",
       "         5.09901951,  4.12310563,  3.16227766,  2.23606798,  1.41421356,\n",
       "         1.        ],\n",
       "       [15.        , 14.        , 13.        , 12.        , 11.        ,\n",
       "        10.        ,  9.        ,  8.        ,  7.        ,  6.        ,\n",
       "         5.        ,  4.        ,  3.        ,  2.        ,  1.        ,\n",
       "         0.        ],\n",
       "       [15.03329638, 14.03566885, 13.03840481, 12.04159458, 11.04536102,\n",
       "        10.04987562,  9.05538514,  8.06225775,  7.07106781,  6.08276253,\n",
       "         5.09901951,  4.12310563,  3.16227766,  2.23606798,  1.41421356,\n",
       "         1.        ],\n",
       "       [15.13274595, 14.14213562, 13.15294644, 12.16552506, 11.18033989,\n",
       "        10.19803903,  9.21954446,  8.24621125,  7.28010989,  6.32455532,\n",
       "         5.38516481,  4.47213595,  3.60555128,  2.82842712,  2.23606798,\n",
       "         2.        ],\n",
       "       [15.29705854, 14.31782106, 13.34166406, 12.36931688, 11.40175425,\n",
       "        10.44030651,  9.48683298,  8.54400375,  7.61577311,  6.70820393,\n",
       "         5.83095189,  5.        ,  4.24264069,  3.60555128,  3.16227766,\n",
       "         3.        ],\n",
       "       [15.5241747 , 14.56021978, 13.60147051, 12.64911064, 11.70469991,\n",
       "        10.77032961,  9.8488578 ,  8.94427191,  8.06225775,  7.21110255,\n",
       "         6.40312424,  5.65685425,  5.        ,  4.47213595,  4.12310563,\n",
       "         4.        ],\n",
       "       [15.8113883 , 14.86606875, 13.92838828, 13.        , 12.08304597,\n",
       "        11.18033989, 10.29563014,  9.43398113,  8.60232527,  7.81024968,\n",
       "         7.07106781,  6.40312424,  5.83095189,  5.38516481,  5.09901951,\n",
       "         5.        ],\n",
       "       [16.15549442, 15.23154621, 14.31782106, 13.41640786, 12.52996409,\n",
       "        11.66190379, 10.81665383, 10.        ,  9.21954446,  8.48528137,\n",
       "         7.81024968,  7.21110255,  6.70820393,  6.32455532,  6.08276253,\n",
       "         6.        ]])"
      ]
     },
     "execution_count": 294,
     "metadata": {},
     "output_type": "execute_result"
    }
   ],
   "source": [
    "Dist"
   ]
  },
  {
   "cell_type": "code",
   "execution_count": 295,
   "metadata": {},
   "outputs": [],
   "source": [
    "mi = 6"
   ]
  },
  {
   "cell_type": "code",
   "execution_count": null,
   "metadata": {},
   "outputs": [],
   "source": []
  },
  {
   "cell_type": "code",
   "execution_count": 296,
   "metadata": {},
   "outputs": [
    {
     "data": {
      "text/plain": [
       "array([[17.49285568, 16.64331698, 15.8113883 , 15.        , 14.2126704 ,\n",
       "        13.45362405, 12.72792206, 12.04159458, 11.40175425, 10.81665383,\n",
       "        10.29563014,  9.8488578 ,  9.48683298,  9.21954446,  9.05538514,\n",
       "         9.        ],\n",
       "       [17.        , 16.1245155 , 15.26433752, 14.4222051 , 13.60147051,\n",
       "        12.80624847, 12.04159458, 11.3137085 , 10.63014581, 10.        ,\n",
       "         9.43398113,  8.94427191,  8.54400375,  8.24621125,  8.06225775,\n",
       "         8.        ],\n",
       "       [16.55294536, 15.65247584, 14.76482306, 13.89244399, 13.03840481,\n",
       "        12.20655562, 11.40175425, 10.63014581,  9.89949494,  9.21954446,\n",
       "         8.60232527,  8.06225775,  7.61577311,  7.28010989,  7.07106781,\n",
       "         7.        ],\n",
       "       [16.15549442, 15.23154621, 14.31782106, 13.41640786, 12.52996409,\n",
       "        11.66190379, 10.81665383, 10.        ,  9.21954446,  8.48528137,\n",
       "         7.81024968,  7.21110255,  6.70820393,  6.32455532,  6.08276253,\n",
       "         6.        ],\n",
       "       [15.8113883 , 14.86606875, 13.92838828, 13.        , 12.08304597,\n",
       "        11.18033989, 10.29563014,  9.43398113,  8.60232527,  7.81024968,\n",
       "         7.07106781,  6.40312424,  5.83095189,  5.38516481,  5.09901951,\n",
       "         5.        ],\n",
       "       [15.5241747 , 14.56021978, 13.60147051, 12.64911064, 11.70469991,\n",
       "        10.77032961,  9.8488578 ,  8.94427191,  8.06225775,  7.21110255,\n",
       "         6.40312424,  5.65685425,  5.        ,  4.47213595,  4.12310563,\n",
       "         4.        ],\n",
       "       [15.29705854, 14.31782106, 13.34166406, 12.36931688, 11.40175425,\n",
       "        10.44030651,  9.48683298,  8.54400375,  7.61577311,  6.70820393,\n",
       "         5.83095189,  5.        ,  4.24264069,  3.60555128,  3.16227766,\n",
       "         3.        ],\n",
       "       [15.13274595, 14.14213562, 13.15294644, 12.16552506, 11.18033989,\n",
       "        10.19803903,  9.21954446,  8.24621125,  7.28010989,  6.32455532,\n",
       "         5.38516481,  4.47213595,  3.60555128,  2.82842712,  2.23606798,\n",
       "         2.        ],\n",
       "       [15.03329638, 14.03566885, 13.03840481, 12.04159458, 11.04536102,\n",
       "        10.04987562,  9.05538514,  8.06225775,  7.07106781,  6.08276253,\n",
       "         5.09901951,  4.12310563,  3.16227766,  2.23606798,  1.41421356,\n",
       "         1.        ],\n",
       "       [15.        , 14.        , 13.        , 12.        , 11.        ,\n",
       "        10.        ,  9.        ,  8.        ,  7.        ,  6.        ,\n",
       "         5.        ,  4.        ,  3.        ,  2.        ,  1.        ,\n",
       "         0.        ],\n",
       "       [15.03329638, 14.03566885, 13.03840481, 12.04159458, 11.04536102,\n",
       "        10.04987562,  9.05538514,  8.06225775,  7.07106781,  6.08276253,\n",
       "         5.09901951,  4.12310563,  3.16227766,  2.23606798,  1.41421356,\n",
       "         1.        ],\n",
       "       [15.13274595, 14.14213562, 13.15294644, 12.16552506, 11.18033989,\n",
       "        10.19803903,  9.21954446,  8.24621125,  7.28010989,  6.32455532,\n",
       "         5.38516481,  4.47213595,  3.60555128,  2.82842712,  2.23606798,\n",
       "         2.        ],\n",
       "       [15.29705854, 14.31782106, 13.34166406, 12.36931688, 11.40175425,\n",
       "        10.44030651,  9.48683298,  8.54400375,  7.61577311,  6.70820393,\n",
       "         5.83095189,  5.        ,  4.24264069,  3.60555128,  3.16227766,\n",
       "         3.        ],\n",
       "       [15.5241747 , 14.56021978, 13.60147051, 12.64911064, 11.70469991,\n",
       "        10.77032961,  9.8488578 ,  8.94427191,  8.06225775,  7.21110255,\n",
       "         6.40312424,  5.65685425,  5.        ,  4.47213595,  4.12310563,\n",
       "         4.        ],\n",
       "       [15.8113883 , 14.86606875, 13.92838828, 13.        , 12.08304597,\n",
       "        11.18033989, 10.29563014,  9.43398113,  8.60232527,  7.81024968,\n",
       "         7.07106781,  6.40312424,  5.83095189,  5.38516481,  5.09901951,\n",
       "         5.        ],\n",
       "       [16.15549442, 15.23154621, 14.31782106, 13.41640786, 12.52996409,\n",
       "        11.66190379, 10.81665383, 10.        ,  9.21954446,  8.48528137,\n",
       "         7.81024968,  7.21110255,  6.70820393,  6.32455532,  6.08276253,\n",
       "         6.        ]])"
      ]
     },
     "execution_count": 296,
     "metadata": {},
     "output_type": "execute_result"
    }
   ],
   "source": [
    "Dist"
   ]
  },
  {
   "cell_type": "code",
   "execution_count": 297,
   "metadata": {
    "scrolled": true
   },
   "outputs": [
    {
     "data": {
      "text/plain": [
       "<matplotlib.image.AxesImage at 0x7601ad2780>"
      ]
     },
     "execution_count": 297,
     "metadata": {},
     "output_type": "execute_result"
    },
    {
     "data": {
      "image/png": "[encoded data removed]",
      "text/plain": [
       "<matplotlib.figure.Figure at 0x7601a9a5f8>"
      ]
     },
     "metadata": {},
     "output_type": "display_data"
    }
   ],
   "source": [
    "plt.imshow(Dist)"
   ]
  },
  {
   "cell_type": "code",
   "execution_count": 298,
   "metadata": {},
   "outputs": [],
   "source": [
    "Dist = np.zeros((16,16))\n",
    "for x in range(16):\n",
    "    for y in range(16):\n",
    "        Dist[x,y] = dist_2(x,y)\n",
    "        Dist[y,x] = dist_3(x,y)\n",
    "        Dist[x,x] = dist_4(x,y)\n",
    "        Dist[y,y] = dist_5(x,y)\n",
    "        \n"
   ]
  },
  {
   "cell_type": "code",
   "execution_count": 299,
   "metadata": {},
   "outputs": [],
   "source": [
    "Dist = Dist.astype(int)"
   ]
  },
  {
   "cell_type": "code",
   "execution_count": 300,
   "metadata": {},
   "outputs": [
    {
     "data": {
      "text/plain": [
       "<function ndarray.sort>"
      ]
     },
     "execution_count": 300,
     "metadata": {},
     "output_type": "execute_result"
    }
   ],
   "source": [
    "Dist.sort"
   ]
  },
  {
   "cell_type": "code",
   "execution_count": 305,
   "metadata": {},
   "outputs": [],
   "source": [
    "Dist = np.sort(Dist)"
   ]
  },
  {
   "cell_type": "code",
   "execution_count": 306,
   "metadata": {},
   "outputs": [
    {
     "data": {
      "text/plain": [
       "<matplotlib.image.AxesImage at 0x7601b4eb70>"
      ]
     },
     "execution_count": 306,
     "metadata": {},
     "output_type": "execute_result"
    },
    {
     "data": {
      "image/png": "[encoded data removed]",
      "text/plain": [
       "<matplotlib.figure.Figure at 0x7601f29fd0>"
      ]
     },
     "metadata": {},
     "output_type": "display_data"
    }
   ],
   "source": [
    "plt.imshow(Dist)"
   ]
  },
  {
   "cell_type": "code",
   "execution_count": null,
   "metadata": {},
   "outputs": [],
   "source": []
  },
  {
   "cell_type": "code",
   "execution_count": 345,
   "metadata": {},
   "outputs": [],
   "source": [
    "x = np.random.randn(10,1)\n",
    "m = np.array([1,-10,4,-5,7,-9])\n",
    "c = np.array([0,-1,-1,3,4,-3])"
   ]
  },
  {
   "cell_type": "code",
   "execution_count": null,
   "metadata": {},
   "outputs": [],
   "source": [
    "n = "
   ]
  },
  {
   "cell_type": "code",
   "execution_count": 350,
   "metadata": {},
   "outputs": [
    {
     "ename": "ValueError",
     "evalue": "setting an array element with a sequence.",
     "output_type": "error",
     "traceback": [
      "\u001b[1;31m---------------------------------------------------------------------------\u001b[0m",
      "\u001b[1;31mValueError\u001b[0m                                Traceback (most recent call last)",
      "\u001b[1;32m<ipython-input-350-e53b8d928a7a>\u001b[0m in \u001b[0;36m<module>\u001b[1;34m()\u001b[0m\n\u001b[0;32m      2\u001b[0m \u001b[1;32mfor\u001b[0m \u001b[0mj\u001b[0m \u001b[1;32min\u001b[0m \u001b[0mrange\u001b[0m\u001b[1;33m(\u001b[0m\u001b[1;36m10\u001b[0m\u001b[1;33m)\u001b[0m\u001b[1;33m:\u001b[0m\u001b[1;33m\u001b[0m\u001b[0m\n\u001b[0;32m      3\u001b[0m     \u001b[1;32mfor\u001b[0m \u001b[0mi\u001b[0m \u001b[1;32min\u001b[0m \u001b[0mrange\u001b[0m\u001b[1;33m(\u001b[0m\u001b[0mm\u001b[0m\u001b[1;33m.\u001b[0m\u001b[0msize\u001b[0m\u001b[1;33m)\u001b[0m\u001b[1;33m:\u001b[0m\u001b[1;33m\u001b[0m\u001b[0m\n\u001b[1;32m----> 4\u001b[1;33m         \u001b[0mk\u001b[0m\u001b[1;33m[\u001b[0m\u001b[0mj\u001b[0m\u001b[1;33m,\u001b[0m\u001b[0mi\u001b[0m\u001b[1;33m]\u001b[0m \u001b[1;33m=\u001b[0m \u001b[0mm\u001b[0m\u001b[1;33m[\u001b[0m\u001b[0mi\u001b[0m\u001b[1;33m]\u001b[0m\u001b[1;33m*\u001b[0m\u001b[0mx\u001b[0m \u001b[1;33m+\u001b[0m \u001b[0mc\u001b[0m\u001b[1;33m[\u001b[0m\u001b[0mi\u001b[0m\u001b[1;33m]\u001b[0m\u001b[1;33m\u001b[0m\u001b[0m\n\u001b[0m\u001b[0;32m      5\u001b[0m         \u001b[0mplt\u001b[0m\u001b[1;33m.\u001b[0m\u001b[0mplot\u001b[0m\u001b[1;33m(\u001b[0m\u001b[0mk\u001b[0m\u001b[1;33m[\u001b[0m\u001b[0mj\u001b[0m\u001b[1;33m,\u001b[0m\u001b[0mi\u001b[0m\u001b[1;33m]\u001b[0m\u001b[1;33m,\u001b[0m\u001b[0mx\u001b[0m\u001b[1;33m)\u001b[0m\u001b[1;33m\u001b[0m\u001b[0m\n",
      "\u001b[1;31mValueError\u001b[0m: setting an array element with a sequence."
     ]
    }
   ],
   "source": [
    "k = np.zeros((10,6))\n",
    "for j in range(10):\n",
    "    for i in range(m.size):\n",
    "        k[j,i] = m[i]*x + c[i]\n",
    "        plt.plot(k[j,i],x)"
   ]
  },
  {
   "cell_type": "code",
   "execution_count": null,
   "metadata": {},
   "outputs": [],
   "source": []
  },
  {
   "cell_type": "code",
   "execution_count": null,
   "metadata": {},
   "outputs": [],
   "source": []
  }
 ],
 "metadata": {
  "kernelspec": {
   "display_name": "Python 3",
   "language": "python",
   "name": "python3"
  },
  "language_info": {
   "codemirror_mode": {
    "name": "ipython",
    "version": 3
   },
   "file_extension": ".py",
   "mimetype": "text/x-python",
   "name": "python",
   "nbconvert_exporter": "python",
   "pygments_lexer": "ipython3",
   "version": "3.5.4"
  }
 },
 "nbformat": 4,
 "nbformat_minor": 2
}
