{
 "cells": [
  {
   "cell_type": "code",
   "execution_count": 14,
   "metadata": {},
   "outputs": [],
   "source": [
    "class Robot:\n",
    "    #initiating constructor\n",
    "    #self should be used as an arguement in anything in a class\n",
    "    def __init__(self, name, name_2):\n",
    "        self.name = name\n",
    "        self.name_2 = name_2\n",
    "        \n",
    "    def self_intro(self):\n",
    "        print(\"Dhanalakshmi hates\" + ' ' + self.name)\n",
    "        print(\"But Vishnu loves\" + ' ' + self.name_2)"
   ]
  },
  {
   "cell_type": "code",
   "execution_count": 18,
   "metadata": {},
   "outputs": [],
   "source": [
    "class Person:\n",
    "    def __init__(self, n, a):\n",
    "        self.n = n\n",
    "        self.a = a\n",
    "    \n",
    "    def is_angry(self):\n",
    "        self.is_angry = False\n",
    "    \n",
    "    def what_person(self):\n",
    "        self.is_good = True"
   ]
  },
  {
   "cell_type": "code",
   "execution_count": 19,
   "metadata": {},
   "outputs": [],
   "source": [
    "Vishnu = Person('Vishnu',True)"
   ]
  },
  {
   "cell_type": "markdown",
   "metadata": {},
   "source": [
    "#Functions are not best way to define an attribute"
   ]
  },
  {
   "cell_type": "code",
   "execution_count": null,
   "metadata": {},
   "outputs": [],
   "source": []
  },
  {
   "cell_type": "code",
   "execution_count": null,
   "metadata": {},
   "outputs": [],
   "source": []
  }
 ],
 "metadata": {
  "kernelspec": {
   "display_name": "Python 3",
   "language": "python",
   "name": "python3"
  },
  "language_info": {
   "codemirror_mode": {
    "name": "ipython",
    "version": 3
   },
   "file_extension": ".py",
   "mimetype": "text/x-python",
   "name": "python",
   "nbconvert_exporter": "python",
   "pygments_lexer": "ipython3",
   "version": "3.5.4"
  }
 },
 "nbformat": 4,
 "nbformat_minor": 2
}
