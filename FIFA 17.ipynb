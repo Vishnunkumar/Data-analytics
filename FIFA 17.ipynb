{
 "cells": [
  {
   "cell_type": "code",
   "execution_count": 1,
   "metadata": {},
   "outputs": [],
   "source": [
    "import pandas as pd\n",
    "from sklearn.linear_model import LinearRegression\n",
    "from sklearn.model_selection import train_test_split as tts\n",
    "import matplotlib.pyplot as plt\n",
    "#importing the dataset and loading it\n",
    "fifa17 = pd.read_csv(\"FullData.csv\")"
   ]
  },
  {
   "cell_type": "code",
   "execution_count": 5,
   "metadata": {},
   "outputs": [],
   "source": [
    "fifa17[\"Height\"] = fifa17.Height.str.replace(\"cm\",\" \").astype(float)\n",
    "#Converting object into float and replacing \"cm\" and \"kg\" with nothing"
   ]
  },
  {
   "cell_type": "code",
   "execution_count": 6,
   "metadata": {
    "collapsed": true
   },
   "outputs": [
    {
     "data": {
      "text/plain": [
       "Rating                  int64\n",
       "Name                   object\n",
       "Nationality            object\n",
       "National_Position      object\n",
       "National_Kit          float64\n",
       "Club                   object\n",
       "Club_Position          object\n",
       "Club_Kit              float64\n",
       "Club_Joining           object\n",
       "Contract_Expiry       float64\n",
       "Height                float64\n",
       "Weight                float64\n",
       "Preffered_Foot          int64\n",
       "Age                     int64\n",
       "Work_Rate               int64\n",
       "Weak_foot               int64\n",
       "Skill_Moves             int64\n",
       "Ball_Control            int64\n",
       "Dribbling               int64\n",
       "Marking                 int64\n",
       "Sliding_Tackle          int64\n",
       "Standing_Tackle         int64\n",
       "Aggression              int64\n",
       "Reactions               int64\n",
       "Attacking_Position      int64\n",
       "Interceptions           int64\n",
       "Vision                  int64\n",
       "Composure               int64\n",
       "Crossing                int64\n",
       "Short_Pass              int64\n",
       "Long_Pass               int64\n",
       "Acceleration            int64\n",
       "Speed                   int64\n",
       "Stamina                 int64\n",
       "Strength                int64\n",
       "Balance                 int64\n",
       "Agility                 int64\n",
       "Jumping                 int64\n",
       "Heading                 int64\n",
       "Shot_Power              int64\n",
       "Finishing               int64\n",
       "Long_Shots              int64\n",
       "Curve                   int64\n",
       "Freekick_Accuracy       int64\n",
       "Penalties               int64\n",
       "Volleys                 int64\n",
       "GK_Positioning          int64\n",
       "GK_Diving               int64\n",
       "GK_Kicking              int64\n",
       "GK_Handling             int64\n",
       "GK_Reflexes             int64\n",
       "dtype: object"
      ]
     },
     "execution_count": 6,
     "metadata": {},
     "output_type": "execute_result"
    }
   ],
   "source": [
    "fifa17.dtypes"
   ]
  },
  {
   "cell_type": "code",
   "execution_count": 7,
   "metadata": {
    "collapsed": true
   },
   "outputs": [
    {
     "data": {
      "text/plain": [
       "Rating                  int64\n",
       "Name                   object\n",
       "Nationality            object\n",
       "National_Position      object\n",
       "National_Kit          float64\n",
       "Club                   object\n",
       "Club_Position          object\n",
       "Club_Kit              float64\n",
       "Club_Joining           object\n",
       "Contract_Expiry       float64\n",
       "Height                float64\n",
       "Weight                float64\n",
       "Preffered_Foot          int64\n",
       "Age                     int64\n",
       "Work_Rate               int64\n",
       "Weak_foot               int64\n",
       "Skill_Moves             int64\n",
       "Ball_Control            int64\n",
       "Dribbling               int64\n",
       "Marking                 int64\n",
       "Sliding_Tackle          int64\n",
       "Standing_Tackle         int64\n",
       "Aggression              int64\n",
       "Reactions               int64\n",
       "Attacking_Position      int64\n",
       "Interceptions           int64\n",
       "Vision                  int64\n",
       "Composure               int64\n",
       "Crossing                int64\n",
       "Short_Pass              int64\n",
       "Long_Pass               int64\n",
       "Acceleration            int64\n",
       "Speed                   int64\n",
       "Stamina                 int64\n",
       "Strength                int64\n",
       "Balance                 int64\n",
       "Agility                 int64\n",
       "Jumping                 int64\n",
       "Heading                 int64\n",
       "Shot_Power              int64\n",
       "Finishing               int64\n",
       "Long_Shots              int64\n",
       "Curve                   int64\n",
       "Freekick_Accuracy       int64\n",
       "Penalties               int64\n",
       "Volleys                 int64\n",
       "GK_Positioning          int64\n",
       "GK_Diving               int64\n",
       "GK_Kicking              int64\n",
       "GK_Handling             int64\n",
       "GK_Reflexes             int64\n",
       "dtype: object"
      ]
     },
     "execution_count": 7,
     "metadata": {},
     "output_type": "execute_result"
    }
   ],
   "source": [
    "fifa17.dtypes"
   ]
  },
  {
   "cell_type": "code",
   "execution_count": 7,
   "metadata": {},
   "outputs": [
    {
     "data": {
      "text/plain": [
       "(17588, 51)"
      ]
     },
     "execution_count": 7,
     "metadata": {},
     "output_type": "execute_result"
    }
   ],
   "source": [
    "fifa17.shape"
   ]
  },
  {
   "cell_type": "code",
   "execution_count": 8,
   "metadata": {},
   "outputs": [],
   "source": [
    "df_y = fifa17.iloc[:,0:1]\n",
    "df_x = fifa17.iloc[:,11:53]"
   ]
  },
  {
   "cell_type": "code",
   "execution_count": 9,
   "metadata": {},
   "outputs": [],
   "source": [
    "x_tr,x_te,y_tr,y_te = tts(df_x,df_y, test_size =.2, random_state=255)"
   ]
  },
  {
   "cell_type": "code",
   "execution_count": 10,
   "metadata": {},
   "outputs": [],
   "source": [
    "lm= LinearRegression()"
   ]
  },
  {
   "cell_type": "code",
   "execution_count": 11,
   "metadata": {},
   "outputs": [
    {
     "data": {
      "text/plain": [
       "LinearRegression(copy_X=True, fit_intercept=True, n_jobs=1, normalize=False)"
      ]
     },
     "execution_count": 11,
     "metadata": {},
     "output_type": "execute_result"
    }
   ],
   "source": [
    "lm.fit(x_tr,y_tr)"
   ]
  },
  {
   "cell_type": "code",
   "execution_count": 12,
   "metadata": {},
   "outputs": [
    {
     "data": {
      "text/html": [
       "<div>\n",
       "<style scoped>\n",
       "    .dataframe tbody tr th:only-of-type {\n",
       "        vertical-align: middle;\n",
       "    }\n",
       "\n",
       "    .dataframe tbody tr th {\n",
       "        vertical-align: top;\n",
       "    }\n",
       "\n",
       "    .dataframe thead th {\n",
       "        text-align: right;\n",
       "    }\n",
       "</style>\n",
       "<table border=\"1\" class=\"dataframe\">\n",
       "  <thead>\n",
       "    <tr style=\"text-align: right;\">\n",
       "      <th></th>\n",
       "      <th>Rating</th>\n",
       "    </tr>\n",
       "  </thead>\n",
       "  <tbody>\n",
       "    <tr>\n",
       "      <th>9794</th>\n",
       "      <td>65</td>\n",
       "    </tr>\n",
       "    <tr>\n",
       "      <th>14397</th>\n",
       "      <td>60</td>\n",
       "    </tr>\n",
       "    <tr>\n",
       "      <th>12891</th>\n",
       "      <td>62</td>\n",
       "    </tr>\n",
       "    <tr>\n",
       "      <th>2925</th>\n",
       "      <td>73</td>\n",
       "    </tr>\n",
       "    <tr>\n",
       "      <th>13388</th>\n",
       "      <td>61</td>\n",
       "    </tr>\n",
       "  </tbody>\n",
       "</table>\n",
       "</div>"
      ],
      "text/plain": [
       "       Rating\n",
       "9794       65\n",
       "14397      60\n",
       "12891      62\n",
       "2925       73\n",
       "13388      61"
      ]
     },
     "execution_count": 12,
     "metadata": {},
     "output_type": "execute_result"
    }
   ],
   "source": [
    "y_te.head()"
   ]
  },
  {
   "cell_type": "code",
   "execution_count": 13,
   "metadata": {},
   "outputs": [],
   "source": [
    "pred = lm.predict(x_te)"
   ]
  },
  {
   "cell_type": "code",
   "execution_count": 14,
   "metadata": {},
   "outputs": [
    {
     "data": {
      "text/plain": [
       "array([[63.86251129],\n",
       "       [61.75583486],\n",
       "       [65.73540299],\n",
       "       ...,\n",
       "       [70.89199888],\n",
       "       [69.25567736],\n",
       "       [57.65817765]])"
      ]
     },
     "execution_count": 14,
     "metadata": {},
     "output_type": "execute_result"
    }
   ],
   "source": [
    "pred"
   ]
  },
  {
   "cell_type": "code",
   "execution_count": 23,
   "metadata": {},
   "outputs": [
    {
     "data": {
      "text/plain": [
       "array([[ 2.01630696e-02,  2.54584947e-01,  6.48967865e-02,\n",
       "        -6.61928484e-02,  1.28638280e-01,  1.18600113e+00,\n",
       "         1.76638933e-01,  1.39975418e-02,  1.28250757e-02,\n",
       "        -1.58280633e-02,  4.42227093e-02,  7.72324252e-03,\n",
       "         2.74258931e-01, -4.58627648e-02,  6.08634452e-03,\n",
       "        -6.01321872e-03,  4.79995261e-02,  1.25174627e-02,\n",
       "         7.30626272e-02, -1.44270177e-02,  3.24404085e-02,\n",
       "         3.63645629e-02,  1.23601554e-02,  3.67078270e-02,\n",
       "        -2.15353910e-02, -3.08928903e-05,  1.44643109e-02,\n",
       "         1.04474554e-01,  2.24749532e-02,  2.36718581e-02,\n",
       "        -2.24751808e-02,  1.18840993e-02, -3.54840199e-03,\n",
       "         4.20558719e-03, -8.66981867e-03,  8.92692119e-02,\n",
       "         6.61074563e-02,  3.62031518e-02,  8.90806265e-02,\n",
       "         9.24689961e-02]])"
      ]
     },
     "execution_count": 23,
     "metadata": {},
     "output_type": "execute_result"
    }
   ],
   "source": [
    "lm.coef_"
   ]
  },
  {
   "cell_type": "code",
   "execution_count": 15,
   "metadata": {},
   "outputs": [
    {
     "data": {
      "text/plain": [
       "1.4142135623730951"
      ]
     },
     "execution_count": 15,
     "metadata": {},
     "output_type": "execute_result"
    }
   ],
   "source": [
    "import numpy as np\n",
    "np.sqrt(2)"
   ]
  },
  {
   "cell_type": "code",
   "execution_count": 16,
   "metadata": {},
   "outputs": [],
   "source": [
    "a = y_te - pred"
   ]
  },
  {
   "cell_type": "code",
   "execution_count": 17,
   "metadata": {},
   "outputs": [],
   "source": [
    "b = a**2"
   ]
  },
  {
   "cell_type": "code",
   "execution_count": 18,
   "metadata": {},
   "outputs": [],
   "source": [
    "#mean squared error\n",
    "c = np.mean(b) "
   ]
  },
  {
   "cell_type": "code",
   "execution_count": 19,
   "metadata": {},
   "outputs": [
    {
     "data": {
      "text/plain": [
       "Rating    7.872178\n",
       "dtype: float64"
      ]
     },
     "execution_count": 19,
     "metadata": {},
     "output_type": "execute_result"
    }
   ],
   "source": [
    "c"
   ]
  },
  {
   "cell_type": "code",
   "execution_count": 21,
   "metadata": {},
   "outputs": [
    {
     "data": {
      "text/plain": [
       "3518"
      ]
     },
     "execution_count": 21,
     "metadata": {},
     "output_type": "execute_result"
    }
   ],
   "source": [
    "u = len(pred)\n",
    "u"
   ]
  },
  {
   "cell_type": "code",
   "execution_count": 22,
   "metadata": {},
   "outputs": [
    {
     "data": {
      "text/plain": [
       "3518"
      ]
     },
     "execution_count": 22,
     "metadata": {},
     "output_type": "execute_result"
    }
   ],
   "source": [
    "g = len(y_te)\n",
    "g"
   ]
  },
  {
   "cell_type": "code",
   "execution_count": 44,
   "metadata": {},
   "outputs": [
    {
     "data": {
      "text/plain": [
       "0"
      ]
     },
     "execution_count": 44,
     "metadata": {},
     "output_type": "execute_result"
    }
   ],
   "source": []
  },
  {
   "cell_type": "code",
   "execution_count": null,
   "metadata": {},
   "outputs": [],
   "source": []
  }
 ],
 "metadata": {
  "kernelspec": {
   "display_name": "Python 3",
   "language": "python",
   "name": "python3"
  },
  "language_info": {
   "codemirror_mode": {
    "name": "ipython",
    "version": 3
   },
   "file_extension": ".py",
   "mimetype": "text/x-python",
   "name": "python",
   "nbconvert_exporter": "python",
   "pygments_lexer": "ipython3",
   "version": "3.5.4"
  }
 },
 "nbformat": 4,
 "nbformat_minor": 2
}
