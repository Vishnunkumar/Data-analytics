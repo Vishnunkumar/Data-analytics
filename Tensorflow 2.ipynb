{
 "cells": [
  {
   "cell_type": "code",
   "execution_count": 1,
   "metadata": {},
   "outputs": [],
   "source": [
    "import tensorflow as tf"
   ]
  },
  {
   "cell_type": "code",
   "execution_count": 2,
   "metadata": {},
   "outputs": [],
   "source": [
    "from tensorflow.examples.tutorials.mnist import input_data"
   ]
  },
  {
   "cell_type": "code",
   "execution_count": 3,
   "metadata": {},
   "outputs": [
    {
     "name": "stdout",
     "output_type": "stream",
     "text": [
      "Extracting /tmp/data/train-images-idx3-ubyte.gz\n",
      "Extracting /tmp/data/train-labels-idx1-ubyte.gz\n",
      "Extracting /tmp/data/t10k-images-idx3-ubyte.gz\n",
      "Extracting /tmp/data/t10k-labels-idx1-ubyte.gz\n"
     ]
    }
   ],
   "source": [
    "mnist = input_data.read_data_sets(\"/tmp/data/\", one_hot=True)\n",
    "#\"one_hot=True\" implies keeping one component true"
   ]
  },
  {
   "cell_type": "raw",
   "metadata": {},
   "source": [
    "# one hot implies that if \n",
    "# no of classes = 0 to 9\n",
    "# 0 is present then 0 = [1,0,0,0,0,0,0,0,0,0]\n",
    "# 0 is present then 1 = [0,1,0,0,0,0,0,0,0,0]\n",
    "# 0 is present then 2 = [0,0,1,0,0,0,0,0,0,0]"
   ]
  },
  {
   "cell_type": "code",
   "execution_count": 4,
   "metadata": {},
   "outputs": [],
   "source": [
    "nodes_hl_1 = 1200\n",
    "nodes_hl_2 = 20\n",
    "nodes_hl_3 = 100"
   ]
  },
  {
   "cell_type": "code",
   "execution_count": 5,
   "metadata": {},
   "outputs": [],
   "source": [
    "n_classes = 10\n",
    "batch_size = 100\n",
    "x = tf.placeholder('float',[None, 784]) # converting 28*28 to 784*1\n",
    "y = tf.placeholder('float')"
   ]
  },
  {
   "cell_type": "code",
   "execution_count": 6,
   "metadata": {},
   "outputs": [],
   "source": [
    "#input_data * weights+biases = hl1_values\n",
    "#defining neural network model\n",
    "def neural_network_model(data):\n",
    "    hidden_layer_1 = {'weights' : tf.Variable(tf.random_normal([784, nodes_hl_1])),\n",
    "                      'biases' : tf.Variable(tf.random_normal(nodes_hl_1))}\n",
    "    hidden_layer_2 = {'weights' : tf.Variable(tf.random_normal([nodes_hl_1, nodes_hl_2])),\n",
    "                      'biases' : tf.Variable(tf.random_normal(nodes_hl_2))}\n",
    "    hidden_layer_3 = {'weights' : tf.Variable(tf.random_normal([nodes_hl_2, nodes_hl_3])),\n",
    "                      'biases' : tf.Variable(tf.random_normal(nodes_hl_3))}\n",
    "    output_layer = {'weights' : tf.Variable(tf.random_normal([nodes_hl_3, n_classes])),\n",
    "                      'biases' : tf.Variable(tf.random_normal(n_classes))}\n",
    "    \n",
    "    l1 = tf.add(tf.matmul(data, hidden_layer_1['weights'] + hidden_layer_1['biases']))\n",
    "    l1 = tf.nn.relu(l1)\n",
    "    \n",
    "    l2 = tf.add(tf.matmul(l1, hidden_layer_2['weights'] + hidden_layer_2['biases']))\n",
    "    l2 = tf.nn.relu(l2)\n",
    "    \n",
    "    l3 = tf.add(tf.matmul(l2, hidden_layer_3['weights'] + hidden_layer_3['biases']))\n",
    "    l3 = tf.nn.relu(l3)\n",
    "    \n",
    "    output = tf.matmul(l2, output_layer['weights'] + output_layer['biases'])\n",
    "    \n",
    "    return output\n",
    "    "
   ]
  },
  {
   "cell_type": "code",
   "execution_count": 7,
   "metadata": {},
   "outputs": [],
   "source": [
    "#training the neural network\n",
    "def train_n_net(x):\n",
    "    prediction = neural_network_model(x)\n",
    "    cost = tf.reduce_mean(tf.nn.softmax_cross_entropy_with_logits(prediction,y))\n",
    "    #learning rate for AdamOptimizer = 0.001\n",
    "    optimizer = tf.train.AdamOptimizer().minimize(cost)\n",
    "    \n",
    "    hm_epochs = 10;\n",
    "    \n",
    "    with tf.Session as sess:\n",
    "        sess.run(tf.initialize_all_variables())\n",
    "        \n",
    "        for epoch in hm_epochs:\n",
    "            epoch_loss = 0\n",
    "            for _ in range(int(mnist.train.num_examples/batch_size)):\n",
    "                x,y = mnist.train.next_batch(batch_size)\n",
    "                \n",
    "            "
   ]
  },
  {
   "cell_type": "code",
   "execution_count": null,
   "metadata": {},
   "outputs": [],
   "source": []
  }
 ],
 "metadata": {
  "kernelspec": {
   "display_name": "Python 3",
   "language": "python",
   "name": "python3"
  },
  "language_info": {
   "codemirror_mode": {
    "name": "ipython",
    "version": 3
   },
   "file_extension": ".py",
   "mimetype": "text/x-python",
   "name": "python",
   "nbconvert_exporter": "python",
   "pygments_lexer": "ipython3",
   "version": "3.5.5"
  }
 },
 "nbformat": 4,
 "nbformat_minor": 2
}
